{
 "cells": [
  {
   "cell_type": "markdown",
   "metadata": {},
   "source": [
    "# Project 2: Supervised Learning\n",
    "### Building a Student Intervention System"
   ]
  },
  {
   "cell_type": "markdown",
   "metadata": {},
   "source": [
    "## 1. Classification vs Regression\n",
    "\n",
    "This is a [classification problem](http://scikit-learn.org/stable/tutorial/basic/tutorial.html) where we'll be primarily using scikit-learn tools for [supervised learning](http://scikit-learn.org/stable/tutorial/statistical_inference/supervised_learning.html).\n"
   ]
  },
  {
   "cell_type": "markdown",
   "metadata": {},
   "source": [
    "## 2. Exploring the Data\n",
    "\n",
    "Let's go ahead and read in the student dataset first.\n",
    "\n",
    "_To execute a code cell, click inside it and press **Shift+Enter**._"
   ]
  },
  {
   "cell_type": "code",
   "execution_count": 1,
   "metadata": {
    "collapsed": false
   },
   "outputs": [],
   "source": [
    "# Import libraries\n",
    "import numpy as np\n",
    "import pandas as pd\n",
    "from sklearn import metrics\n",
    "import matplotlib.pyplot as plt\n",
    "%matplotlib inline\n",
    "from IPython.display import display # Allows the use of display() for DataFrames"
   ]
  },
  {
   "cell_type": "code",
   "execution_count": 2,
   "metadata": {
    "collapsed": true
   },
   "outputs": [],
   "source": [
    "# store inline rc to recover defaults later\n",
    "# matplotlib defaults: mpl.rcParams.update(mpl.rcParamsDefault)\n",
    "import matplotlib as mpl\n",
    "inline_rc = dict(mpl.rcParams)"
   ]
  },
  {
   "cell_type": "code",
   "execution_count": null,
   "metadata": {
    "collapsed": true
   },
   "outputs": [],
   "source": [
    "# recover defaults from stored inline rc\n",
    "mpl.rcParams.update(inline_rc)"
   ]
  },
  {
   "cell_type": "code",
   "execution_count": 3,
   "metadata": {
    "collapsed": false
   },
   "outputs": [
    {
     "name": "stdout",
     "output_type": "stream",
     "text": [
      "Student data read successfully!\n"
     ]
    }
   ],
   "source": [
    "# Read student data\n",
    "student_data = pd.read_csv(\"student-data.csv\")\n",
    "print \"Student data read successfully!\"\n",
    "# Note: The last column 'passed' is the target/label, all other are feature columns"
   ]
  },
  {
   "cell_type": "markdown",
   "metadata": {},
   "source": [
    "Now, can you find out the following facts about the dataset?\n",
    "- Total number of students\n",
    "- Number of students who passed\n",
    "- Number of students who failed\n",
    "- Graduation rate of the class (%age)\n",
    "- Number of features\n",
    "\n",
    "_Use the code block below to compute these values. Instructions/steps are marked using **TODO**s._"
   ]
  },
  {
   "cell_type": "code",
   "execution_count": 4,
   "metadata": {
    "collapsed": false
   },
   "outputs": [
    {
     "name": "stdout",
     "output_type": "stream",
     "text": [
      "Total number of students: 395\n",
      "Number of students who passed: 265\n",
      "Number of students who failed: 130\n",
      "Number of features: 30\n",
      "Graduation rate of the class: 67.09%\n"
     ]
    }
   ],
   "source": [
    "# TODO: Compute desired values - replace each '?' with an appropriate expression/function call\n",
    "n_students = len(student_data)\n",
    "n_features = len(student_data.columns[student_data.columns != 'passed'])\n",
    "n_passed = len(student_data[student_data.passed == 'yes'])\n",
    "n_failed = len(student_data[student_data.passed == 'no'])\n",
    "grad_rate = (float(n_passed)/n_students)*100\n",
    "print \"Total number of students: {}\".format(n_students)\n",
    "print \"Number of students who passed: {}\".format(n_passed)\n",
    "print \"Number of students who failed: {}\".format(n_failed)\n",
    "print \"Number of features: {}\".format(n_features)\n",
    "print \"Graduation rate of the class: {:.2f}%\".format(grad_rate)"
   ]
  },
  {
   "cell_type": "code",
   "execution_count": 5,
   "metadata": {
    "collapsed": false
   },
   "outputs": [
    {
     "name": "stdout",
     "output_type": "stream",
     "text": [
      "\n",
      "F1 score for all 'yes' on students: 0.8030\n"
     ]
    }
   ],
   "source": [
    "# As a benchmark for our models' training, we can use the score from predicting all \"yes\" values (student passed)... \n",
    "\n",
    "from sklearn.metrics import f1_score\n",
    "print \"\\nF1 score for all 'yes' on students: {:.4f}\".format(\n",
    "    f1_score(y_true = ['yes']*n_passed + ['no']*n_failed, y_pred = ['yes']*n_students, \n",
    "             pos_label='yes', average='binary'))"
   ]
  },
  {
   "cell_type": "markdown",
   "metadata": {},
   "source": [
    "Look at some features\n",
    "---------------------"
   ]
  },
  {
   "cell_type": "markdown",
   "metadata": {},
   "source": [
    "Some strange reporting of student absences."
   ]
  },
  {
   "cell_type": "code",
   "execution_count": 6,
   "metadata": {
    "collapsed": false
   },
   "outputs": [
    {
     "data": {
      "image/png": "[encoded data removed]",
      "text/plain": [
       "<matplotlib.figure.Figure at 0x1193f5910>"
      ]
     },
     "metadata": {},
     "output_type": "display_data"
    }
   ],
   "source": [
    "import seaborn as sns\n",
    "df_all = student_data.copy()\n",
    "_ = sns.countplot(df_all['absences'])"
   ]
  },
  {
   "cell_type": "code",
   "execution_count": 13,
   "metadata": {
    "collapsed": false
   },
   "outputs": [
    {
     "name": "stdout",
     "output_type": "stream",
     "text": [
      "Grad rate of students with even absences: 72.80%\n"
     ]
    }
   ],
   "source": [
    "evens = df_all[(df_all.absences % 2 == 0) & (df_all.absences != 0)]['passed'].value_counts()\n",
    "print \"Grad rate of students with even absences: {:.2f}%\".format(100.*evens[0]/(evens[0]+evens[1]), \"%\")"
   ]
  },
  {
   "cell_type": "code",
   "execution_count": 14,
   "metadata": {
    "collapsed": false
   },
   "outputs": [
    {
     "name": "stdout",
     "output_type": "stream",
     "text": [
      "Grad rate of students with odd absences: 63.41%\n"
     ]
    }
   ],
   "source": [
    "odds = df_all[df_all.absences % 2 != 0]['passed'].value_counts()\n",
    "print \"Grad rate of students with odd absences: {:.2f}%\".format(100.*odds[0]/(odds[0]+odds[1]), \"%\")"
   ]
  },
  {
   "cell_type": "code",
   "execution_count": 15,
   "metadata": {
    "collapsed": false
   },
   "outputs": [
    {
     "name": "stdout",
     "output_type": "stream",
     "text": [
      "Grad rate of students with 0 absences: 56.52%\n"
     ]
    }
   ],
   "source": [
    "zeros = df_all[df_all.absences == 0]['passed'].value_counts()\n",
    "print \"Grad rate of students with 0 absences: {:.2f}%\".format(100.*zeros[0]/(zeros[0]+zeros[1]))"
   ]
  },
  {
   "cell_type": "markdown",
   "metadata": {},
   "source": [
    "Scatter plots\n",
    "-------------"
   ]
  },
  {
   "cell_type": "code",
   "execution_count": 10,
   "metadata": {
    "collapsed": false
   },
   "outputs": [
    {
     "data": {
      "image/png": "[encoded data removed]",
      "text/plain": [
       "<matplotlib.figure.Figure at 0x118f807d0>"
      ]
     },
     "metadata": {},
     "output_type": "display_data"
    }
   ],
   "source": [
    "# scatter plot with jitter\n",
    "# https://stanford.edu/~mwaskom/software/seaborn/generated/seaborn.stripplot.html\n",
    "plt.figure(figsize=(10,6))\n",
    "ax = sns.stripplot(x=\"age\", y=np.log(df_all.absences), hue=\"passed\", hue_order=['yes','no'],\n",
    "                   data=df_all, jitter=.1, alpha=.5, s=9*(df_all.failures+1))"
   ]
  },
  {
   "cell_type": "markdown",
   "metadata": {},
   "source": [
    "Factor plots\n",
    "------------"
   ]
  },
  {
   "cell_type": "code",
   "execution_count": 20,
   "metadata": {
    "collapsed": false
   },
   "outputs": [
    {
     "data": {
      "image/png": "[encoded data removed]",
      "text/plain": [
       "<matplotlib.figure.Figure at 0x11bc3ecd0>"
      ]
     },
     "metadata": {},
     "output_type": "display_data"
    }
   ],
   "source": [
    "_ = sns.factorplot(\"sex\", col=\"absences\", col_wrap=6,\n",
    "                   data=df_all[df_all.absences <= 17], hue='passed',\n",
    "                   kind=\"count\", size=3, aspect=.8)"
   ]
  },
  {
   "cell_type": "markdown",
   "metadata": {},
   "source": [
    "Grouped Violinplots\n",
    "--------"
   ]
  },
  {
   "cell_type": "code",
   "execution_count": 12,
   "metadata": {
    "collapsed": false
   },
   "outputs": [
    {
     "data": {
      "image/png": "[encoded data removed]",
      "text/plain": [
       "<matplotlib.figure.Figure at 0x11947bd10>"
      ]
     },
     "metadata": {},
     "output_type": "display_data"
    }
   ],
   "source": [
    "with sns.axes_style(\"whitegrid\"):\n",
    "    # Draw a nested violinplot and split the violins for easier comparison\n",
    "    sns.violinplot(x=\"sex\", y=\"age\", hue=\"passed\", data=student_data, split=True, \n",
    "                   inner=\"quart\", palette={\"yes\": \"b\", \"no\": \"r\"})\n",
    "    sns.despine(left=True)"
   ]
  },
  {
   "cell_type": "markdown",
   "metadata": {},
   "source": [
    "## 3. Preparing the Data\n",
    "In this section, we will prepare the data for modeling, training and testing.\n",
    "\n",
    "### Identify feature and target columns\n",
    "It is often the case that the data you obtain contains non-numeric features. This can be a problem, as most machine learning algorithms expect numeric data to perform computations with.\n",
    "\n",
    "Let's first separate our data into feature and target columns, and see if any features are non-numeric.<br/>\n",
    "**Note**: For this dataset, the last column (`'passed'`) is the target or label we are trying to predict."
   ]
  },
  {
   "cell_type": "code",
   "execution_count": 13,
   "metadata": {
    "collapsed": false,
    "scrolled": true
   },
   "outputs": [
    {
     "name": "stdout",
     "output_type": "stream",
     "text": [
      "Feature column(s):-\n",
      "['school', 'sex', 'age', 'address', 'famsize', 'Pstatus', 'Medu', 'Fedu', 'Mjob', 'Fjob', 'reason', 'guardian', 'traveltime', 'studytime', 'failures', 'schoolsup', 'famsup', 'paid', 'activities', 'nursery', 'higher', 'internet', 'romantic', 'famrel', 'freetime', 'goout', 'Dalc', 'Walc', 'health', 'absences']\n",
      "Target column: passed\n",
      "\n",
      "Feature values:-\n"
     ]
    },
    {
     "data": {
      "text/html": [
       "<div>\n",
       "<table border=\"1\" class=\"dataframe\">\n",
       "  <thead>\n",
       "    <tr style=\"text-align: right;\">\n",
       "      <th></th>\n",
       "      <th>school</th>\n",
       "      <th>sex</th>\n",
       "      <th>age</th>\n",
       "      <th>address</th>\n",
       "      <th>famsize</th>\n",
       "      <th>Pstatus</th>\n",
       "      <th>Medu</th>\n",
       "      <th>Fedu</th>\n",
       "      <th>Mjob</th>\n",
       "      <th>Fjob</th>\n",
       "      <th>...</th>\n",
       "      <th>higher</th>\n",
       "      <th>internet</th>\n",
       "      <th>romantic</th>\n",
       "      <th>famrel</th>\n",
       "      <th>freetime</th>\n",
       "      <th>goout</th>\n",
       "      <th>Dalc</th>\n",
       "      <th>Walc</th>\n",
       "      <th>health</th>\n",
       "      <th>absences</th>\n",
       "    </tr>\n",
       "  </thead>\n",
       "  <tbody>\n",
       "    <tr>\n",
       "      <th>0</th>\n",
       "      <td>GP</td>\n",
       "      <td>F</td>\n",
       "      <td>18</td>\n",
       "      <td>U</td>\n",
       "      <td>GT3</td>\n",
       "      <td>A</td>\n",
       "      <td>4</td>\n",
       "      <td>4</td>\n",
       "      <td>at_home</td>\n",
       "      <td>teacher</td>\n",
       "      <td>...</td>\n",
       "      <td>yes</td>\n",
       "      <td>no</td>\n",
       "      <td>no</td>\n",
       "      <td>4</td>\n",
       "      <td>3</td>\n",
       "      <td>4</td>\n",
       "      <td>1</td>\n",
       "      <td>1</td>\n",
       "      <td>3</td>\n",
       "      <td>6</td>\n",
       "    </tr>\n",
       "    <tr>\n",
       "      <th>1</th>\n",
       "      <td>GP</td>\n",
       "      <td>F</td>\n",
       "      <td>17</td>\n",
       "      <td>U</td>\n",
       "      <td>GT3</td>\n",
       "      <td>T</td>\n",
       "      <td>1</td>\n",
       "      <td>1</td>\n",
       "      <td>at_home</td>\n",
       "      <td>other</td>\n",
       "      <td>...</td>\n",
       "      <td>yes</td>\n",
       "      <td>yes</td>\n",
       "      <td>no</td>\n",
       "      <td>5</td>\n",
       "      <td>3</td>\n",
       "      <td>3</td>\n",
       "      <td>1</td>\n",
       "      <td>1</td>\n",
       "      <td>3</td>\n",
       "      <td>4</td>\n",
       "    </tr>\n",
       "    <tr>\n",
       "      <th>2</th>\n",
       "      <td>GP</td>\n",
       "      <td>F</td>\n",
       "      <td>15</td>\n",
       "      <td>U</td>\n",
       "      <td>LE3</td>\n",
       "      <td>T</td>\n",
       "      <td>1</td>\n",
       "      <td>1</td>\n",
       "      <td>at_home</td>\n",
       "      <td>other</td>\n",
       "      <td>...</td>\n",
       "      <td>yes</td>\n",
       "      <td>yes</td>\n",
       "      <td>no</td>\n",
       "      <td>4</td>\n",
       "      <td>3</td>\n",
       "      <td>2</td>\n",
       "      <td>2</td>\n",
       "      <td>3</td>\n",
       "      <td>3</td>\n",
       "      <td>10</td>\n",
       "    </tr>\n",
       "    <tr>\n",
       "      <th>3</th>\n",
       "      <td>GP</td>\n",
       "      <td>F</td>\n",
       "      <td>15</td>\n",
       "      <td>U</td>\n",
       "      <td>GT3</td>\n",
       "      <td>T</td>\n",
       "      <td>4</td>\n",
       "      <td>2</td>\n",
       "      <td>health</td>\n",
       "      <td>services</td>\n",
       "      <td>...</td>\n",
       "      <td>yes</td>\n",
       "      <td>yes</td>\n",
       "      <td>yes</td>\n",
       "      <td>3</td>\n",
       "      <td>2</td>\n",
       "      <td>2</td>\n",
       "      <td>1</td>\n",
       "      <td>1</td>\n",
       "      <td>5</td>\n",
       "      <td>2</td>\n",
       "    </tr>\n",
       "    <tr>\n",
       "      <th>4</th>\n",
       "      <td>GP</td>\n",
       "      <td>F</td>\n",
       "      <td>16</td>\n",
       "      <td>U</td>\n",
       "      <td>GT3</td>\n",
       "      <td>T</td>\n",
       "      <td>3</td>\n",
       "      <td>3</td>\n",
       "      <td>other</td>\n",
       "      <td>other</td>\n",
       "      <td>...</td>\n",
       "      <td>yes</td>\n",
       "      <td>no</td>\n",
       "      <td>no</td>\n",
       "      <td>4</td>\n",
       "      <td>3</td>\n",
       "      <td>2</td>\n",
       "      <td>1</td>\n",
       "      <td>2</td>\n",
       "      <td>5</td>\n",
       "      <td>4</td>\n",
       "    </tr>\n",
       "  </tbody>\n",
       "</table>\n",
       "<p>5 rows × 30 columns</p>\n",
       "</div>"
      ],
      "text/plain": [
       "  school sex  age address famsize Pstatus  Medu  Fedu     Mjob      Fjob  \\\n",
       "0     GP   F   18       U     GT3       A     4     4  at_home   teacher   \n",
       "1     GP   F   17       U     GT3       T     1     1  at_home     other   \n",
       "2     GP   F   15       U     LE3       T     1     1  at_home     other   \n",
       "3     GP   F   15       U     GT3       T     4     2   health  services   \n",
       "4     GP   F   16       U     GT3       T     3     3    other     other   \n",
       "\n",
       "    ...    higher internet  romantic  famrel  freetime goout Dalc Walc health  \\\n",
       "0   ...       yes       no        no       4         3     4    1    1      3   \n",
       "1   ...       yes      yes        no       5         3     3    1    1      3   \n",
       "2   ...       yes      yes        no       4         3     2    2    3      3   \n",
       "3   ...       yes      yes       yes       3         2     2    1    1      5   \n",
       "4   ...       yes       no        no       4         3     2    1    2      5   \n",
       "\n",
       "  absences  \n",
       "0        6  \n",
       "1        4  \n",
       "2       10  \n",
       "3        2  \n",
       "4        4  \n",
       "\n",
       "[5 rows x 30 columns]"
      ]
     },
     "metadata": {},
     "output_type": "display_data"
    }
   ],
   "source": [
    "# Extract feature (X) and target (y) columns\n",
    "feature_cols = list(student_data.columns[:-1])  # all columns but last are features\n",
    "target_col = student_data.columns[-1]  # last column is the target/label\n",
    "print \"Feature column(s):-\\n{}\".format(feature_cols)\n",
    "print \"Target column: {}\".format(target_col)\n",
    "\n",
    "X_all = student_data[feature_cols]  # feature values for all students\n",
    "y_all = student_data[target_col]  # corresponding targets/labels\n",
    "print \"\\nFeature values:-\"\n",
    "display(X_all.head())"
   ]
  },
  {
   "cell_type": "markdown",
   "metadata": {},
   "source": [
    "### Preprocess feature columns\n",
    "\n",
    "As you can see, there are several non-numeric columns that need to be converted! Many of them are simply `yes`/`no`, e.g. `internet`. These can be reasonably converted into `1`/`0` (binary) values.\n",
    "\n",
    "Other columns, like `Mjob` and `Fjob`, have more than two values, and are known as _categorical variables_. The recommended way to handle such a column is to create as many columns as possible values (e.g. `Fjob_teacher`, `Fjob_other`, `Fjob_services`, etc.), and assign a `1` to one of them and `0` to all others.\n",
    "\n",
    "These generated columns are sometimes called _dummy variables_, and we will use the [`pandas.get_dummies()`](http://pandas.pydata.org/pandas-docs/stable/generated/pandas.get_dummies.html?highlight=get_dummies#pandas.get_dummies) function to perform this transformation."
   ]
  },
  {
   "cell_type": "code",
   "execution_count": 14,
   "metadata": {
    "collapsed": false
   },
   "outputs": [
    {
     "name": "stdout",
     "output_type": "stream",
     "text": [
      "Processed feature columns (48):-\n",
      "['school_GP', 'school_MS', 'sex_F', 'sex_M', 'age', 'address_R', 'address_U', 'famsize_GT3', 'famsize_LE3', 'Pstatus_A', 'Pstatus_T', 'Medu', 'Fedu', 'Mjob_at_home', 'Mjob_health', 'Mjob_other', 'Mjob_services', 'Mjob_teacher', 'Fjob_at_home', 'Fjob_health', 'Fjob_other', 'Fjob_services', 'Fjob_teacher', 'reason_course', 'reason_home', 'reason_other', 'reason_reputation', 'guardian_father', 'guardian_mother', 'guardian_other', 'traveltime', 'studytime', 'failures', 'schoolsup', 'famsup', 'paid', 'activities', 'nursery', 'higher', 'internet', 'romantic', 'famrel', 'freetime', 'goout', 'Dalc', 'Walc', 'health', 'absences']\n"
     ]
    }
   ],
   "source": [
    "# Preprocess feature columns\n",
    "def preprocess_features(X):\n",
    "    outX = pd.DataFrame(index=X.index)  # output dataframe, initially empty\n",
    "\n",
    "    # Check each column\n",
    "    for col, col_data in X.iteritems():\n",
    "        # If data type is non-numeric, try to replace all yes/no values with 1/0\n",
    "        if col_data.dtype == object:\n",
    "            col_data = col_data.replace(['yes', 'no'], [1, 0])\n",
    "        # Note: This should change the data type for yes/no columns to int\n",
    "\n",
    "        # If still non-numeric, convert to one or more dummy variables\n",
    "        if col_data.dtype == object:\n",
    "            col_data = pd.get_dummies(col_data, prefix=col)  # e.g. 'school' => 'school_GP', 'school_MS'\n",
    "\n",
    "        outX = outX.join(col_data)  # collect column(s) in output dataframe\n",
    "\n",
    "    return outX\n",
    "\n",
    "X_all = preprocess_features(X_all)\n",
    "print \"Processed feature columns ({}):-\\n{}\".format(len(X_all.columns), list(X_all.columns))"
   ]
  },
  {
   "cell_type": "markdown",
   "metadata": {},
   "source": [
    "### Split data into training and test sets\n",
    "\n",
    "So far, we have converted all _categorical_ features into numeric values. In this next step, we split the data (both features and corresponding labels) into training and test sets."
   ]
  },
  {
   "cell_type": "code",
   "execution_count": 15,
   "metadata": {
    "collapsed": false
   },
   "outputs": [
    {
     "name": "stdout",
     "output_type": "stream",
     "text": [
      "Training set: 300 samples\n",
      "Test set: 95 samples\n",
      "\n",
      "Training set grad rate: 0.67\n",
      "Test set grad rate: 0.673684210526\n"
     ]
    }
   ],
   "source": [
    "from sklearn import cross_validation\n",
    "\n",
    "# First, decide how many training vs test samples you want\n",
    "num_all = student_data.shape[0]  # same as len(student_data)\n",
    "num_train = 300  # about 75% of the data\n",
    "num_test = num_all - num_train\n",
    "\n",
    "# TODO: Then, select features (X) and corresponding labels (y) for the training and test sets\n",
    "# Note: If you need a validation set, extract it from within training data\n",
    "# Note: Shuffle the data or randomly select samples to avoid any bias due to ordering in the dataset\n",
    "X_train, X_test, y_train, y_test = cross_validation.train_test_split(X_all, y_all, stratify=y_all,\n",
    "                                                                     test_size=num_test, random_state=0)\n",
    "\n",
    "print \"Training set: {} samples\".format(X_train.shape[0])\n",
    "print \"Test set: {} samples\".format(X_test.shape[0])\n",
    "\n",
    "print '\\nTraining set grad rate: {}'.format(np.true_divide(sum(y_train=='yes'), len(y_train)))\n",
    "print 'Test set grad rate: {}'.format(np.true_divide(sum(y_test=='yes'), len(y_test)))\n"
   ]
  },
  {
   "cell_type": "markdown",
   "metadata": {},
   "source": [
    "## 4. Training and Evaluating Models\n",
    "Choose 3 supervised learning models that are available in scikit-learn, and appropriate for this problem. For each model:\n",
    "\n",
    "- What is the theoretical O(n) time & space complexity in terms of input size?\n",
    "- What are the general applications of this model? What are its strengths and weaknesses?\n",
    "- Given what you know about the data so far, why did you choose this model to apply?\n",
    "- Fit this model to the training data, try to predict labels (for both training and test sets), and measure the F<sub>1</sub> score. Repeat this process with different training set sizes (100, 200, 300), keeping test set constant.\n",
    "\n",
    "Produce a table showing training time, prediction time, F<sub>1</sub> score on training set and F<sub>1</sub> score on test set, for each training set size.\n",
    "\n",
    "Note: You need to produce 3 such tables - one for each model."
   ]
  },
  {
   "cell_type": "markdown",
   "metadata": {},
   "source": [
    "### Model #1: Logistic regression"
   ]
  },
  {
   "cell_type": "code",
   "execution_count": 17,
   "metadata": {
    "collapsed": false
   },
   "outputs": [
    {
     "name": "stdout",
     "output_type": "stream",
     "text": [
      "Training LogisticRegression...\n",
      "Done!\n",
      "Training time (secs): 0.008\n"
     ]
    }
   ],
   "source": [
    "# Train a model\n",
    "import time\n",
    "\n",
    "def train_classifier(clf, X_train, y_train):\n",
    "    print \"Training {}...\".format(clf.__class__.__name__)\n",
    "    start = time.time()\n",
    "    clf.fit(X_train, y_train)\n",
    "    end = time.time()\n",
    "    print \"Done!\\nTraining time (secs): {:.3f}\".format(end - start)\n",
    "\n",
    "# TODO: Choose a model, import it and instantiate an object\n",
    "# Logistic regression model\n",
    "from  sklearn import linear_model\n",
    "clf = linear_model.LogisticRegression(random_state=0)\n",
    "\n",
    "# Fit model to training data\n",
    "train_classifier(clf, X_train, y_train)  # note: using entire training set here\n",
    "#print clf  # you can inspect the learned model by printing it"
   ]
  },
  {
   "cell_type": "code",
   "execution_count": 18,
   "metadata": {
    "collapsed": false
   },
   "outputs": [
    {
     "name": "stdout",
     "output_type": "stream",
     "text": [
      "Predicting labels using LogisticRegression...\n",
      "Done!\n",
      "Prediction time (secs): 0.001\n",
      "F1 score for training set: 0.8402\n"
     ]
    }
   ],
   "source": [
    "# Predict on training set and compute F1 score\n",
    "from sklearn.metrics import f1_score\n",
    "\n",
    "def predict_labels(clf, features, target):\n",
    "    print \"Predicting labels using {}...\".format(clf.__class__.__name__)\n",
    "    start = time.time()\n",
    "    y_pred = clf.predict(features)\n",
    "    end = time.time()\n",
    "    print \"Done!\\nPrediction time (secs): {:.3f}\".format(end - start)\n",
    "    return f1_score(target.values, y_pred, pos_label='yes')\n",
    "\n",
    "train_f1_score = predict_labels(clf, X_train, y_train)\n",
    "print \"F1 score for training set: {:.4f}\".format(train_f1_score)"
   ]
  },
  {
   "cell_type": "code",
   "execution_count": 19,
   "metadata": {
    "collapsed": false
   },
   "outputs": [
    {
     "name": "stdout",
     "output_type": "stream",
     "text": [
      "Predicting labels using LogisticRegression...\n",
      "Done!\n",
      "Prediction time (secs): 0.000\n",
      "F1 score for test set: 0.7770\n"
     ]
    }
   ],
   "source": [
    "# Predict on test data\n",
    "print \"F1 score for test set: {:.4f}\".format(predict_labels(clf, X_test, y_test))"
   ]
  },
  {
   "cell_type": "code",
   "execution_count": 20,
   "metadata": {
    "collapsed": false,
    "scrolled": true
   },
   "outputs": [
    {
     "name": "stdout",
     "output_type": "stream",
     "text": [
      "------------------------------------------\n",
      "Training set size: 100\n",
      "Training LogisticRegression...\n",
      "Done!\n",
      "Training time (secs): 0.002\n",
      "Predicting labels using LogisticRegression...\n",
      "Done!\n",
      "Prediction time (secs): 0.000\n",
      "F1 score for training set: 0.875912408759\n",
      "Predicting labels using LogisticRegression...\n",
      "Done!\n",
      "Prediction time (secs): 0.000\n",
      "F1 score for test set: 0.75\n",
      "------------------------------------------\n",
      "Training set size: 200\n",
      "Training LogisticRegression...\n",
      "Done!\n",
      "Training time (secs): 0.002\n",
      "Predicting labels using LogisticRegression...\n",
      "Done!\n",
      "Prediction time (secs): 0.000\n",
      "F1 score for training set: 0.853242320819\n",
      "Predicting labels using LogisticRegression...\n",
      "Done!\n",
      "Prediction time (secs): 0.000\n",
      "F1 score for test set: 0.808510638298\n",
      "------------------------------------------\n",
      "Training set size: 300\n",
      "Training LogisticRegression...\n",
      "Done!\n",
      "Training time (secs): 0.003\n",
      "Predicting labels using LogisticRegression...\n",
      "Done!\n",
      "Prediction time (secs): 0.000\n",
      "F1 score for training set: 0.840182648402\n",
      "Predicting labels using LogisticRegression...\n",
      "Done!\n",
      "Prediction time (secs): 0.000\n",
      "F1 score for test set: 0.776978417266\n"
     ]
    }
   ],
   "source": [
    "# Train and predict using different training set sizes\n",
    "def train_predict(clf, X_train, y_train, X_test, y_test):\n",
    "    print \"------------------------------------------\"\n",
    "    print \"Training set size: {}\".format(len(X_train))\n",
    "    train_classifier(clf, X_train, y_train)\n",
    "    print \"F1 score for training set: {}\".format(predict_labels(clf, X_train, y_train))\n",
    "    print \"F1 score for test set: {}\".format(predict_labels(clf, X_test, y_test))\n",
    "\n",
    "# TODO: Run the helper function above for desired subsets of training data\n",
    "# Note: Keep the test set constant\n",
    "def train_predict_size(clf, size):\n",
    "    subsets = np.linspace(len(X_train)/size, len(X_train), size, dtype=int)\n",
    "    for i,s in enumerate(subsets):\n",
    "        train_predict(clf, X_train[:s], y_train[:s], X_test, y_test)\n",
    "\n",
    "train_predict_size(clf, 3)"
   ]
  },
  {
   "cell_type": "markdown",
   "metadata": {},
   "source": [
    "Tabular results\n",
    "---------------"
   ]
  },
  {
   "cell_type": "code",
   "execution_count": 21,
   "metadata": {
    "collapsed": true
   },
   "outputs": [],
   "source": [
    "# helper function to train all the models and training set sizes\n",
    "def train_predict_helper(clf, X_train, y_train, X_test, y_test):\n",
    "    \n",
    "    # fit training data\n",
    "    start = time.time()\n",
    "    clf.fit(X_train, y_train)\n",
    "    end = time.time()\n",
    "    \n",
    "    # get training time and score\n",
    "    time_train = end-start\n",
    "    y_pred = clf.predict(X_train)\n",
    "    f1_train = f1_score(y_train, y_pred, pos_label='yes', average='binary')\n",
    "    \n",
    "    # predict the test data\n",
    "    start = time.time()\n",
    "    y_pred = clf.predict(X_test)\n",
    "    end = time.time()\n",
    "    \n",
    "    # get training time and score\n",
    "    time_test = end-start\n",
    "    f1_test = f1_score(y_test, y_pred, pos_label='yes', average='binary')\n",
    "    \n",
    "    return time_train, time_test, f1_train, f1_test"
   ]
  },
  {
   "cell_type": "code",
   "execution_count": 22,
   "metadata": {
    "collapsed": false,
    "scrolled": false
   },
   "outputs": [
    {
     "name": "stdout",
     "output_type": "stream",
     "text": [
      "\n",
      "\n",
      "LogisticRegression\n"
     ]
    },
    {
     "data": {
      "text/html": [
       "<div>\n",
       "<table border=\"1\" class=\"dataframe\">\n",
       "  <thead>\n",
       "    <tr style=\"text-align: right;\">\n",
       "      <th></th>\n",
       "      <th>Training Set Size</th>\n",
       "      <th>Time to Train</th>\n",
       "      <th>Time to Predict</th>\n",
       "      <th>F1 Train</th>\n",
       "      <th>F1 Test</th>\n",
       "    </tr>\n",
       "  </thead>\n",
       "  <tbody>\n",
       "    <tr>\n",
       "      <th>0</th>\n",
       "      <td>100</td>\n",
       "      <td>0.005377</td>\n",
       "      <td>0.001111</td>\n",
       "      <td>0.875912</td>\n",
       "      <td>0.750000</td>\n",
       "    </tr>\n",
       "    <tr>\n",
       "      <th>1</th>\n",
       "      <td>150</td>\n",
       "      <td>0.001824</td>\n",
       "      <td>0.000185</td>\n",
       "      <td>0.858537</td>\n",
       "      <td>0.763359</td>\n",
       "    </tr>\n",
       "    <tr>\n",
       "      <th>2</th>\n",
       "      <td>200</td>\n",
       "      <td>0.001875</td>\n",
       "      <td>0.000179</td>\n",
       "      <td>0.853242</td>\n",
       "      <td>0.808511</td>\n",
       "    </tr>\n",
       "    <tr>\n",
       "      <th>3</th>\n",
       "      <td>250</td>\n",
       "      <td>0.002238</td>\n",
       "      <td>0.000172</td>\n",
       "      <td>0.844920</td>\n",
       "      <td>0.794326</td>\n",
       "    </tr>\n",
       "    <tr>\n",
       "      <th>4</th>\n",
       "      <td>300</td>\n",
       "      <td>0.002690</td>\n",
       "      <td>0.000139</td>\n",
       "      <td>0.840183</td>\n",
       "      <td>0.776978</td>\n",
       "    </tr>\n",
       "  </tbody>\n",
       "</table>\n",
       "</div>"
      ],
      "text/plain": [
       "   Training Set Size  Time to Train  Time to Predict  F1 Train   F1 Test\n",
       "0                100       0.005377         0.001111  0.875912  0.750000\n",
       "1                150       0.001824         0.000185  0.858537  0.763359\n",
       "2                200       0.001875         0.000179  0.853242  0.808511\n",
       "3                250       0.002238         0.000172  0.844920  0.794326\n",
       "4                300       0.002690         0.000139  0.840183  0.776978"
      ]
     },
     "metadata": {},
     "output_type": "display_data"
    },
    {
     "name": "stdout",
     "output_type": "stream",
     "text": [
      "\n",
      "\n",
      "SVC\n"
     ]
    },
    {
     "data": {
      "text/html": [
       "<div>\n",
       "<table border=\"1\" class=\"dataframe\">\n",
       "  <thead>\n",
       "    <tr style=\"text-align: right;\">\n",
       "      <th></th>\n",
       "      <th>Training Set Size</th>\n",
       "      <th>Time to Train</th>\n",
       "      <th>Time to Predict</th>\n",
       "      <th>F1 Train</th>\n",
       "      <th>F1 Test</th>\n",
       "    </tr>\n",
       "  </thead>\n",
       "  <tbody>\n",
       "    <tr>\n",
       "      <th>0</th>\n",
       "      <td>100</td>\n",
       "      <td>0.002428</td>\n",
       "      <td>0.001460</td>\n",
       "      <td>0.891892</td>\n",
       "      <td>0.773723</td>\n",
       "    </tr>\n",
       "    <tr>\n",
       "      <th>1</th>\n",
       "      <td>150</td>\n",
       "      <td>0.001884</td>\n",
       "      <td>0.000888</td>\n",
       "      <td>0.895928</td>\n",
       "      <td>0.782609</td>\n",
       "    </tr>\n",
       "    <tr>\n",
       "      <th>2</th>\n",
       "      <td>200</td>\n",
       "      <td>0.003113</td>\n",
       "      <td>0.001366</td>\n",
       "      <td>0.879479</td>\n",
       "      <td>0.818182</td>\n",
       "    </tr>\n",
       "    <tr>\n",
       "      <th>3</th>\n",
       "      <td>250</td>\n",
       "      <td>0.005027</td>\n",
       "      <td>0.001352</td>\n",
       "      <td>0.863636</td>\n",
       "      <td>0.807692</td>\n",
       "    </tr>\n",
       "    <tr>\n",
       "      <th>4</th>\n",
       "      <td>300</td>\n",
       "      <td>0.006175</td>\n",
       "      <td>0.001781</td>\n",
       "      <td>0.866379</td>\n",
       "      <td>0.828947</td>\n",
       "    </tr>\n",
       "  </tbody>\n",
       "</table>\n",
       "</div>"
      ],
      "text/plain": [
       "   Training Set Size  Time to Train  Time to Predict  F1 Train   F1 Test\n",
       "0                100       0.002428         0.001460  0.891892  0.773723\n",
       "1                150       0.001884         0.000888  0.895928  0.782609\n",
       "2                200       0.003113         0.001366  0.879479  0.818182\n",
       "3                250       0.005027         0.001352  0.863636  0.807692\n",
       "4                300       0.006175         0.001781  0.866379  0.828947"
      ]
     },
     "metadata": {},
     "output_type": "display_data"
    },
    {
     "name": "stdout",
     "output_type": "stream",
     "text": [
      "\n",
      "\n",
      "KNeighborsClassifier\n"
     ]
    },
    {
     "data": {
      "text/html": [
       "<div>\n",
       "<table border=\"1\" class=\"dataframe\">\n",
       "  <thead>\n",
       "    <tr style=\"text-align: right;\">\n",
       "      <th></th>\n",
       "      <th>Training Set Size</th>\n",
       "      <th>Time to Train</th>\n",
       "      <th>Time to Predict</th>\n",
       "      <th>F1 Train</th>\n",
       "      <th>F1 Test</th>\n",
       "    </tr>\n",
       "  </thead>\n",
       "  <tbody>\n",
       "    <tr>\n",
       "      <th>0</th>\n",
       "      <td>100</td>\n",
       "      <td>0.006822</td>\n",
       "      <td>0.001258</td>\n",
       "      <td>0.859155</td>\n",
       "      <td>0.791045</td>\n",
       "    </tr>\n",
       "    <tr>\n",
       "      <th>1</th>\n",
       "      <td>150</td>\n",
       "      <td>0.000589</td>\n",
       "      <td>0.001302</td>\n",
       "      <td>0.851852</td>\n",
       "      <td>0.779412</td>\n",
       "    </tr>\n",
       "    <tr>\n",
       "      <th>2</th>\n",
       "      <td>200</td>\n",
       "      <td>0.000600</td>\n",
       "      <td>0.001412</td>\n",
       "      <td>0.842466</td>\n",
       "      <td>0.794118</td>\n",
       "    </tr>\n",
       "    <tr>\n",
       "      <th>3</th>\n",
       "      <td>250</td>\n",
       "      <td>0.000632</td>\n",
       "      <td>0.001732</td>\n",
       "      <td>0.850949</td>\n",
       "      <td>0.785714</td>\n",
       "    </tr>\n",
       "    <tr>\n",
       "      <th>4</th>\n",
       "      <td>300</td>\n",
       "      <td>0.000687</td>\n",
       "      <td>0.003338</td>\n",
       "      <td>0.868778</td>\n",
       "      <td>0.771429</td>\n",
       "    </tr>\n",
       "  </tbody>\n",
       "</table>\n",
       "</div>"
      ],
      "text/plain": [
       "   Training Set Size  Time to Train  Time to Predict  F1 Train   F1 Test\n",
       "0                100       0.006822         0.001258  0.859155  0.791045\n",
       "1                150       0.000589         0.001302  0.851852  0.779412\n",
       "2                200       0.000600         0.001412  0.842466  0.794118\n",
       "3                250       0.000632         0.001732  0.850949  0.785714\n",
       "4                300       0.000687         0.003338  0.868778  0.771429"
      ]
     },
     "metadata": {},
     "output_type": "display_data"
    }
   ],
   "source": [
    "from sklearn import linear_model\n",
    "from sklearn.svm import SVC\n",
    "from sklearn.neighbors import KNeighborsClassifier\n",
    "from IPython.display import display # Allows the use of display() for DataFrames\n",
    "\n",
    "# Train and predict the models\n",
    "rand = 42\n",
    "clf_A = linear_model.LogisticRegression(random_state=rand)\n",
    "clf_B = SVC(random_state=rand)\n",
    "clf_C = KNeighborsClassifier()\n",
    "classifiers = [clf_A, clf_B, clf_C ]\n",
    "train_sizes = [100,150,200,250,300]\n",
    "clf_scores = pd.DataFrame(columns=['Training Set Size','F1 Train', 'F1 Test', 'Model'])\n",
    "\n",
    "for clf in classifiers:\n",
    "    # placeholders for our results\n",
    "    numtrain=[]\n",
    "    time_train=[]\n",
    "    time_test=[]\n",
    "    f1_train=[]\n",
    "    f1_test=[]\n",
    "    \n",
    "    # output the name of each classifier trained\n",
    "    print \"\\n\\n{}\".format(clf.__class__.__name__)\n",
    "    \n",
    "    for n in train_sizes:\n",
    "        numtrain.append(n)\n",
    "        \n",
    "        # get results for the classifier with training size n\n",
    "        out = train_predict_helper(clf, X_train[:n], y_train[:n], X_test, y_test)\n",
    "        \n",
    "        time_train.append(out[0])\n",
    "        time_test.append(out[1])\n",
    "        f1_train.append(out[2])\n",
    "        f1_test.append(out[3])\n",
    "\n",
    "    results={'Training Set Size':train_sizes,\n",
    "             'Time to Train':time_train,\n",
    "             'Time to Predict':time_test,\n",
    "             'F1 Train':f1_train,\n",
    "             'F1 Test':f1_test}\n",
    "\n",
    "    df_results = pd.DataFrame(data = results, columns = ['Training Set Size','Time to Train',\n",
    "                                                             'Time to Predict','F1 Train','F1 Test'])\n",
    "    # show the results of models trained\n",
    "    display(df_results)\n",
    "    df_results['Model'] = clf.__class__.__name__\n",
    "    clf_scores = clf_scores.append(df_results[['Training Set Size','F1 Train', 'F1 Test', 'Model']])"
   ]
  },
  {
   "cell_type": "markdown",
   "metadata": {},
   "source": [
    "## Plot of training results"
   ]
  },
  {
   "cell_type": "code",
   "execution_count": 23,
   "metadata": {
    "collapsed": false
   },
   "outputs": [
    {
     "data": {
      "image/png": "[encoded data removed]",
      "text/plain": [
       "<matplotlib.figure.Figure at 0x11a29ba10>"
      ]
     },
     "metadata": {},
     "output_type": "display_data"
    },
    {
     "data": {
      "image/png": "[encoded data removed]",
      "text/plain": [
       "<matplotlib.figure.Figure at 0x11a529550>"
      ]
     },
     "metadata": {},
     "output_type": "display_data"
    },
    {
     "data": {
      "image/png": "[encoded data removed]",
      "text/plain": [
       "<matplotlib.figure.Figure at 0x11a545b50>"
      ]
     },
     "metadata": {},
     "output_type": "display_data"
    }
   ],
   "source": [
    "for clf in [clf_A, clf_B, clf_C]:\n",
    "    clf_name = clf.__class__.__name__\n",
    "    ax = clf_scores[clf_scores.Model==clf_name].plot(x='Training Set Size', \n",
    "                                                     y= ['F1 Train', 'F1 Test']);\n",
    "    ax.set_title(clf_name)"
   ]
  },
  {
   "cell_type": "markdown",
   "metadata": {},
   "source": [
    "Plot learning curves\n",
    "---------------\n",
    "http://scikit-learn.org/stable/auto_examples/model_selection/plot_learning_curve.html"
   ]
  },
  {
   "cell_type": "code",
   "execution_count": 99,
   "metadata": {
    "collapsed": true
   },
   "outputs": [],
   "source": [
    "from sklearn.learning_curve import learning_curve\n",
    "\n",
    "def plot_learning_curve(estimator, title, X, y, ylim=None, cv=None, n_jobs=1,\n",
    "                        scorer= None, train_sizes=np.linspace(.1, 1.0, 5)):\n",
    "    \"\"\"\n",
    "    Generate a simple plot of the test and traning learning curve.\n",
    "\n",
    "    Parameters\n",
    "    ----------\n",
    "    estimator : object type that implements the \"fit\" and \"predict\" methods\n",
    "        An object of that type which is cloned for each validation.\n",
    "\n",
    "    title : string\n",
    "        Title for the chart.\n",
    "\n",
    "    X : array-like, shape (n_samples, n_features)\n",
    "        Training vector, where n_samples is the number of samples and\n",
    "        n_features is the number of features.\n",
    "\n",
    "    y : array-like, shape (n_samples) or (n_samples, n_features), optional\n",
    "        Target relative to X for classification or regression;\n",
    "        None for unsupervised learning.\n",
    "\n",
    "    ylim : tuple, shape (ymin, ymax), optional\n",
    "        Defines minimum and maximum yvalues plotted.\n",
    "\n",
    "    cv : integer, cross-validation generator, optional\n",
    "        If an integer is passed, it is the number of folds (defaults to 3).\n",
    "        Specific cross-validation objects can be passed, see\n",
    "        sklearn.cross_validation module for the list of possible objects\n",
    "\n",
    "    n_jobs : integer, optional\n",
    "        Number of jobs to run in parallel (default 1).\n",
    "    \"\"\"\n",
    "    plt.figure()\n",
    "    plt.title(title)\n",
    "    if ylim is not None:\n",
    "        plt.ylim(*ylim)\n",
    "    plt.xlabel(\"Training examples\")\n",
    "    plt.ylabel(\"Score\")\n",
    "    train_sizes, train_scores, test_scores = learning_curve(\n",
    "        estimator, X, y, cv=cv, n_jobs=n_jobs, \n",
    "        train_sizes=train_sizes, scoring=scorer)\n",
    "    train_scores_mean = np.mean(train_scores, axis=1)\n",
    "    train_scores_std = np.std(train_scores, axis=1)\n",
    "    test_scores_mean = np.mean(test_scores, axis=1)\n",
    "    test_scores_std = np.std(test_scores, axis=1)\n",
    "    plt.grid()\n",
    "\n",
    "    plt.fill_between(train_sizes, train_scores_mean - train_scores_std,\n",
    "                     train_scores_mean + train_scores_std, alpha=0.1,\n",
    "                     color=\"r\")\n",
    "    plt.fill_between(train_sizes, test_scores_mean - test_scores_std,\n",
    "                     test_scores_mean + test_scores_std, alpha=0.1, color=\"g\")\n",
    "    plt.plot(train_sizes, train_scores_mean, 'o-', color=\"r\",\n",
    "             label=\"Training score\")\n",
    "    plt.plot(train_sizes, test_scores_mean, 'o-', color=\"g\",\n",
    "             label=\"Cross-validation score\")\n",
    "\n",
    "    plt.legend(loc=\"best\")\n",
    "    return plt"
   ]
  },
  {
   "cell_type": "code",
   "execution_count": 100,
   "metadata": {
    "collapsed": false
   },
   "outputs": [
    {
     "data": {
      "image/png": "[encoded data removed]",
      "text/plain": [
       "<matplotlib.figure.Figure at 0x11ad40210>"
      ]
     },
     "metadata": {},
     "output_type": "display_data"
    },
    {
     "data": {
      "image/png": "[encoded data removed]",
      "text/plain": [
       "<matplotlib.figure.Figure at 0x11b489d10>"
      ]
     },
     "metadata": {},
     "output_type": "display_data"
    },
    {
     "data": {
      "image/png": "[encoded data removed]",
      "text/plain": [
       "<matplotlib.figure.Figure at 0x11b489a90>"
      ]
     },
     "metadata": {},
     "output_type": "display_data"
    }
   ],
   "source": [
    "from sklearn.metrics import make_scorer\n",
    "\n",
    "# Use F1 metric\n",
    "f1_scorer = make_scorer(f1_score, greater_is_better=True, pos_label='yes')\n",
    "\n",
    "# Cross validation with 100 iterations to get smoother mean test and train\n",
    "# score curves, each time with 20% data randomly selected as a validation set.\n",
    "cv = cross_validation.ShuffleSplit(X_train.shape[0], n_iter=100,\n",
    "                                   test_size=0.1, random_state=0)\n",
    "\n",
    "# Plot the curves\n",
    "for clf in [clf_A, clf_B, clf_C]:\n",
    "    title = 'Learning Curves: {}'.format(clf.__class__.__name__)\n",
    "    _ = plot_learning_curve(clf_A, title, X_train, y_train, ylim=(0.6, 1.01), cv=cv, n_jobs=4, scorer=f1_scorer)"
   ]
  },
  {
   "cell_type": "markdown",
   "metadata": {},
   "source": [
    "## 5. Choosing the Best Model\n",
    "\n",
    "- Based on the experiments you performed earlier, in 1-2 paragraphs explain to the board of supervisors what single model you chose as the best model. Which model is generally the most appropriate based on the available data, limited resources, cost, and performance?\n",
    "- In 1-2 paragraphs explain to the board of supervisors in layman's terms how the final model chosen is supposed to work (for example if you chose a Decision Tree or Support Vector Machine, how does it make a prediction).\n",
    "- Fine-tune the model. Use Gridsearch with at least one important parameter tuned and with at least 3 settings. Use the entire training set for this.\n",
    "- What is the model's final F<sub>1</sub> score?"
   ]
  },
  {
   "cell_type": "markdown",
   "metadata": {},
   "source": [
    "Grid Search\n",
    "========="
   ]
  },
  {
   "cell_type": "code",
   "execution_count": 24,
   "metadata": {
    "collapsed": true
   },
   "outputs": [],
   "source": [
    "# TODO: Fine-tune your model and report the best F1 score\n",
    "from sklearn import metrics\n",
    "from sklearn import grid_search\n",
    "\n",
    "# Find the best performance metric\n",
    "f1_scorer = metrics.make_scorer(f1_score, greater_is_better=True, pos_label='yes')"
   ]
  },
  {
   "cell_type": "code",
   "execution_count": 26,
   "metadata": {
    "collapsed": true
   },
   "outputs": [],
   "source": [
    "# function to tune model: can specify gridsearch cv size, train/test set split via random_state\n",
    "def tune_clf_model(clf, parameters, scorer, cv=None, rand=0):\n",
    "    # Use gridearch to fine tune the classifier and find the best model\n",
    "    reg = grid_search.GridSearchCV(clf, parameters, scoring=scorer, cv=cv)\n",
    "    \n",
    "    # Shuffle the data using different random_state values\n",
    "    X_train, X_test, y_train, y_test = cross_validation.train_test_split(X_all, y_all, stratify=y_all,\n",
    "                                                                         test_size=int(num_test), random_state=rand)\n",
    "    \n",
    "    # find best estimator\n",
    "    reg.fit(X_train, y_train)\n",
    "    est = reg.best_estimator_\n",
    "    print est, \"\\n\"\n",
    "    \n",
    "    # Predict best_estimator_ on training and test data\n",
    "    print \"\\nF1 score for training set: {}\".format(predict_labels(est, X_train, y_train))\n",
    "    print \"\\nClassification report (train):\\n\", metrics.classification_report(y_train, est.predict(X_train))\n",
    "    print \"\\nF1 score for test set: {}\".format(predict_labels(est, X_test, y_test))\n",
    "    print \"\\nClassification report (test):\\n\", metrics.classification_report(y_test, est.predict(X_test))\n",
    "    return est, reg"
   ]
  },
  {
   "cell_type": "markdown",
   "metadata": {},
   "source": [
    "Grid Search: Logistic Regression\n",
    "------------"
   ]
  },
  {
   "cell_type": "code",
   "execution_count": 27,
   "metadata": {
    "collapsed": false
   },
   "outputs": [
    {
     "name": "stdout",
     "output_type": "stream",
     "text": [
      "LogisticRegression(C=0.1, class_weight=None, dual=False, fit_intercept=True,\n",
      "          intercept_scaling=1, max_iter=100, multi_class='ovr', n_jobs=1,\n",
      "          penalty='l2', random_state=42, solver='liblinear', tol=0.0001,\n",
      "          verbose=0, warm_start=False) \n",
      "\n",
      "Predicting labels using LogisticRegression...\n",
      "Done!\n",
      "Prediction time (secs): 0.000\n",
      "\n",
      "F1 score for training set: 0.821428571429\n",
      "\n",
      "Classification report (train):\n",
      "             precision    recall  f1-score   support\n",
      "\n",
      "         no       0.68      0.36      0.47        99\n",
      "        yes       0.74      0.92      0.82       201\n",
      "\n",
      "avg / total       0.72      0.73      0.71       300\n",
      "\n",
      "Predicting labels using LogisticRegression...\n",
      "Done!\n",
      "Prediction time (secs): 0.000\n",
      "\n",
      "F1 score for test set: 0.791666666667\n",
      "\n",
      "Classification report (test):\n",
      "             precision    recall  f1-score   support\n",
      "\n",
      "         no       0.53      0.26      0.35        31\n",
      "        yes       0.71      0.89      0.79        64\n",
      "\n",
      "avg / total       0.65      0.68      0.65        95\n",
      "\n"
     ]
    }
   ],
   "source": [
    "# Setup a Classifier\n",
    "clf = linear_model.LogisticRegression(random_state=42)\n",
    "\n",
    "# tuning paramas\n",
    "parameters = {'C': (10., 1., 0.5, 0.1),\n",
    "              'max_iter': (100, 200, 500)}\n",
    "\n",
    "est, reg = tune_clf_model(clf, parameters, f1_scorer)"
   ]
  },
  {
   "cell_type": "markdown",
   "metadata": {},
   "source": [
    "Look at logistic regression coeffs\n",
    "----------"
   ]
  },
  {
   "cell_type": "code",
   "execution_count": 45,
   "metadata": {
    "collapsed": true
   },
   "outputs": [],
   "source": [
    "# helper function for top n coefficients of the logistic regression model\n",
    "def visualize_coefficients(classifier, feature_names, n_features=10):\n",
    "    # get coefficients with large absolute values \n",
    "    coef = classifier.coef_.ravel()\n",
    "    pos_coeffs = np.argsort(coef)[-n_features:]\n",
    "    neg_coeffs = np.argsort(coef)[:n_features]\n",
    "    hmm_coeffs = np.hstack([neg_coeffs, pos_coeffs])\n",
    "    \n",
    "    # plot the coeefs\n",
    "    plt.figure(figsize=(15, 5))\n",
    "    colors = [\"red\" if c < 0 else \"blue\" for c in coef[hmm_coeffs]]\n",
    "    plt.bar(np.arange(20), coef[hmm_coeffs], color=colors)\n",
    "    feature_names = np.array(feature_names)\n",
    "    plt.xticks(np.arange(1, 21), feature_names[hmm_coeffs], rotation=35, ha=\"right\");"
   ]
  },
  {
   "cell_type": "code",
   "execution_count": 46,
   "metadata": {
    "collapsed": false
   },
   "outputs": [
    {
     "data": {
      "image/png": "[encoded data removed]",
      "text/plain": [
       "<matplotlib.figure.Figure at 0x11eeac790>"
      ]
     },
     "metadata": {},
     "output_type": "display_data"
    }
   ],
   "source": [
    "# look at the coeffs\n",
    "visualize_coefficients(est, X_train.columns)"
   ]
  },
  {
   "cell_type": "markdown",
   "metadata": {},
   "source": [
    "Grid Search: SVM\n",
    "-----------\n",
    "http://scikit-learn.org/stable/auto_examples/svm/plot_rbf_parameters.html"
   ]
  },
  {
   "cell_type": "code",
   "execution_count": 23,
   "metadata": {
    "collapsed": false
   },
   "outputs": [
    {
     "name": "stdout",
     "output_type": "stream",
     "text": [
      "SVC(C=158489.31924611109, cache_size=200, class_weight=None, coef0=0.0,\n",
      "  decision_function_shape=None, degree=3, gamma=5.1794746792312124e-08,\n",
      "  kernel='rbf', max_iter=-1, probability=False, random_state=42,\n",
      "  shrinking=True, tol=0.001, verbose=False) \n",
      "\n",
      "Predicting labels using SVC...\n",
      "Done!\n",
      "Prediction time (secs): 0.004\n",
      "\n",
      "F1 score for training set: 0.827004219409\n",
      "Classification report (train):\n",
      "             precision    recall  f1-score   support\n",
      "\n",
      "         no       0.81      0.22      0.35        99\n",
      "        yes       0.72      0.98      0.83       201\n",
      "\n",
      "avg / total       0.75      0.73      0.67       300\n",
      "\n",
      "Predicting labels using SVC...\n",
      "Done!\n",
      "Prediction time (secs): 0.001\n",
      "\n",
      "F1 score for test set: 0.81045751634\n",
      "Classification report (test):\n",
      "             precision    recall  f1-score   support\n",
      "\n",
      "         no       0.67      0.13      0.22        31\n",
      "        yes       0.70      0.97      0.81        64\n",
      "\n",
      "avg / total       0.69      0.69      0.62        95\n",
      "\n"
     ]
    }
   ],
   "source": [
    "# normalize features\n",
    "from sklearn.preprocessing import Normalizer\n",
    "normer = Normalizer()\n",
    "X_train = normer.fit_transform(X_train)\n",
    "X_test = normer.transform(X_test)\n",
    "\n",
    "# Setup a Classifier\n",
    "clf = svm.SVC(random_state=42)\n",
    "\n",
    "# tune params\n",
    "C_range = np.logspace(-2, 10, 6)\n",
    "gamma_range = np.logspace(-9, 3, 8)\n",
    "parameters = dict(gamma=gamma_range, C=C_range)\n",
    "\n",
    "est_svm, grid_obj = tune_clf_model(clf, parameters, f1_scorer, cv=5)"
   ]
  },
  {
   "cell_type": "markdown",
   "metadata": {},
   "source": [
    "Look at SVM grid search scores\n",
    "-------"
   ]
  },
  {
   "cell_type": "code",
   "execution_count": 31,
   "metadata": {
    "collapsed": false
   },
   "outputs": [
    {
     "data": {
      "image/png": "[encoded data removed]",
      "text/plain": [
       "<matplotlib.figure.Figure at 0x1183c2cd0>"
      ]
     },
     "metadata": {},
     "output_type": "display_data"
    }
   ],
   "source": [
    "# heatmap of best scores\n",
    "import matplotlib.pyplot as plt\n",
    "%matplotlib inline\n",
    "import seaborn as sns\n",
    "\n",
    "scores = [x[1] for x in grid_obj.grid_scores_]\n",
    "scores = np.array(scores).reshape(len(C_range), len(gamma_range))\n",
    "\n",
    "fig, ax = plt.subplots(figsize=(8,6))\n",
    "\n",
    "ax = sns.heatmap(scores, annot=True, fmt=\".4f\")\n",
    "ax.set_xlabel('gamma')\n",
    "ax.set_ylabel('C', rotation=0)\n",
    "ax.yaxis.labelpad = 8\n",
    "ax.set_xticklabels(gamma_range.round(8), rotation=45, ha='center')\n",
    "ax.set_yticklabels(C_range[::-1], rotation=0, va='center')\n",
    "ax.set_title(\"The best parameters are:\\n {}\\nwith a score of {:0.4f}.\".format(\n",
    "        grid_obj.best_params_, grid_obj.best_score_)\n",
    "         );"
   ]
  },
  {
   "cell_type": "markdown",
   "metadata": {},
   "source": [
    "Grid Search: Gradient Boosting\n",
    "------------"
   ]
  },
  {
   "cell_type": "code",
   "execution_count": 28,
   "metadata": {
    "collapsed": false
   },
   "outputs": [
    {
     "data": {
      "text/plain": [
       "GradientBoostingClassifier(init=None, learning_rate=0.1, loss='deviance',\n",
       "              max_depth=3, max_features=None, max_leaf_nodes=None,\n",
       "              min_samples_leaf=1, min_samples_split=2,\n",
       "              min_weight_fraction_leaf=0.0, n_estimators=100,\n",
       "              presort='auto', random_state=None, subsample=1.0, verbose=0,\n",
       "              warm_start=False)"
      ]
     },
     "execution_count": 28,
     "metadata": {},
     "output_type": "execute_result"
    }
   ],
   "source": [
    "from sklearn.ensemble import GradientBoostingClassifier\n",
    "GradientBoostingClassifier()"
   ]
  },
  {
   "cell_type": "code",
   "execution_count": 30,
   "metadata": {
    "collapsed": false
   },
   "outputs": [
    {
     "name": "stdout",
     "output_type": "stream",
     "text": [
      "GradientBoostingClassifier(init=None, learning_rate=0.02, loss='deviance',\n",
      "              max_depth=3, max_features=None, max_leaf_nodes=None,\n",
      "              min_samples_leaf=1, min_samples_split=2,\n",
      "              min_weight_fraction_leaf=0.0, n_estimators=100,\n",
      "              presort='auto', random_state=42, subsample=0.9, verbose=0,\n",
      "              warm_start=False) \n",
      "\n",
      "Predicting labels using GradientBoostingClassifier...\n",
      "Done!\n",
      "Prediction time (secs): 0.001\n",
      "\n",
      "F1 score for training set: 0.89841986456\n",
      "\n",
      "Classification report (train):\n",
      "             precision    recall  f1-score   support\n",
      "\n",
      "         no       0.97      0.57      0.71        99\n",
      "        yes       0.82      0.99      0.90       201\n",
      "\n",
      "avg / total       0.87      0.85      0.84       300\n",
      "\n",
      "Predicting labels using GradientBoostingClassifier...\n",
      "Done!\n",
      "Prediction time (secs): 0.000\n",
      "\n",
      "F1 score for test set: 0.780141843972\n",
      "\n",
      "Classification report (test):\n",
      "             precision    recall  f1-score   support\n",
      "\n",
      "         no       0.50      0.29      0.37        31\n",
      "        yes       0.71      0.86      0.78        64\n",
      "\n",
      "avg / total       0.64      0.67      0.65        95\n",
      "\n"
     ]
    }
   ],
   "source": [
    "from sklearn.ensemble import GradientBoostingClassifier\n",
    "\n",
    "# Setup a Classifier\n",
    "clf = GradientBoostingClassifier(random_state=42)\n",
    "\n",
    "# tuning paramas\n",
    "parameters = {'learning_rate': (.01, .015, .02, .1),\n",
    "              'subsample': (.8,.9,1.0),\n",
    "              'max_depth': (3,5,9)}\n",
    "\n",
    "est, reg = tune_clf_model(clf, parameters, f1_scorer, cv=5)"
   ]
  },
  {
   "cell_type": "code",
   "execution_count": 37,
   "metadata": {
    "collapsed": false
   },
   "outputs": [
    {
     "name": "stdout",
     "output_type": "stream",
     "text": [
      "{'subsample': 0.8, 'learning_rate': 0.01, 'max_depth': 3}\n",
      "0.816190185159\n",
      "[ 0.76923077  0.84210526  0.86666667  0.7816092   0.82222222]\n"
     ]
    }
   ],
   "source": [
    "# look at grid scores\n",
    "for i in reg.grid_scores_[0]:\n",
    "    print i"
   ]
  },
  {
   "cell_type": "code",
   "execution_count": 52,
   "metadata": {
    "collapsed": false
   },
   "outputs": [
    {
     "data": {
      "text/html": [
       "<div>\n",
       "<table border=\"1\" class=\"dataframe\">\n",
       "  <thead>\n",
       "    <tr style=\"text-align: right;\">\n",
       "      <th></th>\n",
       "      <th>subsample</th>\n",
       "      <th>learning_rate</th>\n",
       "      <th>max_depth</th>\n",
       "      <th>score</th>\n",
       "    </tr>\n",
       "  </thead>\n",
       "  <tbody>\n",
       "    <tr>\n",
       "      <th>0</th>\n",
       "      <td>0.8</td>\n",
       "      <td>0.01</td>\n",
       "      <td>3</td>\n",
       "      <td>0.816190</td>\n",
       "    </tr>\n",
       "    <tr>\n",
       "      <th>1</th>\n",
       "      <td>0.9</td>\n",
       "      <td>0.01</td>\n",
       "      <td>3</td>\n",
       "      <td>0.811708</td>\n",
       "    </tr>\n",
       "    <tr>\n",
       "      <th>2</th>\n",
       "      <td>1.0</td>\n",
       "      <td>0.01</td>\n",
       "      <td>3</td>\n",
       "      <td>0.818460</td>\n",
       "    </tr>\n",
       "    <tr>\n",
       "      <th>3</th>\n",
       "      <td>0.8</td>\n",
       "      <td>0.01</td>\n",
       "      <td>5</td>\n",
       "      <td>0.813874</td>\n",
       "    </tr>\n",
       "    <tr>\n",
       "      <th>4</th>\n",
       "      <td>0.9</td>\n",
       "      <td>0.01</td>\n",
       "      <td>5</td>\n",
       "      <td>0.805374</td>\n",
       "    </tr>\n",
       "  </tbody>\n",
       "</table>\n",
       "</div>"
      ],
      "text/plain": [
       "   subsample  learning_rate  max_depth     score\n",
       "0        0.8           0.01          3  0.816190\n",
       "1        0.9           0.01          3  0.811708\n",
       "2        1.0           0.01          3  0.818460\n",
       "3        0.8           0.01          5  0.813874\n",
       "4        0.9           0.01          5  0.805374"
      ]
     },
     "execution_count": 52,
     "metadata": {},
     "output_type": "execute_result"
    }
   ],
   "source": [
    "# create df of grid scores & params\n",
    "grid_scores = pd.DataFrame(\n",
    "    [[param[parameters.keys()[0]], param[parameters.keys()[1]], param[parameters.keys()[2]], score] for param, score, _ in reg.grid_scores_], \n",
    "    columns=parameters.keys()+['score'])\n",
    "\n",
    "grid_scores.head()"
   ]
  },
  {
   "cell_type": "markdown",
   "metadata": {},
   "source": [
    "\n",
    "---"
   ]
  },
  {
   "cell_type": "markdown",
   "metadata": {
    "collapsed": true
   },
   "source": [
    "TPOT: automating & optimizing pipelines\n",
    "---------------\n",
    "\n",
    "http://www.randalolson.com/2016/05/08/tpot-a-python-tool-for-automating-data-science/  \n",
    "https://github.com/rhiever/tpot  \n",
    "\n",
    "[Installation](http://rhiever.github.io/tpot/installing/)\n",
    "1. NumPy, SciPy, pandas, and scikit-learn can be installed in Anaconda via the command:\n",
    "```\n",
    "conda install numpy scipy pandas scikit-learn```\n",
    "2. DEAP and XGBoost can be installed with pip:\n",
    "```\n",
    "pip install deap xgboost```\n",
    "3. Install TPOT:\n",
    "```\n",
    "pip install tpot```"
   ]
  },
  {
   "cell_type": "code",
   "execution_count": 119,
   "metadata": {
    "collapsed": false
   },
   "outputs": [
    {
     "name": "stderr",
     "output_type": "stream",
     "text": [
      "Exception AttributeError: \"'DMatrix' object has no attribute 'handle'\" in <bound method DMatrix.__del__ of <xgboost.core.DMatrix object at 0x11a0c7910>> ignored\n",
      "Exception AttributeError: \"'DMatrix' object has no attribute 'handle'\" in <bound method DMatrix.__del__ of <xgboost.core.DMatrix object at 0x11a0c7610>> ignored\n",
      "Exception AttributeError: \"'DMatrix' object has no attribute 'handle'\" in <bound method DMatrix.__del__ of <xgboost.core.DMatrix object at 0x11a12c790>> ignored\n",
      "Exception AttributeError: \"'DMatrix' object has no attribute 'handle'\" in <bound method DMatrix.__del__ of <xgboost.core.DMatrix object at 0x11a12cd10>> ignored\n",
      "Exception AttributeError: \"'DMatrix' object has no attribute 'handle'\" in <bound method DMatrix.__del__ of <xgboost.core.DMatrix object at 0x11b03a7d0>> ignored\n",
      "Exception AttributeError: \"'DMatrix' object has no attribute 'handle'\" in <bound method DMatrix.__del__ of <xgboost.core.DMatrix object at 0x11a0c7c10>> ignored\n",
      "Exception "
     ]
    },
    {
     "name": "stdout",
     "output_type": "stream",
     "text": [
      "Training time = 00:06:24.34\n",
      "0.591481854839\n",
      "--------------------------------\n"
     ]
    },
    {
     "name": "stderr",
     "output_type": "stream",
     "text": [
      "AttributeError: \"'DMatrix' object has no attribute 'handle'\" in <bound method DMatrix.__del__ of <xgboost.core.DMatrix object at 0x11a12c290>> ignored\n"
     ]
    }
   ],
   "source": [
    "import pandas as pd\n",
    "from sklearn.cross_validation import train_test_split\n",
    "from tpot import TPOT\n",
    "import time\n",
    "\n",
    "''' example code\n",
    "hill_valley_noisy_data = pd.read_csv('https://raw.githubusercontent.com/rhiever/Data-Analysis-and-Machine-Learning-Projects/master/tpot-demo/Hill_Valley_with_noise.csv.gz', sep='\\t', compression='gzip')  \n",
    "\n",
    "X = hill_valley_noisy_data.drop('class', axis=1).values  \n",
    "y = hill_valley_noisy_data.loc[:, 'class'].values  \n",
    " \n",
    "X_train, X_test, y_train, y_test = train_test_split(X, y,  \n",
    "                                                    train_size=0.75,  \n",
    "                                                    test_size=0.25)  \n",
    "'''\n",
    "\n",
    "# use the preprocessed features; varying stratify, test_size, random_state\n",
    "X_train, X_test, y_train, y_test = train_test_split(X_all.values, y_all.values, stratify=y_all, \n",
    "                                                    test_size=0.24, random_state=1234)\n",
    "\n",
    "my_tpot = TPOT(generations=8)  \n",
    "start = time.time()\n",
    "my_tpot.fit(X_train, y_train)\n",
    "end = time.time()\n",
    "\n",
    "hours, rem = divmod(end-start, 3600)\n",
    "minutes, seconds = divmod(rem, 60)\n",
    "print(\"Training time = {:0>2}:{:0>2}:{:05.2f}\".format(int(hours),int(minutes),seconds))\n",
    "\n",
    "  \n",
    "print(my_tpot.score(X_test, y_test))  \n",
    "print '-'*32\n",
    "\n",
    "my_tpot.export('exported_pipeline.py')"
   ]
  },
  {
   "cell_type": "markdown",
   "metadata": {},
   "source": [
    "\n",
    "### Helper functions to train TPOT"
   ]
  },
  {
   "cell_type": "code",
   "execution_count": 31,
   "metadata": {
    "collapsed": false
   },
   "outputs": [],
   "source": [
    "import pandas as pd\n",
    "from sklearn.cross_validation import train_test_split\n",
    "from sklearn.ensemble import RandomForestClassifier\n",
    "from tpot import TPOT\n",
    "import time\n",
    "\n",
    "\n",
    "# function to fit TPOT object\n",
    "def train_TPOT(features=X_all, target=y_all, rand=1234, test_size=.24, gen=8):\n",
    "    # use the preprocessed features; varying stratify, test_size, random_state\n",
    "    X_train, X_test, y_train, y_test = train_test_split(X_all.values, y_all.values, stratify=y_all, \n",
    "                                                        test_size=test_size, random_state=rand)\n",
    "\n",
    "    my_tpot = TPOT(generations=gen)\n",
    "    start = time.time()\n",
    "    my_tpot.fit(X_train, y_train)\n",
    "    end = time.time()\n",
    "\n",
    "    hours, rem = divmod(end-start, 3600)\n",
    "    minutes, seconds = divmod(rem, 60)\n",
    "    print(\"Training time = {:0>2}:{:0>2}:{:05.2f}\".format(int(hours),int(minutes),seconds))\n",
    "\n",
    "\n",
    "    print(my_tpot.score(X_test, y_test))  \n",
    "    print '-'*32\n",
    "\n",
    "    my_tpot.export('exported_pipeline.py')\n",
    "    print 'Load pipeline with:\\n%load exported_pipeline.py'\n",
    "    \n",
    "    return X_train, X_test, y_train, y_test\n",
    "    \n",
    "\n",
    "# function to run exported pipeline\n",
    "def run_pipeline(clf=RandomForestClassifier(), features=X_all, target=y_all, rand=1234, test_size=.24):\n",
    "    # NOTE: Make sure that the class is labeled 'class' in the data file\n",
    "    tpot_data = pd.concat([X_all, pd.Series(y_all, name='class')], axis=1)\n",
    "    training_indices, testing_indices = train_test_split(tpot_data.index,\n",
    "                                                         stratify = tpot_data['class'].values,\n",
    "                                                         test_size=test_size, random_state=rand)\n",
    "\n",
    "    result1 = tpot_data.copy()\n",
    "\n",
    "    # Perform classification\n",
    "    clf.fit(result1.loc[training_indices].drop('class', axis=1).values, result1.loc[training_indices, 'class'].values)\n",
    "    result1['pipe-classification'] = clf.predict(result1.drop('class', axis=1).values)\n",
    "    print clf\n",
    "    print metrics.classification_report(y_test, clf.predict(X_test))"
   ]
  },
  {
   "cell_type": "markdown",
   "metadata": {},
   "source": [
    "### Look at the pipeline TPOT created with:\n",
    "```\n",
    "%load exported_pipeline.py\n",
    "```"
   ]
  },
  {
   "cell_type": "markdown",
   "metadata": {},
   "source": [
    "### TPOT example #1: random forest (not stratified)"
   ]
  },
  {
   "cell_type": "code",
   "execution_count": 78,
   "metadata": {
    "collapsed": false
   },
   "outputs": [
    {
     "name": "stdout",
     "output_type": "stream",
     "text": [
      "Training set: 296 samples\n",
      "Test set: 99 samples\n",
      "\n",
      "Training set grad rate: 0.675675675676\n",
      "Test set grad rate: 0.656565656566\n"
     ]
    }
   ],
   "source": [
    "# train/test splits when optimization found random forest classifier\n",
    "print \"Training set: {} samples\".format(X_train.shape[0])\n",
    "print \"Test set: {} samples\".format(X_test.shape[0])\n",
    "\n",
    "print '\\nTraining set grad rate: {}'.format(np.true_divide(sum(y_train=='yes'), len(y_train)))\n",
    "print 'Test set grad rate: {}'.format(np.true_divide(sum(y_test=='yes'), len(y_test)))"
   ]
  },
  {
   "cell_type": "code",
   "execution_count": 100,
   "metadata": {
    "collapsed": false
   },
   "outputs": [],
   "source": [
    "# optimization found: random forest\n",
    "import numpy as np\n",
    "import pandas as pd\n",
    "\n",
    "from sklearn.cross_validation import train_test_split\n",
    "from sklearn.ensemble import RandomForestClassifier\n",
    "\n",
    "# NOTE: Make sure that the class is labeled 'class' in the data file\n",
    "tpot_data = pd.concat([X_all, pd.Series(y_all, name='class')], axis=1)\n",
    "training_indices, testing_indices = train_test_split(tpot_data.index,\n",
    "                                                     stratify = tpot_data['class'].values,\n",
    "                                                     train_size=0.75, test_size=0.25, random_state=42)\n",
    "\n",
    "result1 = tpot_data.copy()\n",
    "\n",
    "# Perform classification with a random forest classifier\n",
    "rfc1 = RandomForestClassifier(n_estimators=198, max_features=min(608, len(result1.columns) - 1))\n",
    "rfc1.fit(result1.loc[training_indices].drop('class', axis=1).values, result1.loc[training_indices, 'class'].values)\n",
    "result1['rfc1-classification'] = rfc1.predict(result1.drop('class', axis=1).values)"
   ]
  },
  {
   "cell_type": "code",
   "execution_count": 76,
   "metadata": {
    "collapsed": false
   },
   "outputs": [
    {
     "name": "stdout",
     "output_type": "stream",
     "text": [
      "             precision    recall  f1-score   support\n",
      "\n",
      "         no       0.94      0.91      0.93        34\n",
      "        yes       0.95      0.97      0.96        65\n",
      "\n",
      "avg / total       0.95      0.95      0.95        99\n",
      "\n"
     ]
    }
   ],
   "source": [
    "# the results below are contanimated due to different train/test splits\n",
    "# during TPOT fitting and optimized rf fitting\n",
    "est = rfc1\n",
    "print metrics.classification_report(y_test, est.predict(X_test))"
   ]
  },
  {
   "cell_type": "markdown",
   "metadata": {},
   "source": [
    "### TPO example #2: random forest (stratified)"
   ]
  },
  {
   "cell_type": "code",
   "execution_count": 120,
   "metadata": {
    "collapsed": false
   },
   "outputs": [
    {
     "name": "stdout",
     "output_type": "stream",
     "text": [
      "Training set: 300 samples\n",
      "Test set: 95 samples\n",
      "\n",
      "Training set grad rate: 0.67\n",
      "Test set grad rate: 0.673684210526\n"
     ]
    }
   ],
   "source": [
    "# train/test splits when optimization found: random forest\n",
    "print \"Training set: {} samples\".format(X_train.shape[0])\n",
    "print \"Test set: {} samples\".format(X_test.shape[0])\n",
    "\n",
    "print '\\nTraining set grad rate: {}'.format(np.true_divide(sum(y_train=='yes'), len(y_train)))\n",
    "print 'Test set grad rate: {}'.format(np.true_divide(sum(y_test=='yes'), len(y_test)))"
   ]
  },
  {
   "cell_type": "code",
   "execution_count": 124,
   "metadata": {
    "collapsed": false
   },
   "outputs": [
    {
     "data": {
      "text/html": [
       "<div>\n",
       "<table border=\"1\" class=\"dataframe\">\n",
       "  <thead>\n",
       "    <tr style=\"text-align: right;\">\n",
       "      <th></th>\n",
       "      <th>school_GP</th>\n",
       "      <th>school_MS</th>\n",
       "      <th>sex_F</th>\n",
       "      <th>sex_M</th>\n",
       "      <th>age</th>\n",
       "      <th>address_R</th>\n",
       "      <th>address_U</th>\n",
       "      <th>famsize_GT3</th>\n",
       "      <th>famsize_LE3</th>\n",
       "      <th>Pstatus_A</th>\n",
       "      <th>...</th>\n",
       "      <th>higher</th>\n",
       "      <th>internet</th>\n",
       "      <th>romantic</th>\n",
       "      <th>famrel</th>\n",
       "      <th>freetime</th>\n",
       "      <th>goout</th>\n",
       "      <th>Dalc</th>\n",
       "      <th>Walc</th>\n",
       "      <th>health</th>\n",
       "      <th>absences</th>\n",
       "    </tr>\n",
       "  </thead>\n",
       "  <tbody>\n",
       "    <tr>\n",
       "      <th>390</th>\n",
       "      <td>0</td>\n",
       "      <td>1</td>\n",
       "      <td>0</td>\n",
       "      <td>1</td>\n",
       "      <td>20</td>\n",
       "      <td>0</td>\n",
       "      <td>1</td>\n",
       "      <td>0</td>\n",
       "      <td>1</td>\n",
       "      <td>1</td>\n",
       "      <td>...</td>\n",
       "      <td>1</td>\n",
       "      <td>0</td>\n",
       "      <td>0</td>\n",
       "      <td>5</td>\n",
       "      <td>5</td>\n",
       "      <td>4</td>\n",
       "      <td>4</td>\n",
       "      <td>5</td>\n",
       "      <td>4</td>\n",
       "      <td>11</td>\n",
       "    </tr>\n",
       "    <tr>\n",
       "      <th>285</th>\n",
       "      <td>1</td>\n",
       "      <td>0</td>\n",
       "      <td>0</td>\n",
       "      <td>1</td>\n",
       "      <td>17</td>\n",
       "      <td>0</td>\n",
       "      <td>1</td>\n",
       "      <td>1</td>\n",
       "      <td>0</td>\n",
       "      <td>0</td>\n",
       "      <td>...</td>\n",
       "      <td>1</td>\n",
       "      <td>1</td>\n",
       "      <td>0</td>\n",
       "      <td>4</td>\n",
       "      <td>3</td>\n",
       "      <td>3</td>\n",
       "      <td>1</td>\n",
       "      <td>2</td>\n",
       "      <td>4</td>\n",
       "      <td>2</td>\n",
       "    </tr>\n",
       "    <tr>\n",
       "      <th>364</th>\n",
       "      <td>0</td>\n",
       "      <td>1</td>\n",
       "      <td>1</td>\n",
       "      <td>0</td>\n",
       "      <td>17</td>\n",
       "      <td>1</td>\n",
       "      <td>0</td>\n",
       "      <td>1</td>\n",
       "      <td>0</td>\n",
       "      <td>0</td>\n",
       "      <td>...</td>\n",
       "      <td>1</td>\n",
       "      <td>0</td>\n",
       "      <td>0</td>\n",
       "      <td>3</td>\n",
       "      <td>2</td>\n",
       "      <td>2</td>\n",
       "      <td>1</td>\n",
       "      <td>2</td>\n",
       "      <td>3</td>\n",
       "      <td>0</td>\n",
       "    </tr>\n",
       "    <tr>\n",
       "      <th>114</th>\n",
       "      <td>1</td>\n",
       "      <td>0</td>\n",
       "      <td>0</td>\n",
       "      <td>1</td>\n",
       "      <td>15</td>\n",
       "      <td>1</td>\n",
       "      <td>0</td>\n",
       "      <td>1</td>\n",
       "      <td>0</td>\n",
       "      <td>0</td>\n",
       "      <td>...</td>\n",
       "      <td>1</td>\n",
       "      <td>1</td>\n",
       "      <td>1</td>\n",
       "      <td>5</td>\n",
       "      <td>4</td>\n",
       "      <td>2</td>\n",
       "      <td>1</td>\n",
       "      <td>1</td>\n",
       "      <td>5</td>\n",
       "      <td>8</td>\n",
       "    </tr>\n",
       "    <tr>\n",
       "      <th>30</th>\n",
       "      <td>1</td>\n",
       "      <td>0</td>\n",
       "      <td>0</td>\n",
       "      <td>1</td>\n",
       "      <td>15</td>\n",
       "      <td>0</td>\n",
       "      <td>1</td>\n",
       "      <td>1</td>\n",
       "      <td>0</td>\n",
       "      <td>0</td>\n",
       "      <td>...</td>\n",
       "      <td>1</td>\n",
       "      <td>1</td>\n",
       "      <td>0</td>\n",
       "      <td>5</td>\n",
       "      <td>4</td>\n",
       "      <td>2</td>\n",
       "      <td>3</td>\n",
       "      <td>4</td>\n",
       "      <td>5</td>\n",
       "      <td>0</td>\n",
       "    </tr>\n",
       "  </tbody>\n",
       "</table>\n",
       "<p>5 rows × 48 columns</p>\n",
       "</div>"
      ],
      "text/plain": [
       "     school_GP  school_MS  sex_F  sex_M  age  address_R  address_U  \\\n",
       "390          0          1      0      1   20          0          1   \n",
       "285          1          0      0      1   17          0          1   \n",
       "364          0          1      1      0   17          1          0   \n",
       "114          1          0      0      1   15          1          0   \n",
       "30           1          0      0      1   15          0          1   \n",
       "\n",
       "     famsize_GT3  famsize_LE3  Pstatus_A    ...     higher  internet  \\\n",
       "390            0            1          1    ...          1         0   \n",
       "285            1            0          0    ...          1         1   \n",
       "364            1            0          0    ...          1         0   \n",
       "114            1            0          0    ...          1         1   \n",
       "30             1            0          0    ...          1         1   \n",
       "\n",
       "     romantic  famrel  freetime  goout  Dalc  Walc  health  absences  \n",
       "390         0       5         5      4     4     5       4        11  \n",
       "285         0       4         3      3     1     2       4         2  \n",
       "364         0       3         2      2     1     2       3         0  \n",
       "114         1       5         4      2     1     1       5         8  \n",
       "30          0       5         4      2     3     4       5         0  \n",
       "\n",
       "[5 rows x 48 columns]"
      ]
     },
     "execution_count": 124,
     "metadata": {},
     "output_type": "execute_result"
    }
   ],
   "source": [
    "# confirm train/test splits are same\n",
    "training_indices, testing_indices = train_test_split(tpot_data.index,\n",
    "                                                     stratify = tpot_data['class'].values,\n",
    "                                                     test_size=0.24, random_state=1234)\n",
    "X_all.iloc[training_indices].head()"
   ]
  },
  {
   "cell_type": "code",
   "execution_count": 125,
   "metadata": {
    "collapsed": false
   },
   "outputs": [
    {
     "data": {
      "text/html": [
       "<div>\n",
       "<table border=\"1\" class=\"dataframe\">\n",
       "  <thead>\n",
       "    <tr style=\"text-align: right;\">\n",
       "      <th></th>\n",
       "      <th>school_GP</th>\n",
       "      <th>school_MS</th>\n",
       "      <th>sex_F</th>\n",
       "      <th>sex_M</th>\n",
       "      <th>age</th>\n",
       "      <th>address_R</th>\n",
       "      <th>address_U</th>\n",
       "      <th>famsize_GT3</th>\n",
       "      <th>famsize_LE3</th>\n",
       "      <th>Pstatus_A</th>\n",
       "      <th>...</th>\n",
       "      <th>higher</th>\n",
       "      <th>internet</th>\n",
       "      <th>romantic</th>\n",
       "      <th>famrel</th>\n",
       "      <th>freetime</th>\n",
       "      <th>goout</th>\n",
       "      <th>Dalc</th>\n",
       "      <th>Walc</th>\n",
       "      <th>health</th>\n",
       "      <th>absences</th>\n",
       "    </tr>\n",
       "  </thead>\n",
       "  <tbody>\n",
       "    <tr>\n",
       "      <th>0</th>\n",
       "      <td>0</td>\n",
       "      <td>1</td>\n",
       "      <td>0</td>\n",
       "      <td>1</td>\n",
       "      <td>20</td>\n",
       "      <td>0</td>\n",
       "      <td>1</td>\n",
       "      <td>0</td>\n",
       "      <td>1</td>\n",
       "      <td>1</td>\n",
       "      <td>...</td>\n",
       "      <td>1</td>\n",
       "      <td>0</td>\n",
       "      <td>0</td>\n",
       "      <td>5</td>\n",
       "      <td>5</td>\n",
       "      <td>4</td>\n",
       "      <td>4</td>\n",
       "      <td>5</td>\n",
       "      <td>4</td>\n",
       "      <td>11</td>\n",
       "    </tr>\n",
       "    <tr>\n",
       "      <th>1</th>\n",
       "      <td>1</td>\n",
       "      <td>0</td>\n",
       "      <td>0</td>\n",
       "      <td>1</td>\n",
       "      <td>17</td>\n",
       "      <td>0</td>\n",
       "      <td>1</td>\n",
       "      <td>1</td>\n",
       "      <td>0</td>\n",
       "      <td>0</td>\n",
       "      <td>...</td>\n",
       "      <td>1</td>\n",
       "      <td>1</td>\n",
       "      <td>0</td>\n",
       "      <td>4</td>\n",
       "      <td>3</td>\n",
       "      <td>3</td>\n",
       "      <td>1</td>\n",
       "      <td>2</td>\n",
       "      <td>4</td>\n",
       "      <td>2</td>\n",
       "    </tr>\n",
       "    <tr>\n",
       "      <th>2</th>\n",
       "      <td>0</td>\n",
       "      <td>1</td>\n",
       "      <td>1</td>\n",
       "      <td>0</td>\n",
       "      <td>17</td>\n",
       "      <td>1</td>\n",
       "      <td>0</td>\n",
       "      <td>1</td>\n",
       "      <td>0</td>\n",
       "      <td>0</td>\n",
       "      <td>...</td>\n",
       "      <td>1</td>\n",
       "      <td>0</td>\n",
       "      <td>0</td>\n",
       "      <td>3</td>\n",
       "      <td>2</td>\n",
       "      <td>2</td>\n",
       "      <td>1</td>\n",
       "      <td>2</td>\n",
       "      <td>3</td>\n",
       "      <td>0</td>\n",
       "    </tr>\n",
       "    <tr>\n",
       "      <th>3</th>\n",
       "      <td>1</td>\n",
       "      <td>0</td>\n",
       "      <td>0</td>\n",
       "      <td>1</td>\n",
       "      <td>15</td>\n",
       "      <td>1</td>\n",
       "      <td>0</td>\n",
       "      <td>1</td>\n",
       "      <td>0</td>\n",
       "      <td>0</td>\n",
       "      <td>...</td>\n",
       "      <td>1</td>\n",
       "      <td>1</td>\n",
       "      <td>1</td>\n",
       "      <td>5</td>\n",
       "      <td>4</td>\n",
       "      <td>2</td>\n",
       "      <td>1</td>\n",
       "      <td>1</td>\n",
       "      <td>5</td>\n",
       "      <td>8</td>\n",
       "    </tr>\n",
       "    <tr>\n",
       "      <th>4</th>\n",
       "      <td>1</td>\n",
       "      <td>0</td>\n",
       "      <td>0</td>\n",
       "      <td>1</td>\n",
       "      <td>15</td>\n",
       "      <td>0</td>\n",
       "      <td>1</td>\n",
       "      <td>1</td>\n",
       "      <td>0</td>\n",
       "      <td>0</td>\n",
       "      <td>...</td>\n",
       "      <td>1</td>\n",
       "      <td>1</td>\n",
       "      <td>0</td>\n",
       "      <td>5</td>\n",
       "      <td>4</td>\n",
       "      <td>2</td>\n",
       "      <td>3</td>\n",
       "      <td>4</td>\n",
       "      <td>5</td>\n",
       "      <td>0</td>\n",
       "    </tr>\n",
       "  </tbody>\n",
       "</table>\n",
       "<p>5 rows × 48 columns</p>\n",
       "</div>"
      ],
      "text/plain": [
       "   school_GP  school_MS  sex_F  sex_M  age  address_R  address_U  famsize_GT3  \\\n",
       "0          0          1      0      1   20          0          1            0   \n",
       "1          1          0      0      1   17          0          1            1   \n",
       "2          0          1      1      0   17          1          0            1   \n",
       "3          1          0      0      1   15          1          0            1   \n",
       "4          1          0      0      1   15          0          1            1   \n",
       "\n",
       "   famsize_LE3  Pstatus_A    ...     higher  internet  romantic  famrel  \\\n",
       "0            1          1    ...          1         0         0       5   \n",
       "1            0          0    ...          1         1         0       4   \n",
       "2            0          0    ...          1         0         0       3   \n",
       "3            0          0    ...          1         1         1       5   \n",
       "4            0          0    ...          1         1         0       5   \n",
       "\n",
       "   freetime  goout  Dalc  Walc  health  absences  \n",
       "0         5      4     4     5       4        11  \n",
       "1         3      3     1     2       4         2  \n",
       "2         2      2     1     2       3         0  \n",
       "3         4      2     1     1       5         8  \n",
       "4         4      2     3     4       5         0  \n",
       "\n",
       "[5 rows x 48 columns]"
      ]
     },
     "execution_count": 125,
     "metadata": {},
     "output_type": "execute_result"
    }
   ],
   "source": [
    "pd.DataFrame(X_train[:5], columns=X_all.columns)"
   ]
  },
  {
   "cell_type": "code",
   "execution_count": 130,
   "metadata": {
    "collapsed": false
   },
   "outputs": [
    {
     "name": "stdout",
     "output_type": "stream",
     "text": [
      "RandomForestClassifier(bootstrap=True, class_weight=None, criterion='gini',\n",
      "            max_depth=None, max_features=48, max_leaf_nodes=None,\n",
      "            min_samples_leaf=1, min_samples_split=2,\n",
      "            min_weight_fraction_leaf=0.0, n_estimators=54, n_jobs=1,\n",
      "            oob_score=False, random_state=None, verbose=0,\n",
      "            warm_start=False)\n"
     ]
    }
   ],
   "source": [
    "# %load exported_pipeline.py\n",
    "import numpy as np\n",
    "import pandas as pd\n",
    "\n",
    "from sklearn.cross_validation import train_test_split\n",
    "from sklearn.ensemble import RandomForestClassifier\n",
    "\n",
    "# NOTE: Make sure that the class is labeled 'class' in the data file\n",
    "tpot_data = pd.concat([X_all, pd.Series(y_all, name='class')], axis=1)\n",
    "training_indices, testing_indices = train_test_split(tpot_data.index,\n",
    "                                                     stratify = tpot_data['class'].values,\n",
    "                                                     test_size=0.24, random_state=1234)\n",
    "\n",
    "result1 = tpot_data.copy()\n",
    "\n",
    "# Perform classification with a random forest classifier\n",
    "rfc2 = RandomForestClassifier(n_estimators=54, max_features=min(125, len(result1.columns) - 1))\n",
    "rfc2.fit(result1.loc[training_indices].drop('class', axis=1).values, result1.loc[training_indices, 'class'].values)\n",
    "result1['rfc1-classification'] = rfc1.predict(result1.drop('class', axis=1).values)\n",
    "print rfc2"
   ]
  },
  {
   "cell_type": "code",
   "execution_count": 129,
   "metadata": {
    "collapsed": false
   },
   "outputs": [
    {
     "name": "stdout",
     "output_type": "stream",
     "text": [
      "             precision    recall  f1-score   support\n",
      "\n",
      "         no       0.57      0.52      0.54        31\n",
      "        yes       0.78      0.81      0.79        64\n",
      "\n",
      "avg / total       0.71      0.72      0.71        95\n",
      "\n"
     ]
    }
   ],
   "source": [
    "print metrics.classification_report(y_test, rfc2.predict(X_test))"
   ]
  },
  {
   "cell_type": "markdown",
   "metadata": {},
   "source": [
    "### TPOT example #3: xgboost (stratified, features preprocessed)"
   ]
  },
  {
   "cell_type": "code",
   "execution_count": 29,
   "metadata": {
    "collapsed": false
   },
   "outputs": [
    {
     "data": {
      "text/html": [
       "<div>\n",
       "<table border=\"1\" class=\"dataframe\">\n",
       "  <thead>\n",
       "    <tr style=\"text-align: right;\">\n",
       "      <th></th>\n",
       "      <th>school_GP</th>\n",
       "      <th>school_MS</th>\n",
       "      <th>sex_F</th>\n",
       "      <th>sex_M</th>\n",
       "      <th>age</th>\n",
       "      <th>address_R</th>\n",
       "      <th>address_U</th>\n",
       "      <th>famsize_GT3</th>\n",
       "      <th>famsize_LE3</th>\n",
       "      <th>Pstatus_A</th>\n",
       "      <th>...</th>\n",
       "      <th>higher</th>\n",
       "      <th>internet</th>\n",
       "      <th>romantic</th>\n",
       "      <th>famrel</th>\n",
       "      <th>freetime</th>\n",
       "      <th>goout</th>\n",
       "      <th>Dalc</th>\n",
       "      <th>Walc</th>\n",
       "      <th>health</th>\n",
       "      <th>absences</th>\n",
       "    </tr>\n",
       "  </thead>\n",
       "  <tbody>\n",
       "    <tr>\n",
       "      <th>0</th>\n",
       "      <td>1</td>\n",
       "      <td>0</td>\n",
       "      <td>1</td>\n",
       "      <td>0</td>\n",
       "      <td>18</td>\n",
       "      <td>0</td>\n",
       "      <td>1</td>\n",
       "      <td>1</td>\n",
       "      <td>0</td>\n",
       "      <td>1</td>\n",
       "      <td>...</td>\n",
       "      <td>1</td>\n",
       "      <td>0</td>\n",
       "      <td>0</td>\n",
       "      <td>4</td>\n",
       "      <td>3</td>\n",
       "      <td>4</td>\n",
       "      <td>1</td>\n",
       "      <td>1</td>\n",
       "      <td>3</td>\n",
       "      <td>6</td>\n",
       "    </tr>\n",
       "    <tr>\n",
       "      <th>1</th>\n",
       "      <td>1</td>\n",
       "      <td>0</td>\n",
       "      <td>1</td>\n",
       "      <td>0</td>\n",
       "      <td>17</td>\n",
       "      <td>0</td>\n",
       "      <td>1</td>\n",
       "      <td>1</td>\n",
       "      <td>0</td>\n",
       "      <td>0</td>\n",
       "      <td>...</td>\n",
       "      <td>1</td>\n",
       "      <td>1</td>\n",
       "      <td>0</td>\n",
       "      <td>5</td>\n",
       "      <td>3</td>\n",
       "      <td>3</td>\n",
       "      <td>1</td>\n",
       "      <td>1</td>\n",
       "      <td>3</td>\n",
       "      <td>4</td>\n",
       "    </tr>\n",
       "    <tr>\n",
       "      <th>2</th>\n",
       "      <td>1</td>\n",
       "      <td>0</td>\n",
       "      <td>1</td>\n",
       "      <td>0</td>\n",
       "      <td>15</td>\n",
       "      <td>0</td>\n",
       "      <td>1</td>\n",
       "      <td>0</td>\n",
       "      <td>1</td>\n",
       "      <td>0</td>\n",
       "      <td>...</td>\n",
       "      <td>1</td>\n",
       "      <td>1</td>\n",
       "      <td>0</td>\n",
       "      <td>4</td>\n",
       "      <td>3</td>\n",
       "      <td>2</td>\n",
       "      <td>2</td>\n",
       "      <td>3</td>\n",
       "      <td>3</td>\n",
       "      <td>10</td>\n",
       "    </tr>\n",
       "    <tr>\n",
       "      <th>3</th>\n",
       "      <td>1</td>\n",
       "      <td>0</td>\n",
       "      <td>1</td>\n",
       "      <td>0</td>\n",
       "      <td>15</td>\n",
       "      <td>0</td>\n",
       "      <td>1</td>\n",
       "      <td>1</td>\n",
       "      <td>0</td>\n",
       "      <td>0</td>\n",
       "      <td>...</td>\n",
       "      <td>1</td>\n",
       "      <td>1</td>\n",
       "      <td>1</td>\n",
       "      <td>3</td>\n",
       "      <td>2</td>\n",
       "      <td>2</td>\n",
       "      <td>1</td>\n",
       "      <td>1</td>\n",
       "      <td>5</td>\n",
       "      <td>2</td>\n",
       "    </tr>\n",
       "    <tr>\n",
       "      <th>4</th>\n",
       "      <td>1</td>\n",
       "      <td>0</td>\n",
       "      <td>1</td>\n",
       "      <td>0</td>\n",
       "      <td>16</td>\n",
       "      <td>0</td>\n",
       "      <td>1</td>\n",
       "      <td>1</td>\n",
       "      <td>0</td>\n",
       "      <td>0</td>\n",
       "      <td>...</td>\n",
       "      <td>1</td>\n",
       "      <td>0</td>\n",
       "      <td>0</td>\n",
       "      <td>4</td>\n",
       "      <td>3</td>\n",
       "      <td>2</td>\n",
       "      <td>1</td>\n",
       "      <td>2</td>\n",
       "      <td>5</td>\n",
       "      <td>4</td>\n",
       "    </tr>\n",
       "  </tbody>\n",
       "</table>\n",
       "<p>5 rows × 48 columns</p>\n",
       "</div>"
      ],
      "text/plain": [
       "   school_GP  school_MS  sex_F  sex_M  age  address_R  address_U  famsize_GT3  \\\n",
       "0          1          0      1      0   18          0          1            1   \n",
       "1          1          0      1      0   17          0          1            1   \n",
       "2          1          0      1      0   15          0          1            0   \n",
       "3          1          0      1      0   15          0          1            1   \n",
       "4          1          0      1      0   16          0          1            1   \n",
       "\n",
       "   famsize_LE3  Pstatus_A    ...     higher  internet  romantic  famrel  \\\n",
       "0            0          1    ...          1         0         0       4   \n",
       "1            0          0    ...          1         1         0       5   \n",
       "2            1          0    ...          1         1         0       4   \n",
       "3            0          0    ...          1         1         1       3   \n",
       "4            0          0    ...          1         0         0       4   \n",
       "\n",
       "   freetime  goout  Dalc  Walc  health  absences  \n",
       "0         3      4     1     1       3         6  \n",
       "1         3      3     1     1       3         4  \n",
       "2         3      2     2     3       3        10  \n",
       "3         2      2     1     1       5         2  \n",
       "4         3      2     1     2       5         4  \n",
       "\n",
       "[5 rows x 48 columns]"
      ]
     },
     "execution_count": 29,
     "metadata": {},
     "output_type": "execute_result"
    }
   ],
   "source": [
    "X_all.head()"
   ]
  },
  {
   "cell_type": "code",
   "execution_count": 35,
   "metadata": {
    "collapsed": false
   },
   "outputs": [
    {
     "name": "stderr",
     "output_type": "stream",
     "text": [
      "Exception AttributeError: \"'DMatrix' object has no attribute 'handle'\" in <bound method DMatrix.__del__ of <xgboost.core.DMatrix object at 0x119e0e650>> ignored\n",
      "Exception AttributeError: \"'DMatrix' object has no attribute 'handle'\" in <bound method DMatrix.__del__ of <xgboost.core.DMatrix object at 0x1198ca810>> ignored\n",
      "Exception AttributeError: \"'DMatrix' object has no attribute 'handle'\" in <bound method DMatrix.__del__ of <xgboost.core.DMatrix object at 0x119897f90>> ignored\n",
      "Exception "
     ]
    },
    {
     "name": "stdout",
     "output_type": "stream",
     "text": [
      "Training time = 00:01:01.09\n",
      "0.516381048387\n",
      "--------------------------------\n",
      "Load pipeline with:\n",
      "%load exported_pipeline.py\n"
     ]
    },
    {
     "name": "stderr",
     "output_type": "stream",
     "text": [
      "AttributeError: \"'DMatrix' object has no attribute 'handle'\" in <bound method DMatrix.__del__ of <xgboost.core.DMatrix object at 0x119dfb390>> ignored\n"
     ]
    }
   ],
   "source": [
    "X_train, X_test, y_train, y_test = train_TPOT(features=X_all, target=y_all, rand=1234, test_size=.24, gen=3)"
   ]
  },
  {
   "cell_type": "code",
   "execution_count": 38,
   "metadata": {
    "collapsed": false,
    "scrolled": true
   },
   "outputs": [
    {
     "name": "stdout",
     "output_type": "stream",
     "text": [
      "XGBClassifier(base_score=0.5, colsample_bylevel=1, colsample_bytree=1,\n",
      "       gamma=0, learning_rate=0.01, max_delta_step=0, max_depth=100,\n",
      "       min_child_weight=1, missing=None, n_estimators=39, nthread=-1,\n",
      "       objective='binary:logistic', reg_alpha=0, reg_lambda=1,\n",
      "       scale_pos_weight=1, seed=0, silent=True, subsample=1)\n",
      "             precision    recall  f1-score   support\n",
      "\n",
      "         no       0.33      0.26      0.29        31\n",
      "        yes       0.68      0.75      0.71        64\n",
      "\n",
      "avg / total       0.56      0.59      0.57        95\n",
      "\n"
     ]
    }
   ],
   "source": [
    "# assign clf and run exported pipeline on train and test sets\n",
    "from xgboost import XGBClassifier\n",
    "clf = XGBClassifier(learning_rate=0.01, n_estimators=39, max_depth=100)\n",
    "run_pipeline(clf, features=X_all, target=y_all, rand=1234, test_size=.24)"
   ]
  },
  {
   "cell_type": "markdown",
   "metadata": {},
   "source": [
    "---\n",
    "\n",
    "## Predict with xgboost"
   ]
  },
  {
   "cell_type": "code",
   "execution_count": 39,
   "metadata": {
    "collapsed": true
   },
   "outputs": [],
   "source": [
    "# split training data into train and validation\n",
    "X_train, X_valid, y_train, y_valid = train_test_split(X_train, y_train, test_size=.1, random_state=1234)"
   ]
  },
  {
   "cell_type": "code",
   "execution_count": 58,
   "metadata": {
    "collapsed": true
   },
   "outputs": [],
   "source": [
    "from xgboost.sklearn import XGBClassifier\n",
    "\n",
    "# get our classifier\n",
    "est = XGBClassifier(max_depth=6, learning_rate=0.25, n_estimators=250, gamma=0,\n",
    "                    subsample=0.8, colsample_bytree=0.8, seed=101)"
   ]
  },
  {
   "cell_type": "code",
   "execution_count": 53,
   "metadata": {
    "collapsed": false
   },
   "outputs": [
    {
     "data": {
      "text/plain": [
       "0    1\n",
       "1    1\n",
       "2    0\n",
       "3    1\n",
       "4    0\n",
       "dtype: int64"
      ]
     },
     "execution_count": 53,
     "metadata": {},
     "output_type": "execute_result"
    }
   ],
   "source": [
    "# change targets to 1, 0\n",
    "y_test = pd.Series(y_test).replace(['yes', 'no'], [1, 0])\n",
    "y_train = pd.Series(y_train).replace(['yes', 'no'], [1, 0])\n",
    "y_valid = pd.Series(y_valid).replace(['yes', 'no'], [1, 0])\n",
    "\n",
    "y_test[:5]"
   ]
  },
  {
   "cell_type": "code",
   "execution_count": 59,
   "metadata": {
    "collapsed": false,
    "scrolled": true
   },
   "outputs": [
    {
     "name": "stderr",
     "output_type": "stream",
     "text": [
      "Will train until validation_1 error hasn't decreased in 50 rounds.\n",
      "[0]\tvalidation_0-logloss:0.621830\tvalidation_1-logloss:0.703260\n",
      "[1]\tvalidation_0-logloss:0.555032\tvalidation_1-logloss:0.672314\n",
      "[2]\tvalidation_0-logloss:0.498874\tvalidation_1-logloss:0.675837\n",
      "[3]\tvalidation_0-logloss:0.457804\tvalidation_1-logloss:0.701792\n",
      "[4]\tvalidation_0-logloss:0.426074\tvalidation_1-logloss:0.694766\n",
      "[5]\tvalidation_0-logloss:0.397017\tvalidation_1-logloss:0.685203\n",
      "[6]\tvalidation_0-logloss:0.371078\tvalidation_1-logloss:0.704110\n",
      "[7]\tvalidation_0-logloss:0.343017\tvalidation_1-logloss:0.707893\n",
      "[8]\tvalidation_0-logloss:0.323117\tvalidation_1-logloss:0.723213\n",
      "[9]\tvalidation_0-logloss:0.304686\tvalidation_1-logloss:0.722135\n",
      "[10]\tvalidation_0-logloss:0.291200\tvalidation_1-logloss:0.704073\n",
      "[11]\tvalidation_0-logloss:0.277681\tvalidation_1-logloss:0.699630\n",
      "[12]\tvalidation_0-logloss:0.265660\tvalidation_1-logloss:0.700930\n",
      "[13]\tvalidation_0-logloss:0.254301\tvalidation_1-logloss:0.711472\n",
      "[14]\tvalidation_0-logloss:0.239153\tvalidation_1-logloss:0.711228\n",
      "[15]\tvalidation_0-logloss:0.228743\tvalidation_1-logloss:0.715641\n",
      "[16]\tvalidation_0-logloss:0.219057\tvalidation_1-logloss:0.729834\n",
      "[17]\tvalidation_0-logloss:0.210366\tvalidation_1-logloss:0.716997\n",
      "[18]\tvalidation_0-logloss:0.202746\tvalidation_1-logloss:0.725081\n",
      "[19]\tvalidation_0-logloss:0.194968\tvalidation_1-logloss:0.732667\n",
      "[20]\tvalidation_0-logloss:0.185576\tvalidation_1-logloss:0.758864\n",
      "[21]\tvalidation_0-logloss:0.177396\tvalidation_1-logloss:0.770042\n",
      "[22]\tvalidation_0-logloss:0.171278\tvalidation_1-logloss:0.777798\n",
      "[23]\tvalidation_0-logloss:0.167935\tvalidation_1-logloss:0.777451\n",
      "[24]\tvalidation_0-logloss:0.162940\tvalidation_1-logloss:0.780525\n",
      "[25]\tvalidation_0-logloss:0.158486\tvalidation_1-logloss:0.780543\n",
      "[26]\tvalidation_0-logloss:0.153401\tvalidation_1-logloss:0.789333\n",
      "[27]\tvalidation_0-logloss:0.146544\tvalidation_1-logloss:0.806939\n",
      "[28]\tvalidation_0-logloss:0.141727\tvalidation_1-logloss:0.808491\n",
      "[29]\tvalidation_0-logloss:0.138637\tvalidation_1-logloss:0.803332\n",
      "[30]\tvalidation_0-logloss:0.134378\tvalidation_1-logloss:0.813697\n",
      "[31]\tvalidation_0-logloss:0.131495\tvalidation_1-logloss:0.807366\n",
      "[32]\tvalidation_0-logloss:0.126709\tvalidation_1-logloss:0.815622\n",
      "[33]\tvalidation_0-logloss:0.122684\tvalidation_1-logloss:0.814737\n",
      "[34]\tvalidation_0-logloss:0.119537\tvalidation_1-logloss:0.829704\n",
      "[35]\tvalidation_0-logloss:0.116876\tvalidation_1-logloss:0.839337\n",
      "[36]\tvalidation_0-logloss:0.114820\tvalidation_1-logloss:0.839325\n",
      "[37]\tvalidation_0-logloss:0.112659\tvalidation_1-logloss:0.854001\n",
      "[38]\tvalidation_0-logloss:0.109795\tvalidation_1-logloss:0.859857\n",
      "[39]\tvalidation_0-logloss:0.107851\tvalidation_1-logloss:0.858781\n",
      "[40]\tvalidation_0-logloss:0.105969\tvalidation_1-logloss:0.857283\n",
      "[41]\tvalidation_0-logloss:0.103083\tvalidation_1-logloss:0.851128\n",
      "[42]\tvalidation_0-logloss:0.100873\tvalidation_1-logloss:0.848859\n",
      "[43]\tvalidation_0-logloss:0.098858\tvalidation_1-logloss:0.855412\n",
      "[44]\tvalidation_0-logloss:0.097171\tvalidation_1-logloss:0.860468\n",
      "[45]\tvalidation_0-logloss:0.095338\tvalidation_1-logloss:0.868873\n",
      "[46]\tvalidation_0-logloss:0.093636\tvalidation_1-logloss:0.870157\n",
      "[47]\tvalidation_0-logloss:0.091534\tvalidation_1-logloss:0.875123\n",
      "[48]\tvalidation_0-logloss:0.089757\tvalidation_1-logloss:0.880941\n",
      "[49]\tvalidation_0-logloss:0.088184\tvalidation_1-logloss:0.892901\n",
      "[50]\tvalidation_0-logloss:0.086911\tvalidation_1-logloss:0.898138\n",
      "[51]\tvalidation_0-logloss:0.085179\tvalidation_1-logloss:0.899618\n",
      "Stopping. Best iteration:\n",
      "[1]\tvalidation_0-logloss:0.555032\tvalidation_1-logloss:0.672314\n",
      "\n"
     ]
    },
    {
     "data": {
      "text/plain": [
       "XGBClassifier(base_score=0.5, colsample_bylevel=1, colsample_bytree=0.8,\n",
       "       gamma=0, learning_rate=0.25, max_delta_step=0, max_depth=6,\n",
       "       min_child_weight=1, missing=None, n_estimators=250, nthread=-1,\n",
       "       objective='binary:logistic', reg_alpha=0, reg_lambda=1,\n",
       "       scale_pos_weight=1, seed=101, silent=True, subsample=0.8)"
      ]
     },
     "execution_count": 59,
     "metadata": {},
     "output_type": "execute_result"
    }
   ],
   "source": [
    "# fit the model and show results for both train and valid sets\n",
    "my_eval_set = [(X_train,y_train), (X_valid,y_valid)]\n",
    "est.fit(X_train, y_train, eval_set=my_eval_set, early_stopping_rounds=50, eval_metric='logloss')"
   ]
  },
  {
   "cell_type": "code",
   "execution_count": 61,
   "metadata": {
    "collapsed": false
   },
   "outputs": [
    {
     "name": "stdout",
     "output_type": "stream",
     "text": [
      "             precision    recall  f1-score   support\n",
      "\n",
      "          0       0.54      0.42      0.47        31\n",
      "          1       0.75      0.83      0.79        64\n",
      "\n",
      "avg / total       0.68      0.69      0.68        95\n",
      "\n"
     ]
    }
   ],
   "source": [
    "# look at results\n",
    "print metrics.classification_report(y_test, est.predict(X_test))"
   ]
  },
  {
   "cell_type": "code",
   "execution_count": null,
   "metadata": {
    "collapsed": true
   },
   "outputs": [],
   "source": []
  }
 ],
 "metadata": {
  "kernelspec": {
   "display_name": "Python 2",
   "language": "python",
   "name": "python2"
  },
  "language_info": {
   "codemirror_mode": {
    "name": "ipython",
    "version": 2
   },
   "file_extension": ".py",
   "mimetype": "text/x-python",
   "name": "python",
   "nbconvert_exporter": "python",
   "pygments_lexer": "ipython2",
   "version": "2.7.11"
  }
 },
 "nbformat": 4,
 "nbformat_minor": 0
}
