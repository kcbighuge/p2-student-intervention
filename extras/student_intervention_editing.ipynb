{
 "cells": [
  {
   "cell_type": "markdown",
   "metadata": {},
   "source": [
    "# Project 2: Supervised Learning\n",
    "### Building a Student Intervention System\n",
    "original data, uc irvine: https://archive.ics.uci.edu/ml/datasets/Student+Performance"
   ]
  },
  {
   "cell_type": "markdown",
   "metadata": {},
   "source": [
    "## 1. Classification vs Regression\n",
    "\n",
    "Your goal is to identify students who might need early intervention - which type of supervised machine learning problem is this, classification or regression? Why?\n",
    "\n",
    "> This is a classifcation problem, where the goal is to make a decision with binary output (need or don't need). Classification is for solving problems with discrete value outputs."
   ]
  },
  {
   "cell_type": "markdown",
   "metadata": {},
   "source": [
    "## 2. Exploring the Data\n",
    "\n",
    "Let's go ahead and read in the student dataset first.\n",
    "\n",
    "_To execute a code cell, click inside it and press **Shift+Enter**._"
   ]
  },
  {
   "cell_type": "code",
   "execution_count": 1,
   "metadata": {
    "collapsed": false
   },
   "outputs": [
    {
     "name": "stderr",
     "output_type": "stream",
     "text": [
      "/Users/jjl/anaconda/lib/python2.7/site-packages/matplotlib/__init__.py:872: UserWarning: axes.color_cycle is deprecated and replaced with axes.prop_cycle; please use the latter.\n",
      "  warnings.warn(self.msg_depr % (key, alt_key))\n"
     ]
    }
   ],
   "source": [
    "# Import libraries\n",
    "%matplotlib inline\n",
    "import numpy as np\n",
    "import pandas as pd\n",
    "import seaborn as sns"
   ]
  },
  {
   "cell_type": "code",
   "execution_count": 2,
   "metadata": {
    "collapsed": false
   },
   "outputs": [
    {
     "name": "stdout",
     "output_type": "stream",
     "text": [
      "Student data read successfully!\n"
     ]
    }
   ],
   "source": [
    "# Read student data\n",
    "student_data = pd.read_csv(\"student-data.csv\")\n",
    "print \"Student data read successfully!\"\n",
    "# Note: The last column 'passed' is the target/label, all other are feature columns"
   ]
  },
  {
   "cell_type": "markdown",
   "metadata": {},
   "source": [
    "Now, can you find out the following facts about the dataset?\n",
    "- Total number of students\n",
    "- Number of students who passed\n",
    "- Number of students who failed\n",
    "- Graduation rate of the class (%)\n",
    "- Number of features\n",
    "\n",
    "_Use the code block below to compute these values. Instructions/steps are marked using **TODO**s._"
   ]
  },
  {
   "cell_type": "code",
   "execution_count": 45,
   "metadata": {
    "collapsed": false
   },
   "outputs": [
    {
     "name": "stdout",
     "output_type": "stream",
     "text": [
      "Total number of students: 395\n",
      "Number of students who passed: 265\n",
      "Number of students who failed: 130\n",
      "Number of features: 31\n",
      "Graduation rate of the class: 67.09%\n"
     ]
    }
   ],
   "source": [
    "# TODO: Compute desired values - replace each '?' with an appropriate expression/function call\n",
    "n_students = len(student_data)\n",
    "n_features = len(student_data.columns)\n",
    "n_passed = len(student_data[student_data.passed == 'yes'])\n",
    "n_failed = len(student_data[student_data.passed == 'no'])\n",
    "grad_rate = (float(n_passed)/n_students)*100\n",
    "print \"Total number of students: {}\".format(n_students)\n",
    "print \"Number of students who passed: {}\".format(n_passed)\n",
    "print \"Number of students who failed: {}\".format(n_failed)\n",
    "print \"Number of features: {}\".format(n_features)\n",
    "print \"Graduation rate of the class: {:.2f}%\".format(grad_rate)"
   ]
  },
  {
   "cell_type": "code",
   "execution_count": 14,
   "metadata": {
    "collapsed": false
   },
   "outputs": [],
   "source": [
    "## show unique str values, numerical range\n",
    "\n",
    "def show_values(x):\n",
    "    print \"dataset shape: {} x {}\\n\".format(x.shape[0], x.shape[1])\n",
    "    for col in list(x.columns):\n",
    "        if type(x[col].iloc[0]) == str:\n",
    "            print \"{}: {}\".format(col, x[col].unique())\n",
    "        else:\n",
    "            print \"{}: {} - {}\".format(col, x[col].min(), x[col].max())"
   ]
  },
  {
   "cell_type": "code",
   "execution_count": 16,
   "metadata": {
    "collapsed": false
   },
   "outputs": [
    {
     "name": "stdout",
     "output_type": "stream",
     "text": [
      "dataset shape: 395 x 31\n",
      "\n",
      "school: ['GP' 'MS']\n",
      "sex: ['F' 'M']\n",
      "age: 15 - 22\n",
      "address: ['U' 'R']\n",
      "famsize: ['GT3' 'LE3']\n",
      "Pstatus: ['A' 'T']\n",
      "Medu: 0 - 4\n",
      "Fedu: 0 - 4\n",
      "Mjob: ['at_home' 'health' 'other' 'services' 'teacher']\n",
      "Fjob: ['teacher' 'other' 'services' 'health' 'at_home']\n",
      "reason: ['course' 'other' 'home' 'reputation']\n",
      "guardian: ['mother' 'father' 'other']\n",
      "traveltime: 1 - 4\n",
      "studytime: 1 - 4\n",
      "failures: 0 - 3\n",
      "schoolsup: ['yes' 'no']\n",
      "famsup: ['no' 'yes']\n",
      "paid: ['no' 'yes']\n",
      "activities: ['no' 'yes']\n",
      "nursery: ['yes' 'no']\n",
      "higher: ['yes' 'no']\n",
      "internet: ['no' 'yes']\n",
      "romantic: ['no' 'yes']\n",
      "famrel: 1 - 5\n",
      "freetime: 1 - 5\n",
      "goout: 1 - 5\n",
      "Dalc: 1 - 5\n",
      "Walc: 1 - 5\n",
      "health: 1 - 5\n",
      "absences: 0 - 75\n",
      "passed: ['no' 'yes']\n",
      "None\n"
     ]
    }
   ],
   "source": [
    "print show_values(student_data)"
   ]
  },
  {
   "cell_type": "code",
   "execution_count": 4,
   "metadata": {
    "collapsed": false
   },
   "outputs": [
    {
     "data": {
      "text/html": [
       "<div>\n",
       "<table border=\"1\" class=\"dataframe\">\n",
       "  <thead>\n",
       "    <tr style=\"text-align: right;\">\n",
       "      <th></th>\n",
       "      <th>school</th>\n",
       "      <th>sex</th>\n",
       "      <th>age</th>\n",
       "      <th>address</th>\n",
       "      <th>famsize</th>\n",
       "      <th>Pstatus</th>\n",
       "      <th>Medu</th>\n",
       "      <th>Fedu</th>\n",
       "      <th>Mjob</th>\n",
       "      <th>Fjob</th>\n",
       "      <th>...</th>\n",
       "      <th>internet</th>\n",
       "      <th>romantic</th>\n",
       "      <th>famrel</th>\n",
       "      <th>freetime</th>\n",
       "      <th>goout</th>\n",
       "      <th>Dalc</th>\n",
       "      <th>Walc</th>\n",
       "      <th>health</th>\n",
       "      <th>absences</th>\n",
       "      <th>passed</th>\n",
       "    </tr>\n",
       "  </thead>\n",
       "  <tbody>\n",
       "    <tr>\n",
       "      <th>0</th>\n",
       "      <td>GP</td>\n",
       "      <td>F</td>\n",
       "      <td>18</td>\n",
       "      <td>U</td>\n",
       "      <td>GT3</td>\n",
       "      <td>A</td>\n",
       "      <td>4</td>\n",
       "      <td>4</td>\n",
       "      <td>at_home</td>\n",
       "      <td>teacher</td>\n",
       "      <td>...</td>\n",
       "      <td>no</td>\n",
       "      <td>no</td>\n",
       "      <td>4</td>\n",
       "      <td>3</td>\n",
       "      <td>4</td>\n",
       "      <td>1</td>\n",
       "      <td>1</td>\n",
       "      <td>3</td>\n",
       "      <td>6</td>\n",
       "      <td>no</td>\n",
       "    </tr>\n",
       "    <tr>\n",
       "      <th>1</th>\n",
       "      <td>GP</td>\n",
       "      <td>F</td>\n",
       "      <td>17</td>\n",
       "      <td>U</td>\n",
       "      <td>GT3</td>\n",
       "      <td>T</td>\n",
       "      <td>1</td>\n",
       "      <td>1</td>\n",
       "      <td>at_home</td>\n",
       "      <td>other</td>\n",
       "      <td>...</td>\n",
       "      <td>yes</td>\n",
       "      <td>no</td>\n",
       "      <td>5</td>\n",
       "      <td>3</td>\n",
       "      <td>3</td>\n",
       "      <td>1</td>\n",
       "      <td>1</td>\n",
       "      <td>3</td>\n",
       "      <td>4</td>\n",
       "      <td>no</td>\n",
       "    </tr>\n",
       "    <tr>\n",
       "      <th>2</th>\n",
       "      <td>GP</td>\n",
       "      <td>F</td>\n",
       "      <td>15</td>\n",
       "      <td>U</td>\n",
       "      <td>LE3</td>\n",
       "      <td>T</td>\n",
       "      <td>1</td>\n",
       "      <td>1</td>\n",
       "      <td>at_home</td>\n",
       "      <td>other</td>\n",
       "      <td>...</td>\n",
       "      <td>yes</td>\n",
       "      <td>no</td>\n",
       "      <td>4</td>\n",
       "      <td>3</td>\n",
       "      <td>2</td>\n",
       "      <td>2</td>\n",
       "      <td>3</td>\n",
       "      <td>3</td>\n",
       "      <td>10</td>\n",
       "      <td>yes</td>\n",
       "    </tr>\n",
       "    <tr>\n",
       "      <th>3</th>\n",
       "      <td>GP</td>\n",
       "      <td>F</td>\n",
       "      <td>15</td>\n",
       "      <td>U</td>\n",
       "      <td>GT3</td>\n",
       "      <td>T</td>\n",
       "      <td>4</td>\n",
       "      <td>2</td>\n",
       "      <td>health</td>\n",
       "      <td>services</td>\n",
       "      <td>...</td>\n",
       "      <td>yes</td>\n",
       "      <td>yes</td>\n",
       "      <td>3</td>\n",
       "      <td>2</td>\n",
       "      <td>2</td>\n",
       "      <td>1</td>\n",
       "      <td>1</td>\n",
       "      <td>5</td>\n",
       "      <td>2</td>\n",
       "      <td>yes</td>\n",
       "    </tr>\n",
       "  </tbody>\n",
       "</table>\n",
       "<p>4 rows × 31 columns</p>\n",
       "</div>"
      ],
      "text/plain": [
       "  school sex  age address famsize Pstatus  Medu  Fedu     Mjob      Fjob  \\\n",
       "0     GP   F   18       U     GT3       A     4     4  at_home   teacher   \n",
       "1     GP   F   17       U     GT3       T     1     1  at_home     other   \n",
       "2     GP   F   15       U     LE3       T     1     1  at_home     other   \n",
       "3     GP   F   15       U     GT3       T     4     2   health  services   \n",
       "\n",
       "   ...   internet romantic  famrel  freetime  goout Dalc Walc health absences  \\\n",
       "0  ...         no       no       4         3      4    1    1      3        6   \n",
       "1  ...        yes       no       5         3      3    1    1      3        4   \n",
       "2  ...        yes       no       4         3      2    2    3      3       10   \n",
       "3  ...        yes      yes       3         2      2    1    1      5        2   \n",
       "\n",
       "  passed  \n",
       "0     no  \n",
       "1     no  \n",
       "2    yes  \n",
       "3    yes  \n",
       "\n",
       "[4 rows x 31 columns]"
      ]
     },
     "execution_count": 4,
     "metadata": {},
     "output_type": "execute_result"
    }
   ],
   "source": [
    "student_data[:4]"
   ]
  },
  {
   "cell_type": "code",
   "execution_count": 13,
   "metadata": {
    "collapsed": false
   },
   "outputs": [
    {
     "data": {
      "text/plain": [
       "<matplotlib.axes._subplots.AxesSubplot at 0x10b81c390>"
      ]
     },
     "execution_count": 13,
     "metadata": {},
     "output_type": "execute_result"
    },
    {
     "data": {
      "image/png": "[encoded data removed]",
      "text/plain": [
       "<matplotlib.figure.Figure at 0x10c0cdf90>"
      ]
     },
     "metadata": {},
     "output_type": "display_data"
    }
   ],
   "source": [
    "sns.distplot(student_data['age'], kde=False)"
   ]
  },
  {
   "cell_type": "code",
   "execution_count": 31,
   "metadata": {
    "collapsed": false
   },
   "outputs": [
    {
     "data": {
      "image/png": "[encoded data removed]",
      "text/plain": [
       "<matplotlib.figure.Figure at 0x10af87250>"
      ]
     },
     "metadata": {},
     "output_type": "display_data"
    }
   ],
   "source": [
    "sns.stripplot(x=\"absences\", y=\"passed\", hue=\"school\", data=student_data);"
   ]
  },
  {
   "cell_type": "code",
   "execution_count": 21,
   "metadata": {
    "collapsed": false
   },
   "outputs": [
    {
     "data": {
      "text/plain": [
       "<seaborn.axisgrid.FacetGrid at 0x10b19f0d0>"
      ]
     },
     "execution_count": 21,
     "metadata": {},
     "output_type": "execute_result"
    },
    {
     "data": {
      "image/png": "[encoded data removed]",
      "text/plain": [
       "<matplotlib.figure.Figure at 0x10b0dfc90>"
      ]
     },
     "metadata": {},
     "output_type": "display_data"
    }
   ],
   "source": [
    "# Make a custom palette with gendered colors\n",
    "pal = dict(M=\"#6495ED\", F=\"#F08080\")\n",
    "\n",
    "# convert 'passed' label to boolean\n",
    "student_data['passed_bool'] = student_data['passed'].replace(['yes', 'no'], [1, 0])\n",
    "\n",
    "# Show the passed label as a function of age and sex\n",
    "g = sns.lmplot(x=\"age\", y=\"passed_bool\", col=\"sex\", hue=\"sex\", data=student_data,\n",
    "               palette=pal, y_jitter=.02, logistic=True)\n",
    "g.set(xlim=(15, 22), ylim=(-.05, 1.05))"
   ]
  },
  {
   "cell_type": "markdown",
   "metadata": {},
   "source": [
    "---\n",
    "## 3. Preparing the Data\n",
    "In this section, we will prepare the data for modeling, training and testing.\n",
    "\n",
    "### Identify feature and target columns\n",
    "It is often the case that the data you obtain contains non-numeric features. This can be a problem, as most machine learning algorithms expect numeric data to perform computations with.\n",
    "\n",
    "Let's first separate our data into feature and target columns, and see if any features are non-numeric.<br/>\n",
    "**Note**: For this dataset, the last column (`'passed'`) is the target or label we are trying to predict."
   ]
  },
  {
   "cell_type": "code",
   "execution_count": 3,
   "metadata": {
    "collapsed": false
   },
   "outputs": [
    {
     "name": "stdout",
     "output_type": "stream",
     "text": [
      "Feature column(s):-\n",
      "['school', 'sex', 'age', 'address', 'famsize', 'Pstatus', 'Medu', 'Fedu', 'Mjob', 'Fjob', 'reason', 'guardian', 'traveltime', 'studytime', 'failures', 'schoolsup', 'famsup', 'paid', 'activities', 'nursery', 'higher', 'internet', 'romantic', 'famrel', 'freetime', 'goout', 'Dalc', 'Walc', 'health', 'absences']\n",
      "\n",
      "Target column: passed\n",
      "\n",
      "Feature values:-\n",
      "  school sex  age address famsize Pstatus  Medu  Fedu     Mjob     Fjob  \\\n",
      "0     GP   F   18       U     GT3       A     4     4  at_home  teacher   \n",
      "1     GP   F   17       U     GT3       T     1     1  at_home    other   \n",
      "2     GP   F   15       U     LE3       T     1     1  at_home    other   \n",
      "\n",
      "    ...    higher internet  romantic  famrel  freetime goout Dalc Walc health  \\\n",
      "0   ...       yes       no        no       4         3     4    1    1      3   \n",
      "1   ...       yes      yes        no       5         3     3    1    1      3   \n",
      "2   ...       yes      yes        no       4         3     2    2    3      3   \n",
      "\n",
      "  absences  \n",
      "0        6  \n",
      "1        4  \n",
      "2       10  \n",
      "\n",
      "[3 rows x 30 columns]\n"
     ]
    }
   ],
   "source": [
    "# Extract feature (X) and target (y) columns\n",
    "feature_cols = list(student_data.columns[:-1])  # all columns but last are features\n",
    "target_col = student_data.columns[-1]  # last column is the target/label\n",
    "print \"Feature column(s):-\\n{}\".format(feature_cols)\n",
    "print \"\\nTarget column: {}\".format(target_col)\n",
    "\n",
    "X_all = student_data[feature_cols]  # feature values for all students\n",
    "y_all = student_data[target_col]  # corresponding targets/labels\n",
    "print \"\\nFeature values:-\"\n",
    "print X_all.head(3)  # print the first few rows"
   ]
  },
  {
   "cell_type": "markdown",
   "metadata": {},
   "source": [
    "### Preprocess feature columns\n",
    "\n",
    "As you can see, there are several non-numeric columns that need to be converted! Many of them are simply `yes`/`no`, e.g. `internet`. These can be reasonably converted into `1`/`0` (binary) values.\n",
    "\n",
    "Other columns, like `Mjob` and `Fjob`, have more than two values, and are known as _categorical variables_. The recommended way to handle such a column is to create as many columns as possible values (e.g. `Fjob_teacher`, `Fjob_other`, `Fjob_services`, etc.), and assign a `1` to one of them and `0` to all others.\n",
    "\n",
    "These generated columns are sometimes called _dummy variables_, and we will use the [`pandas.get_dummies()`](http://pandas.pydata.org/pandas-docs/stable/generated/pandas.get_dummies.html?highlight=get_dummies#pandas.get_dummies) function to perform this transformation."
   ]
  },
  {
   "cell_type": "code",
   "execution_count": 4,
   "metadata": {
    "collapsed": false
   },
   "outputs": [
    {
     "name": "stdout",
     "output_type": "stream",
     "text": [
      "Processed feature columns (48):-\n",
      "['school_GP', 'school_MS', 'sex_F', 'sex_M', 'age', 'address_R', 'address_U', 'famsize_GT3', 'famsize_LE3', 'Pstatus_A', 'Pstatus_T', 'Medu', 'Fedu', 'Mjob_at_home', 'Mjob_health', 'Mjob_other', 'Mjob_services', 'Mjob_teacher', 'Fjob_at_home', 'Fjob_health', 'Fjob_other', 'Fjob_services', 'Fjob_teacher', 'reason_course', 'reason_home', 'reason_other', 'reason_reputation', 'guardian_father', 'guardian_mother', 'guardian_other', 'traveltime', 'studytime', 'failures', 'schoolsup', 'famsup', 'paid', 'activities', 'nursery', 'higher', 'internet', 'romantic', 'famrel', 'freetime', 'goout', 'Dalc', 'Walc', 'health', 'absences']\n"
     ]
    }
   ],
   "source": [
    "# Preprocess feature columns\n",
    "def preprocess_features(X):\n",
    "    outX = pd.DataFrame(index=X.index)  # output dataframe, initially empty\n",
    "\n",
    "    # Check each column\n",
    "    for col, col_data in X.iteritems():\n",
    "        # If data type is non-numeric, try to replace all yes/no values with 1/0\n",
    "        if col_data.dtype == object:\n",
    "            col_data = col_data.replace(['yes', 'no'], [1, 0])\n",
    "            # Note: This should change the data type for yes/no columns to int\n",
    "\n",
    "        # If still non-numeric, convert to one or more dummy variables\n",
    "        if col_data.dtype == object:\n",
    "            col_data = pd.get_dummies(col_data, prefix=col)  # e.g. 'school' => 'school_GP', 'school_MS'\n",
    "\n",
    "        outX = outX.join(col_data)  # collect column(s) in output dataframe\n",
    "\n",
    "    return outX\n",
    "\n",
    "X_all = preprocess_features(X_all)\n",
    "print \"Processed feature columns ({}):-\\n{}\".format(len(X_all.columns), list(X_all.columns))"
   ]
  },
  {
   "cell_type": "markdown",
   "metadata": {},
   "source": [
    "### Split data into training and test sets\n",
    "\n",
    "So far, we have converted all _categorical_ features into numeric values. In this next step, we split the data (both features and corresponding labels) into training and test sets."
   ]
  },
  {
   "cell_type": "code",
   "execution_count": 300,
   "metadata": {
    "collapsed": false
   },
   "outputs": [
    {
     "name": "stdout",
     "output_type": "stream",
     "text": [
      "Training set: 300 samples\n",
      "Test set: 95 samples\n"
     ]
    }
   ],
   "source": [
    "from sklearn import cross_validation\n",
    "\n",
    "# First, decide how many training vs test samples you want\n",
    "num_all = student_data.shape[0]  # same as len(student_data)\n",
    "num_train = 300  # about 75% of the data\n",
    "num_test = num_all - num_train\n",
    "\n",
    "# TODO: Then, select features (X) and corresponding labels (y) for the training and test sets\n",
    "# Note: Shuffle the data or randomly select samples to avoid any bias due to ordering in the dataset\n",
    "X_train, X_test, y_train, y_test = cross_validation.train_test_split(X_all, y_all, \\\n",
    "                                                                     test_size=int(num_test), random_state=0)\n",
    "#X_train = ?\n",
    "#y_train = ?\n",
    "#X_test = ?\n",
    "#y_test = ?\n",
    "print \"Training set: {} samples\".format(X_train.shape[0])\n",
    "print \"Test set: {} samples\".format(X_test.shape[0])\n",
    "\n",
    "# Note: If you need a validation set, extract it from within training data"
   ]
  },
  {
   "cell_type": "markdown",
   "metadata": {},
   "source": [
    "---\n",
    "## 4. Training and Evaluating Models\n",
    "Choose 3 supervised learning models that are available in scikit-learn, and appropriate for this problem. For each model:\n",
    "\n",
    "- What is the theoretical O(n) time & space complexity in terms of input size?\n",
    "- What are the general applications of this model? What are its strengths and weaknesses?\n",
    "- Given what you know about the data so far, why did you choose this model to apply?\n",
    "- Fit this model to the training data, try to predict labels (for both training and test sets), and measure the F<sub>1</sub> score. Repeat this process with different training set sizes (100, 200, 300), keeping test set constant.\n",
    "\n",
    "Produce a table showing training time, prediction time, F<sub>1</sub> score on training set and F<sub>1</sub> score on test set, for each training set size.\n",
    "\n",
    "Note: You need to produce 3 such tables - one for each model."
   ]
  },
  {
   "cell_type": "code",
   "execution_count": 6,
   "metadata": {
    "collapsed": true
   },
   "outputs": [],
   "source": [
    "'''\n",
    "Define various functions to utilize for each new model\n",
    "'''\n",
    "\n",
    "# show model training time\n",
    "import time\n",
    "\n",
    "def train_classifier(clf, X_train, y_train):\n",
    "    print \"Training {}...\".format(clf.__class__.__name__)\n",
    "    start = time.time()\n",
    "    clf.fit(X_train, y_train)\n",
    "    end = time.time()\n",
    "    print \"Done!\\nTraining time (secs): {:.3f}\".format(end - start)\n",
    "\n",
    "\n",
    "# Train and predict using different training set sizes\n",
    "def train_predict(clf, X_train, y_train, X_test, y_test):\n",
    "    print \"------------------------------------------\"\n",
    "    print \"Training set size: {}\".format(len(X_train))\n",
    "    train_classifier(clf, X_train, y_train)\n",
    "    print \"F1 score for training set: {}\".format(predict_labels(clf, X_train, y_train))\n",
    "    print \"F1 score for test set: {}\".format(predict_labels(clf, X_test, y_test))\n",
    "\n",
    "\n",
    "# Run the helper function above for desired subsets of training data\n",
    "# Note: Keep the test set constant\n",
    "def train_predict_size(clf, size):\n",
    "    subsets = np.linspace(len(X_train)/size, len(X_train), size, dtype=int)\n",
    "    for i,s in enumerate(subsets):\n",
    "        train_predict(clf, X_train[:s], y_train[:s], X_test, y_test)\n",
    "\n",
    "\n",
    "# Predict on training set and compute F1 score`\n",
    "from sklearn.metrics import f1_score\n",
    "\n",
    "def predict_labels(clf, features, target):\n",
    "    print \"Predicting labels using {}...\".format(clf.__class__.__name__)\n",
    "    start = time.time()\n",
    "    y_pred = clf.predict(features)\n",
    "    end = time.time()\n",
    "    print \"Done!\\nPrediction time (secs): {:.3f}\".format(end - start)\n",
    "    return f1_score(target.values, y_pred, pos_label='yes')\n",
    "\n",
    "\n",
    "# Predict on training set and compute F1 score\n",
    "def show_f1_score(clf, X_set, y_set, dataset):\n",
    "    score = predict_labels(clf, X_set, y_set)\n",
    "    print \"F1 score for {} set: {}\".format(dataset, score)"
   ]
  },
  {
   "cell_type": "markdown",
   "metadata": {},
   "source": [
    "### Model #1: [Decision Tree](http://scikit-learn.org/stable/modules/generated/sklearn.tree.DecisionTreeClassifier.html)\n",
    "\n",
    "- What is the theoretical O(n) time & space complexity in terms of input size?\n",
    ">  O(n samples * n features * log n samples)\n",
    "\n",
    "- What are the general applications of this model? What are its strengths and weaknesses?\n",
    "> Classification via information gain.\n",
    "\n",
    "    > Prefers good splits near top of tree. Overfitting.\n",
    "\n",
    "- Given what you know about the data so far, why did you choose this model to apply?\n",
    "> Many features\n"
   ]
  },
  {
   "cell_type": "markdown",
   "metadata": {},
   "source": [
    "\n",
    "| Decision Tree                  | Training set size 100   |Training set size 200|Training set size 300|\n",
    "| --------------------------|:-----:|:-----:|:-----:|\n",
    "| Training time (secs)      |0.023  |0.001  |0.002  |\n",
    "| Prediction time (secs)    |0.001  |0.000  |0.002  |\n",
    "| F1 score for training set |0.8504 |0.8425 |0.8622 |\n",
    "| F1 score for test set     |0.7586 |0.7971 |0.8088 |"
   ]
  },
  {
   "cell_type": "code",
   "execution_count": 45,
   "metadata": {
    "collapsed": false
   },
   "outputs": [
    {
     "name": "stdout",
     "output_type": "stream",
     "text": [
      "Training DecisionTreeClassifier...\n",
      "Done!\n",
      "Training time (secs): 0.002\n"
     ]
    }
   ],
   "source": [
    "# Train a model\n",
    "import time\n",
    "\n",
    "def train_classifier(clf, X_train, y_train):\n",
    "    print \"Training {}...\".format(clf.__class__.__name__)\n",
    "    start = time.time()\n",
    "    clf.fit(X_train, y_train)\n",
    "    end = time.time()\n",
    "    print \"Done!\\nTraining time (secs): {:.3f}\".format(end - start)\n",
    "\n",
    "# TODO: Choose a model, import it and instantiate an object\n",
    "from sklearn.tree import DecisionTreeClassifier\n",
    "clf = DecisionTreeClassifier(random_state=0)\n",
    "\n",
    "# Fit model to training data\n",
    "train_classifier(clf, X_train, y_train)  # note: using entire training set here\n",
    "#print clf  # you can inspect the learned model by printing it"
   ]
  },
  {
   "cell_type": "code",
   "execution_count": 11,
   "metadata": {
    "collapsed": false
   },
   "outputs": [
    {
     "name": "stdout",
     "output_type": "stream",
     "text": [
      "------------------------------------------\n",
      "Training set size: 100\n",
      "Training DecisionTreeClassifier...\n",
      "Done!\n",
      "Training time (secs): 0.023\n",
      "Predicting labels using DecisionTreeClassifier...\n",
      "Done!\n",
      "Prediction time (secs): 0.001\n",
      "F1 score for training set: 0.850393700787\n",
      "Predicting labels using DecisionTreeClassifier...\n",
      "Done!\n",
      "Prediction time (secs): 0.000\n",
      "F1 score for test set: 0.758620689655\n",
      "------------------------------------------\n",
      "Training set size: 200\n",
      "Training DecisionTreeClassifier...\n",
      "Done!\n",
      "Training time (secs): 0.001\n",
      "Predicting labels using DecisionTreeClassifier...\n",
      "Done!\n",
      "Prediction time (secs): 0.000\n",
      "F1 score for training set: 0.842465753425\n",
      "Predicting labels using DecisionTreeClassifier...\n",
      "Done!\n",
      "Prediction time (secs): 0.000\n",
      "F1 score for test set: 0.797101449275\n",
      "------------------------------------------\n",
      "Training set size: 300\n",
      "Training DecisionTreeClassifier...\n",
      "Done!\n",
      "Training time (secs): 0.002\n",
      "Predicting labels using DecisionTreeClassifier...\n",
      "Done!\n",
      "Prediction time (secs): 0.002\n",
      "F1 score for training set: 0.862222222222\n",
      "Predicting labels using DecisionTreeClassifier...\n",
      "Done!\n",
      "Prediction time (secs): 0.000\n",
      "F1 score for test set: 0.808823529412\n"
     ]
    }
   ],
   "source": [
    "# Train and predict using different training set sizes\n",
    "def train_predict(clf, X_train, y_train, X_test, y_test):\n",
    "    print \"------------------------------------------\"\n",
    "    print \"Training set size: {}\".format(len(X_train))\n",
    "    train_classifier(clf, X_train, y_train)\n",
    "    print \"F1 score for training set: {}\".format(predict_labels(clf, X_train, y_train))\n",
    "    print \"F1 score for test set: {}\".format(predict_labels(clf, X_test, y_test))\n",
    "\n",
    "# TODO: Run the helper function above for desired subsets of training datoa\n",
    "# Note: Keep the test set constant\n",
    "subsets = np.linspace(len(X_train)/3, len(X_train), 3, dtype=int)\n",
    "for i,s in enumerate(subsets):\n",
    "    train_predict(clf, X_train[:s], y_train[:s], X_test, y_test)"
   ]
  },
  {
   "cell_type": "code",
   "execution_count": 230,
   "metadata": {
    "collapsed": false
   },
   "outputs": [
    {
     "name": "stdout",
     "output_type": "stream",
     "text": [
      "Predicting labels using DecisionTreeClassifier...\n",
      "Done!\n",
      "Prediction time (secs): 0.009\n",
      "F1 score for training set: 1.0\n"
     ]
    }
   ],
   "source": [
    "# Predict on training set and compute F1 score\n",
    "from sklearn.metrics import f1_score\n",
    "\n",
    "def predict_labels(clf, features, target):\n",
    "    print \"Predicting labels using {}...\".format(clf.__class__.__name__)\n",
    "    start = time.time()\n",
    "    y_pred = clf.predict(features)\n",
    "    end = time.time()\n",
    "    print \"Done!\\nPrediction time (secs): {:.3f}\".format(end - start)\n",
    "    return f1_score(target.values, y_pred, pos_label='yes')\n",
    "\n",
    "train_f1_score = predict_labels(clf, X_train, y_train)\n",
    "print \"F1 score for training set: {}\".format(train_f1_score)"
   ]
  },
  {
   "cell_type": "code",
   "execution_count": 33,
   "metadata": {
    "collapsed": false
   },
   "outputs": [
    {
     "name": "stdout",
     "output_type": "stream",
     "text": [
      "Predicting labels using DecisionTreeClassifier...\n",
      "Done!\n",
      "Prediction time (secs): 0.000\n",
      "F1 score for test set: 0.716666666667\n"
     ]
    }
   ],
   "source": [
    "# Predict on test data\n",
    "print \"F1 score for test set: {}\".format(predict_labels(clf, X_test, y_test))"
   ]
  },
  {
   "cell_type": "markdown",
   "metadata": {},
   "source": [
    "#### Decision Tree: adjust min_samples_split"
   ]
  },
  {
   "cell_type": "code",
   "execution_count": 46,
   "metadata": {
    "collapsed": false
   },
   "outputs": [
    {
     "name": "stdout",
     "output_type": "stream",
     "text": [
      "Training DecisionTreeClassifier...\n",
      "Done!\n",
      "Training time (secs): 0.002\n",
      "Predicting labels using DecisionTreeClassifier...\n",
      "Done!\n",
      "Prediction time (secs): 0.000\n",
      "F1 score for training set: 0.85308056872\n",
      "Predicting labels using DecisionTreeClassifier...\n",
      "Done!\n",
      "Prediction time (secs): 0.000\n",
      "F1 score for test set: 0.740157480315\n"
     ]
    }
   ],
   "source": [
    "# Decision tree with varying min_samples_split\n",
    "from sklearn.tree import DecisionTreeClassifier\n",
    "clf = DecisionTreeClassifier(min_samples_split=30, random_state=0)\n",
    "\n",
    "# Fit model to training data\n",
    "train_classifier(clf, X_train, y_train)  # note: using entire training set here\n",
    "#print clf  # you can inspect the learned model by printing it\n",
    "\n",
    "# Predict on training set and compute F1 score\n",
    "train_f1_score = predict_labels(clf, X_train, y_train)\n",
    "print \"F1 score for training set: {}\".format(train_f1_score)\n",
    "\n",
    "# Predict on test data\n",
    "print \"F1 score for test set: {}\".format(predict_labels(clf, X_test, y_test))"
   ]
  },
  {
   "cell_type": "markdown",
   "metadata": {},
   "source": [
    "#### Decision Tree: adjust criterion"
   ]
  },
  {
   "cell_type": "code",
   "execution_count": 47,
   "metadata": {
    "collapsed": false
   },
   "outputs": [
    {
     "name": "stdout",
     "output_type": "stream",
     "text": [
      "Training DecisionTreeClassifier...\n",
      "Done!\n",
      "Training time (secs): 0.002\n",
      "Predicting labels using DecisionTreeClassifier...\n",
      "Done!\n",
      "Prediction time (secs): 0.000\n",
      "F1 score for training set: 0.862222222222\n",
      "\n",
      "Predicting labels using DecisionTreeClassifier...\n",
      "Done!\n",
      "Prediction time (secs): 0.000\n",
      "F1 score for test set: 0.808823529412\n"
     ]
    }
   ],
   "source": [
    "# Decision tree with varying criterion\n",
    "from sklearn.tree import DecisionTreeClassifier\n",
    "clf = DecisionTreeClassifier(criterion='entropy', min_samples_split=30, random_state=0)\n",
    "\n",
    "# Fit model to training data\n",
    "train_classifier(clf, X_train, y_train)  # note: using entire training set here\n",
    "#print clf  # you can inspect the learned model by printing it\n",
    "\n",
    "# Predict on training set and compute F1 score\n",
    "train_f1_score = predict_labels(clf, X_train, y_train)\n",
    "print \"F1 score for training set: {}\".format(train_f1_score)\n",
    "\n",
    "# Predict on test data\n",
    "print \"\"\n",
    "print \"F1 score for test set: {}\".format(predict_labels(clf, X_test, y_test))"
   ]
  },
  {
   "cell_type": "markdown",
   "metadata": {},
   "source": [
    "#### Decision Tree: visualization"
   ]
  },
  {
   "cell_type": "code",
   "execution_count": 90,
   "metadata": {
    "collapsed": false
   },
   "outputs": [
    {
     "name": "stdout",
     "output_type": "stream",
     "text": [
      "Training DecisionTreeClassifier...\n",
      "Done!\n",
      "Training time (secs): 0.021\n",
      "\n",
      "Predicting labels using DecisionTreeClassifier...\n",
      "Done!\n",
      "Prediction time (secs): 0.000\n",
      "F1 score for training set: 0.769633507853\n",
      "\n",
      "Predicting labels using DecisionTreeClassifier...\n",
      "Done!\n",
      "Prediction time (secs): 0.000\n",
      "F1 score for test set: 0.71186440678\n",
      "\n",
      "Accuracy for test: 0.642105263158\n",
      "\n",
      "Precision for test ('no'): 0.527777777778\n",
      "\n",
      "Precision for test ('yes'): 0.71186440678\n",
      "\n",
      "Recall for test ('no'): 0.527777777778\n",
      "\n",
      "Recall for test ('yes'): 0.71186440678\n",
      "\n"
     ]
    }
   ],
   "source": [
    "# Train a classifier\n",
    "clf = DecisionTreeClassifier(criterion='entropy', min_samples_split=100, class_weight='balanced', random_state=0)\n",
    "\n",
    "train_classifier(clf, X_train, y_train)\n",
    "print \"\"\n",
    "show_f1_score(clf, X_train, y_train, 'training')\n",
    "print \"\"\n",
    "show_f1_score(clf, X_test, y_test, 'test')"
   ]
  },
  {
   "cell_type": "code",
   "execution_count": null,
   "metadata": {
    "collapsed": true
   },
   "outputs": [],
   "source": [
    "# Look at other metrics: accuracy, precision, recall\n",
    "y_pred = clf.predict(X_test)\n",
    "print \"Accuracy for test: {}\\n\".format(metrics.accuracy_score(y_test, y_pred))\n",
    "print \"Precision for test ('no'): {}\\n\".format(metrics.precision_score(y_test, y_pred, pos_label=\"no\"))\n",
    "print \"Precision for test ('yes'): {}\\n\".format(metrics.precision_score(y_test, y_pred, pos_label=\"yes\"))\n",
    "print \"Recall for test ('no'): {}\\n\".format(metrics.recall_score(y_test, y_pred, pos_label=\"no\"))\n",
    "print \"Recall for test ('yes'): {}\\n\".format(metrics.recall_score(y_test, y_pred, pos_label=\"yes\"))"
   ]
  },
  {
   "cell_type": "code",
   "execution_count": 65,
   "metadata": {
    "collapsed": true
   },
   "outputs": [],
   "source": [
    "# export the tree in Graphviz format\n",
    "# http://scikit-learn.org/stable/modules/tree.html#tree\n",
    "\n",
    "from sklearn.externals.six import StringIO\n",
    "with open(\"student_data.dot\", 'w') as f:\n",
    "    f = tree.export_graphviz(clf, out_file=f, feature_names=list(X_train.columns))"
   ]
  },
  {
   "cell_type": "code",
   "execution_count": 66,
   "metadata": {
    "collapsed": true
   },
   "outputs": [],
   "source": [
    "# use Graphviz’s dot tool to create PDF (or any other supported file type): dot -Tpdf iris.dot -o iris.pdf\n",
    "import os\n",
    "os.unlink('student_data.dot')"
   ]
  },
  {
   "cell_type": "code",
   "execution_count": 9,
   "metadata": {
    "collapsed": false
   },
   "outputs": [
    {
     "name": "stdout",
     "output_type": "stream",
     "text": [
      "Dec 20 08:52:40 jjls-MacBook-Pro.local dot[7892] <Error>: The function ‘CGFontGetGlyphPath’ is obsolete and will be removed in an upcoming update. Unfortunately, this application, or a library it uses, is using this obsolete function, and is thereby contributing to an overall degradation of system performance.\n",
      "Dec 20 08:52:40 jjls-MacBook-Pro.local dot[7892] <Error>: The function ‘CGFontGetGlyphPaths’ is obsolete and will be removed in an upcoming update. Unfortunately, this application, or a library it uses, is using this obsolete function, and is thereby contributing to an overall degradation of system performance.\n",
      "\n"
     ]
    },
    {
     "data": {
      "text/plain": [
       "True"
      ]
     },
     "execution_count": 9,
     "metadata": {},
     "output_type": "execute_result"
    }
   ],
   "source": [
    "# export tree as pdf using pydot\n",
    "from sklearn import tree\n",
    "from sklearn.externals.six import StringIO  \n",
    "import pydot \n",
    "import dot_parser\n",
    "dot_data = StringIO() \n",
    "tree.export_graphviz(clf, out_file=dot_data) \n",
    "graph = pydot.graph_from_dot_data(dot_data.getvalue()) \n",
    "graph.write_pdf(\"student_data_dt.pdf\")"
   ]
  },
  {
   "cell_type": "code",
   "execution_count": 91,
   "metadata": {
    "collapsed": false
   },
   "outputs": [
    {
     "data": {
      "image/png": "[encoded data removed]",
      "text/plain": [
       "<IPython.core.display.Image object>"
      ]
     },
     "execution_count": 91,
     "metadata": {},
     "output_type": "execute_result"
    }
   ],
   "source": [
    "# visualize decision tree plot inline\n",
    "from sklearn import tree\n",
    "from sklearn.externals.six import StringIO\n",
    "from IPython.display import Image\n",
    "import pydot\n",
    "import dot_parser\n",
    "\n",
    "dot_data = StringIO()\n",
    "tree.export_graphviz(clf, out_file=dot_data,feature_names=list(X_train.columns), \n",
    "                     class_names=list(y_train.unique()),filled=True, rounded=True, special_characters=True)  \n",
    "graph = pydot.graph_from_dot_data(dot_data.getvalue())\n",
    "Image(graph.create_png())\n"
   ]
  },
  {
   "cell_type": "markdown",
   "metadata": {},
   "source": [
    "---\n",
    "### Model #2: [Random Forest](http://scikit-learn.org/stable/modules/generated/sklearn.ensemble.RandomForestClassifier.html)\n",
    "\n",
    "- What is the theoretical O(n) time & space complexity in terms of input size?\n",
    "> O(n samples * n features * log n samples)\n",
    "\n",
    "- What are the general applications of this model? What are its strengths and weaknesses?\n",
    "> Classification via information gain.\n",
    "\n",
    "    > Prefers good splits near top of tree. Overfitting.\n",
    "\n",
    "- Given what you know about the data so far, why did you choose this model to apply?\n",
    "> Many features"
   ]
  },
  {
   "cell_type": "markdown",
   "metadata": {},
   "source": [
    "\n",
    "| Random Forest             | Training set size 100|Training set size 200|Training set size 300|\n",
    "| --------------------------|:-----:|:-----:|:-----:|\n",
    "| Training time (secs)      |0.020  |0.017  |0.023  |\n",
    "| Prediction time (secs)    |0.001  |0.001  |0.002  |\n",
    "| F1 score for training set |0.9197 |0.8997 |0.8662 |\n",
    "| F1 score for test set     |0.7704 |0.7972 |0.7862 |"
   ]
  },
  {
   "cell_type": "code",
   "execution_count": 46,
   "metadata": {
    "collapsed": false
   },
   "outputs": [
    {
     "name": "stdout",
     "output_type": "stream",
     "text": [
      "Training RandomForestClassifier...\n",
      "Done!\n",
      "Training time (secs): 0.033\n"
     ]
    }
   ],
   "source": [
    "# TODO: Choose a model, import it and instantiate an object\n",
    "from sklearn.ensemble import RandomForestClassifier\n",
    "rf = RandomForestClassifier(max_depth=5, random_state=0)\n",
    "\n",
    "# Fit model to training data\n",
    "train_classifier(rf, X_train, y_train)  # note: using entire training set here\n",
    "#print clf  # you can inspect the learned model by printing it"
   ]
  },
  {
   "cell_type": "code",
   "execution_count": 47,
   "metadata": {
    "collapsed": true
   },
   "outputs": [
    {
     "name": "stdout",
     "output_type": "stream",
     "text": [
      "------------------------------------------\n",
      "Training set size: 100\n",
      "Training RandomForestClassifier...\n",
      "Done!\n",
      "Training time (secs): 0.020\n",
      "Predicting labels using RandomForestClassifier...\n",
      "Done!\n",
      "Prediction time (secs): 0.001\n",
      "F1 score for training set: 0.919708029197\n",
      "Predicting labels using RandomForestClassifier...\n",
      "Done!\n",
      "Prediction time (secs): 0.001\n",
      "F1 score for test set: 0.77037037037\n",
      "------------------------------------------\n",
      "Training set size: 200\n",
      "Training RandomForestClassifier...\n",
      "Done!\n",
      "Training time (secs): 0.017\n",
      "Predicting labels using RandomForestClassifier...\n",
      "Done!\n",
      "Prediction time (secs): 0.001\n",
      "F1 score for training set: 0.899653979239\n",
      "Predicting labels using RandomForestClassifier...\n",
      "Done!\n",
      "Prediction time (secs): 0.001\n",
      "F1 score for test set: 0.797202797203\n",
      "------------------------------------------\n",
      "Training set size: 300\n",
      "Training RandomForestClassifier...\n",
      "Done!\n",
      "Training time (secs): 0.023\n",
      "Predicting labels using RandomForestClassifier...\n",
      "Done!\n",
      "Prediction time (secs): 0.002\n",
      "F1 score for training set: 0.866242038217\n",
      "Predicting labels using RandomForestClassifier...\n",
      "Done!\n",
      "Prediction time (secs): 0.001\n",
      "F1 score for test set: 0.786206896552\n"
     ]
    }
   ],
   "source": [
    "# TODO: Run the helper function above for desired subsets of training data\n",
    "# Note: Keep the test set constant\n",
    "train_predict_size(rf, 3)\n"
   ]
  },
  {
   "cell_type": "code",
   "execution_count": 48,
   "metadata": {
    "collapsed": false
   },
   "outputs": [
    {
     "name": "stdout",
     "output_type": "stream",
     "text": [
      "Predicting labels using RandomForestClassifier...\n",
      "Done!\n",
      "Prediction time (secs): 0.002\n",
      "F1 score for training set: 0.866242038217\n"
     ]
    }
   ],
   "source": [
    "# Predict on training set and compute F1 score\n",
    "show_f1_score(rf, X_train, y_train, 'training')\n"
   ]
  },
  {
   "cell_type": "code",
   "execution_count": 49,
   "metadata": {
    "collapsed": false
   },
   "outputs": [
    {
     "name": "stdout",
     "output_type": "stream",
     "text": [
      "Predicting labels using RandomForestClassifier...\n",
      "Done!\n",
      "Prediction time (secs): 0.001\n",
      "F1 score for test set: 0.786206896552\n"
     ]
    }
   ],
   "source": [
    "# Predict on test data\n",
    "show_f1_score(rf, X_test, y_test, 'test')\n"
   ]
  },
  {
   "cell_type": "markdown",
   "metadata": {},
   "source": [
    "#### Random Forest: adjust min_samples_split"
   ]
  },
  {
   "cell_type": "code",
   "execution_count": 41,
   "metadata": {
    "collapsed": false
   },
   "outputs": [
    {
     "name": "stdout",
     "output_type": "stream",
     "text": [
      "Training RandomForestClassifier...\n",
      "Done!\n",
      "Training time (secs): 0.043\n",
      "Predicting labels using RandomForestClassifier...\n",
      "Done!\n",
      "Prediction time (secs): 0.002\n",
      "F1 score for training set: 0.857749469214\n",
      "Predicting labels using RandomForestClassifier...\n",
      "Done!\n",
      "Prediction time (secs): 0.001\n",
      "F1 score for test set: 0.786206896552\n"
     ]
    }
   ],
   "source": [
    "# Random Forest with varying min_samples_split\n",
    "from sklearn.ensemble import RandomForestClassifier\n",
    "rf = RandomForestClassifier(max_depth=5, min_samples_split=6, random_state=0)\n",
    "\n",
    "# Fit model to training data\n",
    "train_classifier(rf, X_train, y_train)  # note: using entire training set here\n",
    "#print clf  # you can inspect the learned model by printing it\n",
    "\n",
    "# Predict on training set and compute F1 score\n",
    "train_f1_score = predict_labels(rf, X_train, y_train)\n",
    "print \"F1 score for training set: {}\".format(train_f1_score)\n",
    "\n",
    "# Predict on test data\n",
    "print \"F1 score for test set: {}\".format(predict_labels(rf, X_test, y_test))"
   ]
  },
  {
   "cell_type": "markdown",
   "metadata": {},
   "source": [
    "### Model #2a: Random Forest with normalized feature data"
   ]
  },
  {
   "cell_type": "markdown",
   "metadata": {},
   "source": [
    "#### normalize data"
   ]
  },
  {
   "cell_type": "code",
   "execution_count": 458,
   "metadata": {
    "collapsed": false
   },
   "outputs": [],
   "source": [
    "# function to normalize non-binary data to 0-1 range\n",
    "\n",
    "def norm_ptp(dataset, baseline=X_train):\n",
    "    out_norm = pd.DataFrame(index=dataset.index)  # output dataframe, initially empty\n",
    "    for col, col_data in dataset.iteritems():\n",
    "        out_norm = out_norm.join(col_data)  # collect column(s) in output dataframe\n",
    "    \n",
    "    # normalize data in out_norm\n",
    "    for col in out_norm.columns:\n",
    "        if (col == 'Medu') or (col =='Fedu'):\n",
    "            out_norm[col] = out_norm[col] / 4\n",
    "        elif np.ptp(out_norm[col]) != 1:\n",
    "            out_norm[col] = np.minimum((out_norm[col] - min(baseline[col])) / np.ptp(baseline[col]), 1.0)\n",
    "\n",
    "    return out_norm"
   ]
  },
  {
   "cell_type": "code",
   "execution_count": 459,
   "metadata": {
    "collapsed": false
   },
   "outputs": [],
   "source": [
    "X_train_norm = norm_ptp(X_train)\n",
    "X_test_norm = norm_ptp(X_test)"
   ]
  },
  {
   "cell_type": "code",
   "execution_count": 460,
   "metadata": {
    "collapsed": false
   },
   "outputs": [
    {
     "name": "stdout",
     "output_type": "stream",
     "text": [
      "15 - 22\n",
      "15 - 20\n",
      "\n",
      "0.0 - 1.0\n",
      "0.0 - 0.714285714286\n"
     ]
    }
   ],
   "source": [
    "print min(X_train['age']), \"-\", max(X_train['age'])\n",
    "print min(X_test['age']), \"-\", max(X_test['age'])\n",
    "print \"\"\n",
    "print min(X_train_norm['age']), \"-\", max(X_train_norm['age'])\n",
    "print min(X_test_norm['age']), \"-\", max(X_test_norm['age'])\n"
   ]
  },
  {
   "cell_type": "code",
   "execution_count": 461,
   "metadata": {
    "collapsed": false
   },
   "outputs": [
    {
     "name": "stdout",
     "output_type": "stream",
     "text": [
      "0 - 56\n",
      "0 - 75\n",
      "\n",
      "0.0 - 1.0\n",
      "0.0 - 1.0\n"
     ]
    }
   ],
   "source": [
    "print min(X_train['absences']), \"-\", max(X_train['absences'])\n",
    "print min(X_test['absences']), \"-\", max(X_test['absences'])\n",
    "print \"\"\n",
    "print min(X_train_norm['absences']), \"-\", max(X_train_norm['absences'])\n",
    "print min(X_test_norm['absences']), \"-\", max(X_test_norm['absences'])\n"
   ]
  },
  {
   "cell_type": "markdown",
   "metadata": {},
   "source": [
    "#### fit random forest model and predict"
   ]
  },
  {
   "cell_type": "code",
   "execution_count": 212,
   "metadata": {
    "collapsed": false
   },
   "outputs": [
    {
     "name": "stdout",
     "output_type": "stream",
     "text": [
      "Training RandomForestClassifier...\n",
      "Done!\n",
      "Training time (secs): 0.035\n"
     ]
    }
   ],
   "source": [
    "# TODO: Choose a model, import it and instantiate an object\n",
    "from sklearn.ensemble import RandomForestClassifier\n",
    "rf_norm = RandomForestClassifier(max_depth=5)\n",
    "\n",
    "# Fit model to training data\n",
    "train_classifier(rf_norm, X_train_norm, y_train)  # note: using entire training set here\n",
    "#print clf  # you can inspect the learned model by printing it"
   ]
  },
  {
   "cell_type": "code",
   "execution_count": 213,
   "metadata": {
    "collapsed": false
   },
   "outputs": [
    {
     "name": "stdout",
     "output_type": "stream",
     "text": [
      "Predicting labels using RandomForestClassifier...\n",
      "Done!\n",
      "Prediction time (secs): 0.002\n",
      "F1 score for training set: 0.868644067797\n"
     ]
    }
   ],
   "source": [
    "# Predict on training set and compute F1 score\n",
    "show_f1_score(rf_norm, X_train_norm, y_train, 'training')\n"
   ]
  },
  {
   "cell_type": "code",
   "execution_count": 214,
   "metadata": {
    "collapsed": false
   },
   "outputs": [
    {
     "name": "stdout",
     "output_type": "stream",
     "text": [
      "Predicting labels using RandomForestClassifier...\n",
      "Done!\n",
      "Prediction time (secs): 0.003\n",
      "F1 score for test set: 0.772413793103\n"
     ]
    }
   ],
   "source": [
    "# Predict on test data\n",
    "show_f1_score(rf_norm, X_test_norm, y_test, 'test')\n"
   ]
  },
  {
   "cell_type": "markdown",
   "metadata": {},
   "source": [
    "---\n",
    "### Model #3: [SVM (Support Vector Machine)](http://scikit-learn.org/stable/modules/generated/sklearn.svm.SVC.html)\n",
    "\n",
    "- What is the theoretical O(n) time & space complexity in terms of input size?\n",
    "> O(n features * n^3 samples)\n",
    "\n",
    "- What are the general applications of this model? What are its strengths and weaknesses?\n",
    "> Classification via margin maximization.\n",
    "\n",
    "- Given what you know about the data so far, why did you choose this model to apply?\n",
    "> Many features"
   ]
  },
  {
   "cell_type": "markdown",
   "metadata": {},
   "source": [
    "\n",
    "| SVM                       | Training set size 100|Training set size 200|Training set size 300|\n",
    "| --------------------------|:-----:|:-----:|:-----:|\n",
    "| Training time (secs)      |0.004  |0.005  |0.011  |\n",
    "| Prediction time (secs)    |0.002  |0.003  |0.006  |\n",
    "| F1 score for training set |0.8591 |0.8693 |0.8692 |\n",
    "| F1 score for test set     |0.7838 |0.7755 |0.7586 |"
   ]
  },
  {
   "cell_type": "code",
   "execution_count": 93,
   "metadata": {
    "collapsed": true
   },
   "outputs": [
    {
     "name": "stdout",
     "output_type": "stream",
     "text": [
      "Training SVC...\n",
      "Done!\n",
      "Training time (secs): 0.032\n",
      "\n",
      "SVC(C=1.0, cache_size=200, class_weight=None, coef0=0.0,\n",
      "  decision_function_shape=None, degree=3, gamma='auto', kernel='rbf',\n",
      "  max_iter=-1, probability=False, random_state=0, shrinking=True,\n",
      "  tol=0.001, verbose=False)\n"
     ]
    }
   ],
   "source": [
    "# TODO: Choose a model, import it and instantiate an object\n",
    "from sklearn import svm\n",
    "clf_svm = svm.SVC(random_state=0)\n",
    "\n",
    "# Fit model to training data\n",
    "train_classifier(clf_svm, X_train, y_train)  # note: using entire training set here\n",
    "#print clf  # you can inspect the learned model by printing it\n",
    "\n",
    "print \"\\n\", clf_svm"
   ]
  },
  {
   "cell_type": "code",
   "execution_count": 94,
   "metadata": {
    "collapsed": true
   },
   "outputs": [
    {
     "name": "stdout",
     "output_type": "stream",
     "text": [
      "------------------------------------------\n",
      "Training set size: 100\n",
      "Training SVC...\n",
      "Done!\n",
      "Training time (secs): 0.004\n",
      "Predicting labels using SVC...\n",
      "Done!\n",
      "Prediction time (secs): 0.002\n",
      "F1 score for training set: 0.859060402685\n",
      "Predicting labels using SVC...\n",
      "Done!\n",
      "Prediction time (secs): 0.001\n",
      "F1 score for test set: 0.783783783784\n",
      "------------------------------------------\n",
      "Training set size: 200\n",
      "Training SVC...\n",
      "Done!\n",
      "Training time (secs): 0.005\n",
      "Predicting labels using SVC...\n",
      "Done!\n",
      "Prediction time (secs): 0.003\n",
      "F1 score for training set: 0.869281045752\n",
      "Predicting labels using SVC...\n",
      "Done!\n",
      "Prediction time (secs): 0.002\n",
      "F1 score for test set: 0.775510204082\n",
      "------------------------------------------\n",
      "Training set size: 300\n",
      "Training SVC...\n",
      "Done!\n",
      "Training time (secs): 0.011\n",
      "Predicting labels using SVC...\n",
      "Done!\n",
      "Prediction time (secs): 0.006\n",
      "F1 score for training set: 0.869198312236\n",
      "Predicting labels using SVC...\n",
      "Done!\n",
      "Prediction time (secs): 0.002\n",
      "F1 score for test set: 0.758620689655\n"
     ]
    }
   ],
   "source": [
    "# TODO: Run the helper function above for desired subsets of training data\n",
    "# Note: Keep the test set constant\n",
    "train_predict_size(clf_svm, 3)\n"
   ]
  },
  {
   "cell_type": "code",
   "execution_count": 8,
   "metadata": {
    "collapsed": false
   },
   "outputs": [
    {
     "name": "stdout",
     "output_type": "stream",
     "text": [
      "Predicting labels using SVC...\n",
      "Done!\n",
      "Prediction time (secs): 0.006\n",
      "F1 score for training set: 0.869198312236\n"
     ]
    }
   ],
   "source": [
    "# Predict on training set and compute F1 score\n",
    "show_f1_score(clf_svm, X_train, y_train, 'training')\n"
   ]
  },
  {
   "cell_type": "code",
   "execution_count": 9,
   "metadata": {
    "collapsed": false
   },
   "outputs": [
    {
     "name": "stdout",
     "output_type": "stream",
     "text": [
      "Predicting labels using SVC...\n",
      "Done!\n",
      "Prediction time (secs): 0.002\n",
      "F1 score for test set: 0.758620689655\n"
     ]
    }
   ],
   "source": [
    "# Predict on test data\n",
    "show_f1_score(clf_svm, X_test, y_test, 'test')\n"
   ]
  },
  {
   "cell_type": "markdown",
   "metadata": {},
   "source": [
    "### Model #3a: SVM with normalized feature data"
   ]
  },
  {
   "cell_type": "code",
   "execution_count": 221,
   "metadata": {
    "collapsed": false
   },
   "outputs": [
    {
     "name": "stdout",
     "output_type": "stream",
     "text": [
      "Training SVC...\n",
      "Done!\n",
      "Training time (secs): 0.007\n"
     ]
    }
   ],
   "source": [
    "# TODO: Choose a model, import it and instantiate an object\n",
    "clf_svm_norm = svm.SVC()\n",
    "\n",
    "# Fit model to training data\n",
    "train_classifier(clf_svm_norm, X_train_norm, y_train)  # note: using entire training set here\n",
    "#print clf  # you can inspect the learned model by printing it"
   ]
  },
  {
   "cell_type": "code",
   "execution_count": null,
   "metadata": {
    "collapsed": true
   },
   "outputs": [],
   "source": [
    "# TODO: Run the helper function above for desired subsets of training data\n",
    "# Note: Keep the test set constant\n",
    "train_predict_size(clf_svm, 3)"
   ]
  },
  {
   "cell_type": "code",
   "execution_count": 222,
   "metadata": {
    "collapsed": false
   },
   "outputs": [
    {
     "name": "stdout",
     "output_type": "stream",
     "text": [
      "Predicting labels using SVC...\n",
      "Done!\n",
      "Prediction time (secs): 0.006\n",
      "F1 score for training set: 0.814229249012\n"
     ]
    }
   ],
   "source": [
    "# Predict on training set and compute F1 score\n",
    "show_f1_score(clf_svm_norm, X_train_norm, y_train, 'training')\n"
   ]
  },
  {
   "cell_type": "code",
   "execution_count": 223,
   "metadata": {
    "collapsed": false
   },
   "outputs": [
    {
     "name": "stdout",
     "output_type": "stream",
     "text": [
      "Predicting labels using SVC...\n",
      "Done!\n",
      "Prediction time (secs): 0.002\n",
      "F1 score for test set: 0.766233766234\n"
     ]
    }
   ],
   "source": [
    "# Predict on test data\n",
    "show_f1_score(clf_svm_norm, X_test_norm, y_test, 'test')\n"
   ]
  },
  {
   "cell_type": "markdown",
   "metadata": {},
   "source": [
    "---\n",
    "### Model #4: [Nearest Neighbor](http://scikit-learn.org/stable/modules/generated/sklearn.neighbors.KNeighborsClassifier.html)\n",
    "\n",
    "- What is the theoretical O(n) time & space complexity in terms of input size?\n",
    "> O(n features * log n samples)\n",
    "\n",
    "- What are the general applications of this model? What are its strengths and weaknesses?\n",
    "> Classification via lazy learner.\n",
    "\n",
    "    > All features considered equally.\n",
    "\n",
    "- Given what you know about the data so far, why did you choose this model to apply?\n",
    "> Many features\n"
   ]
  },
  {
   "cell_type": "markdown",
   "metadata": {},
   "source": [
    "\n",
    "| KNN                       | Training set size 100|Training set size 200|Training set size 300|\n",
    "| --------------------------|:-----:|:-----:|:-----:|\n",
    "| Training time (secs)      |0.001  |0.001  |0.001  |\n",
    "| Prediction time (secs)    |0.023  |0.003  |0.008  |\n",
    "| F1 score for training set |0.7972 |0.8571 |0.8722 |\n",
    "| F1 score for test set     |0.7068 |0.7121 |0.7482 |"
   ]
  },
  {
   "cell_type": "code",
   "execution_count": 95,
   "metadata": {
    "collapsed": true
   },
   "outputs": [
    {
     "name": "stdout",
     "output_type": "stream",
     "text": [
      "Training KNeighborsClassifier...\n",
      "Done!\n",
      "Training time (secs): 0.004\n",
      "KNeighborsClassifier(algorithm='auto', leaf_size=30, metric='minkowski',\n",
      "           metric_params=None, n_jobs=1, n_neighbors=5, p=2,\n",
      "           weights='uniform')\n"
     ]
    }
   ],
   "source": [
    "from sklearn.neighbors import KNeighborsClassifier\n",
    "clf_knn = KNeighborsClassifier()\n",
    "\n",
    "# Fit model to training data\n",
    "train_classifier(clf_knn, X_train, y_train)  # note: using entire training set here\n",
    "print clf_knn  # you can inspect the learned model by printing it"
   ]
  },
  {
   "cell_type": "code",
   "execution_count": 96,
   "metadata": {
    "collapsed": true
   },
   "outputs": [
    {
     "name": "stdout",
     "output_type": "stream",
     "text": [
      "------------------------------------------\n",
      "Training set size: 100\n",
      "Training KNeighborsClassifier...\n",
      "Done!\n",
      "Training time (secs): 0.001\n",
      "Predicting labels using KNeighborsClassifier...\n",
      "Done!\n",
      "Prediction time (secs): 0.023\n",
      "F1 score for training set: 0.797202797203\n",
      "Predicting labels using KNeighborsClassifier...\n",
      "Done!\n",
      "Prediction time (secs): 0.001\n",
      "F1 score for test set: 0.706766917293\n",
      "------------------------------------------\n",
      "Training set size: 200\n",
      "Training KNeighborsClassifier...\n",
      "Done!\n",
      "Training time (secs): 0.001\n",
      "Predicting labels using KNeighborsClassifier...\n",
      "Done!\n",
      "Prediction time (secs): 0.003\n",
      "F1 score for training set: 0.857142857143\n",
      "Predicting labels using KNeighborsClassifier...\n",
      "Done!\n",
      "Prediction time (secs): 0.002\n",
      "F1 score for test set: 0.712121212121\n",
      "------------------------------------------\n",
      "Training set size: 300\n",
      "Training KNeighborsClassifier...\n",
      "Done!\n",
      "Training time (secs): 0.001\n",
      "Predicting labels using KNeighborsClassifier...\n",
      "Done!\n",
      "Prediction time (secs): 0.008\n",
      "F1 score for training set: 0.872246696035\n",
      "Predicting labels using KNeighborsClassifier...\n",
      "Done!\n",
      "Prediction time (secs): 0.005\n",
      "F1 score for test set: 0.748201438849\n"
     ]
    }
   ],
   "source": [
    "# TODO: Run the helper function above for desired subsets of training data\n",
    "# Note: Keep the test set constant\n",
    "train_predict_size(clf_knn, 3)\n"
   ]
  },
  {
   "cell_type": "code",
   "execution_count": 31,
   "metadata": {
    "collapsed": false
   },
   "outputs": [
    {
     "name": "stdout",
     "output_type": "stream",
     "text": [
      "Predicting labels using KNeighborsClassifier...\n",
      "Done!\n",
      "Prediction time (secs): 0.016\n",
      "F1 score for training set: 0.872246696035\n"
     ]
    }
   ],
   "source": [
    "# Predict on training set and compute F1 score\n",
    "show_f1_score(clf_knn, X_train, y_train, 'training')\n"
   ]
  },
  {
   "cell_type": "code",
   "execution_count": 32,
   "metadata": {
    "collapsed": false
   },
   "outputs": [
    {
     "name": "stdout",
     "output_type": "stream",
     "text": [
      "Predicting labels using KNeighborsClassifier...\n",
      "Done!\n",
      "Prediction time (secs): 0.003\n",
      "F1 score for test set: 0.748201438849\n"
     ]
    }
   ],
   "source": [
    "# Predict on test data\n",
    "show_f1_score(clf_knn, X_test, y_test, 'test')\n"
   ]
  },
  {
   "cell_type": "markdown",
   "metadata": {},
   "source": [
    "---\n",
    "### Model #5: [Naive Bayes](http://scikit-learn.org/stable/modules/naive_bayes.html)\n",
    "\n",
    "- What is the theoretical O(n) time & space complexity in terms of input size?\n",
    "> O(n)\n",
    "\n",
    "- What are the general applications of this model? What are its strengths and weaknesses?\n",
    "> Classification via maximum likelihood.\n",
    "\n",
    "- Given what you know about the data so far, why did you choose this model to apply?\n",
    "> Many features"
   ]
  },
  {
   "cell_type": "code",
   "execution_count": 108,
   "metadata": {
    "collapsed": false
   },
   "outputs": [
    {
     "name": "stdout",
     "output_type": "stream",
     "text": [
      "Training MultinomialNB...\n",
      "Done!\n",
      "Training time (secs): 0.003\n",
      "MultinomialNB(alpha=1.0, class_prior=None, fit_prior=True) \n",
      "\n",
      "Predicting labels using MultinomialNB...\n",
      "Done!\n",
      "Prediction time (secs): 0.000\n",
      "F1 score for training set: 0.785046728972\n",
      "\n",
      "Predicting labels using MultinomialNB...\n",
      "Done!\n",
      "Prediction time (secs): 0.000\n",
      "F1 score for test set: 0.776978417266\n"
     ]
    }
   ],
   "source": [
    "# Naive Bayes\n",
    "from  sklearn.naive_bayes import BernoulliNB, MultinomialNB\n",
    "# nb = BernoulliNB()\n",
    "passed_prior = np.array([.33, .67])  # .33 no, .67 yes\n",
    "nb = MultinomialNB()\n",
    "\n",
    "# Fit model to training data\n",
    "train_classifier(nb, X_train, y_train)  # note: using entire training set here\n",
    "print nb, \"\\n\"\n",
    "\n",
    "# Predict on training set and compute F1 score\n",
    "train_f1_score = predict_labels(nb, X_train, y_train)\n",
    "print \"F1 score for training set: {}\".format(train_f1_score)\n",
    "\n",
    "# Predict on test data\n",
    "print \"\"\n",
    "print \"F1 score for test set: {}\".format(predict_labels(nb, X_test, y_test))"
   ]
  },
  {
   "cell_type": "code",
   "execution_count": 109,
   "metadata": {
    "collapsed": false
   },
   "outputs": [
    {
     "name": "stdout",
     "output_type": "stream",
     "text": [
      "Accuracy for test: 0.673684210526\n",
      "\n",
      "Precision for test ('no'): 0.666666666667\n",
      "\n",
      "Precision for test ('yes'): 0.675\n",
      "\n",
      "Recall for test ('no'): 0.277777777778\n",
      "\n",
      "Recall for test ('yes'): 0.915254237288\n",
      "\n"
     ]
    }
   ],
   "source": [
    "# Look at other metrics: accuracy, precision, recall\n",
    "\n",
    "y_pred = nb.predict(X_test)\n",
    "print \"Accuracy for test: {}\\n\".format(metrics.accuracy_score(y_test, y_pred))\n",
    "print \"Precision for test ('no'): {}\\n\".format(metrics.precision_score(y_test, y_pred, pos_label=\"no\"))\n",
    "print \"Precision for test ('yes'): {}\\n\".format(metrics.precision_score(y_test, y_pred, pos_label=\"yes\"))\n",
    "print \"Recall for test ('no'): {}\\n\".format(metrics.recall_score(y_test, y_pred, pos_label=\"no\"))\n",
    "print \"Recall for test ('yes'): {}\\n\".format(metrics.recall_score(y_test, y_pred, pos_label=\"yes\"))"
   ]
  },
  {
   "cell_type": "markdown",
   "metadata": {},
   "source": [
    "---\n",
    "### Model #6: [Logistic Regression](http://scikit-learn.org/stable/modules/generated/sklearn.linear_model.LogisticRegression.html)\n",
    "\n",
    "- What is the theoretical O(n) time & space complexity in terms of input size?\n",
    "> O(n)\n",
    "\n",
    "- What are the general applications of this model? What are its strengths and weaknesses?\n",
    "> Classification via optimization.\n",
    "\n",
    "    > Underfitting.\n",
    "\n",
    "- Given what you know about the data so far, why did you choose this model to apply?\n",
    "> Many features"
   ]
  },
  {
   "cell_type": "markdown",
   "metadata": {},
   "source": [
    "\n",
    "| Logistic regression       | Training set size 100|Training set size 200|Training set size 300|\n",
    "| --------------------------|:-----:|:-----:|:-----:|\n",
    "| Training time (secs)      |0.002  |0.002  |0.005  |\n",
    "| Prediction time (secs)    |0.000  |0.000  |0.000  |\n",
    "| F1 score for training set |0.8571 |0.8380 |0.8381 |\n",
    "| F1 score for test set     |0.7612 |0.7794 |0.7910 |"
   ]
  },
  {
   "cell_type": "code",
   "execution_count": 469,
   "metadata": {
    "collapsed": false
   },
   "outputs": [
    {
     "name": "stdout",
     "output_type": "stream",
     "text": [
      "Training LogisticRegression...\n",
      "Done!\n",
      "Training time (secs): 0.005\n",
      "LogisticRegression(C=1.0, class_weight=None, dual=False, fit_intercept=True,\n",
      "          intercept_scaling=1, max_iter=100, multi_class='ovr', n_jobs=1,\n",
      "          penalty='l2', random_state=0, solver='liblinear', tol=0.0001,\n",
      "          verbose=0, warm_start=False) \n",
      "\n",
      "Predicting labels using LogisticRegression...\n",
      "Done!\n",
      "Prediction time (secs): 0.000\n",
      "F1 score for training set: 0.838137472284\n",
      "Predicting labels using LogisticRegression...\n",
      "Done!\n",
      "Prediction time (secs): 0.000\n",
      "F1 score for test set: 0.791044776119\n"
     ]
    }
   ],
   "source": [
    "# Logistic regression model\n",
    "from  sklearn import linear_model\n",
    "clf = linear_model.LogisticRegression(random_state=0)\n",
    "\n",
    "# Fit model to training data\n",
    "train_classifier(clf, X_train, y_train)  # note: using entire training set here\n",
    "print clf, \"\\n\"\n",
    "\n",
    "# Predict on training set and compute F1 score\n",
    "train_f1_score = predict_labels(clf, X_train, y_train)\n",
    "print \"F1 score for training set: {}\".format(train_f1_score)\n",
    "\n",
    "# Predict on test data\n",
    "print \"F1 score for test set: {}\".format(predict_labels(clf, X_test, y_test))"
   ]
  },
  {
   "cell_type": "code",
   "execution_count": 99,
   "metadata": {
    "collapsed": true
   },
   "outputs": [
    {
     "name": "stdout",
     "output_type": "stream",
     "text": [
      "------------------------------------------\n",
      "Training set size: 100\n",
      "Training LogisticRegression...\n",
      "Done!\n",
      "Training time (secs): 0.002\n",
      "Predicting labels using LogisticRegression...\n",
      "Done!\n",
      "Prediction time (secs): 0.000\n",
      "F1 score for training set: 0.857142857143\n",
      "Predicting labels using LogisticRegression...\n",
      "Done!\n",
      "Prediction time (secs): 0.000\n",
      "F1 score for test set: 0.761194029851\n",
      "------------------------------------------\n",
      "Training set size: 200\n",
      "Training LogisticRegression...\n",
      "Done!\n",
      "Training time (secs): 0.002\n",
      "Predicting labels using LogisticRegression...\n",
      "Done!\n",
      "Prediction time (secs): 0.000\n",
      "F1 score for training set: 0.838028169014\n",
      "Predicting labels using LogisticRegression...\n",
      "Done!\n",
      "Prediction time (secs): 0.000\n",
      "F1 score for test set: 0.779411764706\n",
      "------------------------------------------\n",
      "Training set size: 300\n",
      "Training LogisticRegression...\n",
      "Done!\n",
      "Training time (secs): 0.005\n",
      "Predicting labels using LogisticRegression...\n",
      "Done!\n",
      "Prediction time (secs): 0.000\n",
      "F1 score for training set: 0.838137472284\n",
      "Predicting labels using LogisticRegression...\n",
      "Done!\n",
      "Prediction time (secs): 0.000\n",
      "F1 score for test set: 0.791044776119\n"
     ]
    }
   ],
   "source": [
    "# TODO: Run the helper function above for desired subsets of training data\n",
    "# Note: Keep the test set constant\n",
    "train_predict_size(clf, 3)\n"
   ]
  },
  {
   "cell_type": "code",
   "execution_count": 470,
   "metadata": {
    "collapsed": false
   },
   "outputs": [
    {
     "name": "stdout",
     "output_type": "stream",
     "text": [
      "Predicting labels using LogisticRegression...\n",
      "Done!\n",
      "Prediction time (secs): 0.001\n",
      "F1 score for training set: 0.838137472284\n",
      "Classification report (train):\n",
      "             precision    recall  f1-score   support\n",
      "\n",
      "         no       0.69      0.40      0.51        94\n",
      "        yes       0.77      0.92      0.84       206\n",
      "\n",
      "avg / total       0.75      0.76      0.74       300\n",
      "\n",
      "Predicting labels using LogisticRegression...\n",
      "Done!\n",
      "Prediction time (secs): 0.000\n",
      "F1 score for test set: 0.791044776119\n",
      "Classification report (test):\n",
      "             precision    recall  f1-score   support\n",
      "\n",
      "         no       0.70      0.39      0.50        36\n",
      "        yes       0.71      0.90      0.79        59\n",
      "\n",
      "avg / total       0.70      0.71      0.68        95\n",
      "\n"
     ]
    }
   ],
   "source": [
    "# Look at other metrics\n",
    "prediction_metrics(clf, X_train, X_test, y_train, y_test)"
   ]
  },
  {
   "cell_type": "code",
   "execution_count": 479,
   "metadata": {
    "collapsed": false
   },
   "outputs": [
    {
     "name": "stdout",
     "output_type": "stream",
     "text": [
      "Training set stats:\n",
      "Mean accuracy: 0.756666666667\n",
      "\n",
      "Test set stats:\n",
      "Mean accuracy: 0.705263157895\n"
     ]
    }
   ],
   "source": [
    "# print \"coefficient(s): {}\".format(clf.coef_)\n",
    "# print \"intercept: {}\".format(clf.intercept_)\n",
    "\n",
    "print \"Training set stats:\"\n",
    "print \"Mean accuracy: {}\".format(clf.score(X_train, y_train))\n",
    "\n",
    "print \"\\nTest set stats:\"\n",
    "print \"Mean accuracy: {}\".format(clf.score(X_test, y_test))"
   ]
  },
  {
   "cell_type": "code",
   "execution_count": 525,
   "metadata": {
    "collapsed": false
   },
   "outputs": [
    {
     "data": {
      "text/plain": [
       "[('Mjob_health', 0.78415840494840361),\n",
       " ('higher', 0.6283915076641482),\n",
       " ('sex_M', 0.46303128803449983),\n",
       " ('Mjob_services', 0.44008364869106764),\n",
       " ('address_U', 0.43910933061263008),\n",
       " ('Pstatus_A', 0.42214621737227381),\n",
       " ('romantic', -0.25142750528601915),\n",
       " ('nursery', -0.26203678505737144),\n",
       " ('famsup', -0.49583526984690873),\n",
       " ('goout', -0.53137814867546496),\n",
       " ('schoolsup', -0.60981302839339324),\n",
       " ('Mjob_teacher', -0.62527190565094259)]"
      ]
     },
     "execution_count": 525,
     "metadata": {},
     "output_type": "execute_result"
    }
   ],
   "source": [
    "# look at coefficients for each feature\n",
    "coeffs = []\n",
    "for i in range(len(X_train.columns)):\n",
    "    #print X_train.columns[i], \":\", clf.coef_[0][i]\n",
    "    coeffs.append((X_train.columns[i], clf.coef_[0][i]))\n",
    "\n",
    "coeffs = sorted(coeffs, key=lambda tup: tup[1], reverse=True)\n",
    "coeffs[:6] + coeffs[-7:-1]"
   ]
  },
  {
   "cell_type": "code",
   "execution_count": 490,
   "metadata": {
    "collapsed": false
   },
   "outputs": [
    {
     "name": "stdout",
     "output_type": "stream",
     "text": [
      "[[ 0.21390601  0.78609399]\n",
      " [ 0.1751552   0.8248448 ]\n",
      " [ 0.56467705  0.43532295]\n",
      " [ 0.24256962  0.75743038]\n",
      " [ 0.28410882  0.71589118]\n",
      " [ 0.14152431  0.85847569]\n",
      " [ 0.52681435  0.47318565]\n",
      " [ 0.22987558  0.77012442]\n",
      " [ 0.26985385  0.73014615]\n",
      " [ 0.06263953  0.93736047]]\n"
     ]
    }
   ],
   "source": [
    "print clf.predict_proba(X_test)[:10]"
   ]
  },
  {
   "cell_type": "code",
   "execution_count": 487,
   "metadata": {
    "collapsed": false
   },
   "outputs": [
    {
     "name": "stdout",
     "output_type": "stream",
     "text": [
      "['yes' 'yes' 'no' 'yes' 'yes' 'yes' 'no' 'yes' 'yes' 'yes']\n"
     ]
    }
   ],
   "source": [
    "print clf.predict(X_test)[:10]"
   ]
  },
  {
   "cell_type": "code",
   "execution_count": 488,
   "metadata": {
    "collapsed": false
   },
   "outputs": [
    {
     "name": "stdout",
     "output_type": "stream",
     "text": [
      "329    yes\n",
      "318    yes\n",
      "317     no\n",
      "65     yes\n",
      "59     yes\n",
      "287    yes\n",
      "212    yes\n",
      "60     yes\n",
      "394     no\n",
      "324    yes\n",
      "Name: passed, dtype: object\n"
     ]
    }
   ],
   "source": [
    "print y_test[:10]"
   ]
  },
  {
   "cell_type": "markdown",
   "metadata": {},
   "source": [
    "### Logistic Regression with normalized data"
   ]
  },
  {
   "cell_type": "code",
   "execution_count": null,
   "metadata": {
    "collapsed": true
   },
   "outputs": [],
   "source": [
    "train_f1_score = predict_labels(clf, X_train, y_train)\n",
    "print \"F1 score for training set: {}\".format(train_f1_score)\n",
    "\n",
    "# Predict on test data\n",
    "print \"F1 score for test set: {}\".format(predict_labels(clf, X_test, y_test))"
   ]
  },
  {
   "cell_type": "code",
   "execution_count": 463,
   "metadata": {
    "collapsed": false
   },
   "outputs": [
    {
     "name": "stdout",
     "output_type": "stream",
     "text": [
      "Training LogisticRegression...\n",
      "Done!\n",
      "Training time (secs): 0.004\n",
      "LogisticRegression(C=1.0, class_weight=None, dual=False, fit_intercept=True,\n",
      "          intercept_scaling=1, max_iter=100, multi_class='ovr', n_jobs=1,\n",
      "          penalty='l2', random_state=0, solver='liblinear', tol=0.0001,\n",
      "          verbose=0, warm_start=False) \n",
      "\n",
      "Predicting labels using LogisticRegression...\n",
      "Done!\n",
      "Prediction time (secs): 0.000\n",
      "F1 score for training set: 0.82788671024\n",
      "Classification report (train):\n",
      "             precision    recall  f1-score   support\n",
      "\n",
      "         no       0.66      0.33      0.44        94\n",
      "        yes       0.75      0.92      0.83       206\n",
      "\n",
      "avg / total       0.72      0.74      0.71       300\n",
      "\n",
      "Predicting labels using LogisticRegression...\n",
      "Done!\n",
      "Prediction time (secs): 0.001\n",
      "F1 score for test set: 0.757142857143\n",
      "Classification report (test):\n",
      "             precision    recall  f1-score   support\n",
      "\n",
      "         no       0.57      0.22      0.32        36\n",
      "        yes       0.65      0.90      0.76        59\n",
      "\n",
      "avg / total       0.62      0.64      0.59        95\n",
      "\n"
     ]
    }
   ],
   "source": [
    "# Logistic regression model\n",
    "clf = linear_model.LogisticRegression(random_state=0)\n",
    "\n",
    "# Fit model to training data\n",
    "train_classifier(clf, X_train_norm, y_train)\n",
    "print clf, \"\\n\"\n",
    "\n",
    "# Predict on training & test sets and compute F1 score\n",
    "prediction_metrics(clf, X_train_norm, X_test_norm, y_train, y_test)"
   ]
  },
  {
   "cell_type": "markdown",
   "metadata": {},
   "source": [
    "---\n",
    "## 5. Choosing the Best Model\n",
    "\n",
    "- Based on the experiments you performed earlier, in 1-2 paragraphs explain to the board of supervisors what single model you chose as the best model. Which model is generally the most appropriate based on the available data, limited resources, cost, and performance?\n",
    "> Random forest, ensemble method.\n",
    "\n",
    "    > Best at resampling the data\n",
    "\n",
    "- In 1-2 paragraphs explain to the board of supervisors in layman's terms how the final model chosen is supposed to work (for example if you chose a Decision Tree or Support Vector Machine, how does it make a prediction).\n",
    "> Samples dataset multiple times with decision trees.\n",
    "\n",
    "    > Trains many trees, hence the \"forest\" name.\n",
    "\n",
    "- Fine-tune the model. Use Gridsearch with at least one important parameter tuned and with at least 3 settings. Use the entire training set for this.\n",
    "> Used Gridsearch to tune the parameter max depth of decision trees.\n",
    "\n",
    "    > Tuned module with 10 settings.\n",
    "\n",
    "- What is the model's final F<sub>1</sub> score?\n",
    "> Final F1 score is 0.789.\n",
    "\n",
    "---"
   ]
  },
  {
   "cell_type": "markdown",
   "metadata": {},
   "source": [
    "### Function to run gridsearch on each model"
   ]
  },
  {
   "cell_type": "code",
   "execution_count": 462,
   "metadata": {
    "collapsed": false
   },
   "outputs": [],
   "source": [
    "from sklearn import metrics\n",
    "from sklearn import grid_search\n",
    "\n",
    "# Find the best performance metric\n",
    "# http://scikit-learn.org/stable/modules/classes.html#module-sklearn.metrics\n",
    "f1_scorer = metrics.make_scorer(f1_score, greater_is_better=True, pos_label='yes')\n",
    "\n",
    "# fbeta can overweight precision or recall using 'beta' param\n",
    "# scikit-learn.org/stable/modules/generated/sklearn.metrics.fbeta_score.html#sklearn.metrics.fbeta_score\n",
    "fbeta_scorer = metrics.make_scorer(metrics.fbeta_score, greater_is_better=True, pos_label='yes', beta=2.0)\n",
    "\n",
    "def tune_clf_model(clf, parameters, scorer, crossval=None, rand=0):\n",
    "    # Use gridearch to fine tune the classifier and find the best model\n",
    "    reg = grid_search.GridSearchCV(clf, parameters, scoring=scorer, cv=crossval)\n",
    "    \n",
    "    # Shuffle the data using different random_state values\n",
    "    X_train, X_test, y_train, y_test = cross_validation.train_test_split(X_all, y_all, \\\n",
    "                                                                     test_size=int(num_test), random_state=rand)\n",
    "    \n",
    "    # find best estimator\n",
    "    reg.fit(X_train, y_train)\n",
    "    est = reg.best_estimator_\n",
    "    print est, \"\\n\"\n",
    "    \n",
    "    # Predict best_estimator_ on training and test data\n",
    "    prediction_metrics(est, X_train, X_test, y_train, y_test)\n",
    "    \n",
    "    #print \"F1 score for training set: {}\".format(predict_labels(est, X_train, y_train))\n",
    "    #print \"Classification report (train):\\n\", metrics.classification_report(y_train, est.predict(X_train))\n",
    "    #print \"F1 score for test set: {}\".format(predict_labels(est, X_test, y_test))\n",
    "    #print \"Classification report (test):\\n\", metrics.classification_report(y_test, est.predict(X_test))\n",
    "    \n",
    "    return est\n",
    "\n",
    "def prediction_metrics(clf, feat_train, feat_test, label_train, label_test):\n",
    "    # Predict best_estimator_ on training and test data\n",
    "    print \"F1 score for training set: {}\".format(predict_labels(clf, feat_train, label_train))\n",
    "    print \"Classification report (train):\\n\", metrics.classification_report(label_train, clf.predict(feat_train))\n",
    "    print \"F1 score for test set: {}\".format(predict_labels(clf, feat_test, label_test))\n",
    "    print \"Classification report (test):\\n\", metrics.classification_report(label_test, clf.predict(feat_test))\n",
    "    "
   ]
  },
  {
   "cell_type": "markdown",
   "metadata": {},
   "source": [
    "### Tune Model #1: Decision Tree (max_depth, min_samples_split, criterion, ...)\n",
    "http://scikit-learn.org/stable/modules/generated/sklearn.tree.DecisionTreeClassifier.html"
   ]
  },
  {
   "cell_type": "code",
   "execution_count": 383,
   "metadata": {
    "collapsed": false
   },
   "outputs": [],
   "source": [
    "# TODO: Fine-tune your model and report the best F1 score\n",
    "from sklearn import metrics\n",
    "from sklearn import grid_search\n",
    "\n",
    "# Setup a Decision Tree Classifier\n",
    "clf = DecisionTreeClassifier(random_state=0)\n",
    "\n",
    "# tune parameter with at least 3 settings\n",
    "parameters = {'min_samples_split': (2, 10, 30, 100),\n",
    "              'max_depth':(5,10,None),\n",
    "              'class_weight': (None, \"balanced\"), \n",
    "              'criterion': ('entropy', 'gini')}"
   ]
  },
  {
   "cell_type": "code",
   "execution_count": null,
   "metadata": {
    "collapsed": true
   },
   "outputs": [],
   "source": [
    "# Find the best performance metric\n",
    "f1_scorer = metrics.make_scorer(f1_score, greater_is_better=True, pos_label='yes')\n",
    "\n",
    "# Use gridearch to fine tune the Decision Tree and find the best model\n",
    "reg = grid_search.GridSearchCV(clf, parameters, scoring=f1_scorer, cv=None)\n",
    "reg.fit(X_train, y_train)"
   ]
  },
  {
   "cell_type": "code",
   "execution_count": 373,
   "metadata": {
    "collapsed": false
   },
   "outputs": [
    {
     "name": "stdout",
     "output_type": "stream",
     "text": [
      "DecisionTreeClassifier(class_weight=None, criterion='gini', max_depth=5,\n",
      "            max_features=None, max_leaf_nodes=None, min_samples_leaf=1,\n",
      "            min_samples_split=100, min_weight_fraction_leaf=0.0,\n",
      "            presort=False, random_state=0, splitter='best') \n",
      "\n",
      "Predicting labels using DecisionTreeClassifier...\n",
      "Done!\n",
      "Prediction time (secs): 0.000\n",
      "F1 score for training set: 0.817102137767\n",
      "Classification report (train):\n",
      "             precision    recall  f1-score   support\n",
      "\n",
      "         no       0.60      0.54      0.57        94\n",
      "        yes       0.80      0.83      0.82       206\n",
      "\n",
      "avg / total       0.74      0.74      0.74       300\n",
      "\n",
      "Predicting labels using DecisionTreeClassifier...\n",
      "Done!\n",
      "Prediction time (secs): 0.000\n",
      "F1 score for test set: 0.787878787879\n",
      "Classification report (test):\n",
      "             precision    recall  f1-score   support\n",
      "\n",
      "         no       0.68      0.42      0.52        36\n",
      "        yes       0.71      0.88      0.79        59\n",
      "\n",
      "avg / total       0.70      0.71      0.69        95\n",
      "\n",
      "\n",
      "Classification report:\n",
      "             precision    recall  f1-score   support\n",
      "\n",
      "         no       0.68      0.42      0.52        36\n",
      "        yes       0.71      0.88      0.79        59\n",
      "\n",
      "avg / total       0.70      0.71      0.69        95\n",
      "\n"
     ]
    }
   ],
   "source": [
    "# Retrieve the best estimator found by GridSearchCV\n",
    "f1_scorer = metrics.make_scorer(f1_score, greater_is_better=True, pos_label='yes')\n",
    "est = tune_clf_model(clf, parameters, f1_scorer, crossval=3, rand=0)\n",
    "\n",
    "# print classification report\n",
    "y_pred = est.predict(X_test)\n",
    "print \"\\nClassification report:\\n\", metrics.classification_report(y_test, y_pred)"
   ]
  },
  {
   "cell_type": "code",
   "execution_count": 387,
   "metadata": {
    "collapsed": false
   },
   "outputs": [
    {
     "name": "stdout",
     "output_type": "stream",
     "text": [
      "DecisionTreeClassifier(class_weight=None, criterion='gini', max_depth=5,\n",
      "            max_features=None, max_leaf_nodes=None, min_samples_leaf=1,\n",
      "            min_samples_split=30, min_weight_fraction_leaf=0.0,\n",
      "            presort=False, random_state=0, splitter='best') \n",
      "\n",
      "Predicting labels using DecisionTreeClassifier...\n",
      "Done!\n",
      "Prediction time (secs): 0.000\n",
      "F1 score for training set: 0.798927613941\n",
      "Classification report (train):\n",
      "             precision    recall  f1-score   support\n",
      "\n",
      "         no       0.62      0.73      0.67       104\n",
      "        yes       0.84      0.76      0.80       196\n",
      "\n",
      "avg / total       0.76      0.75      0.75       300\n",
      "\n",
      "Predicting labels using DecisionTreeClassifier...\n",
      "Done!\n",
      "Prediction time (secs): 0.000\n",
      "F1 score for test set: 0.752\n",
      "Classification report (test):\n",
      "             precision    recall  f1-score   support\n",
      "\n",
      "         no       0.44      0.65      0.52        26\n",
      "        yes       0.84      0.68      0.75        69\n",
      "\n",
      "avg / total       0.73      0.67      0.69        95\n",
      "\n"
     ]
    }
   ],
   "source": [
    "# tune model using different train & test data split\n",
    "est = tune_clf_model(clf, parameters, f1_scorer, crossval=7, rand=100)"
   ]
  },
  {
   "cell_type": "code",
   "execution_count": 385,
   "metadata": {
    "collapsed": false
   },
   "outputs": [
    {
     "name": "stdout",
     "output_type": "stream",
     "text": [
      "DecisionTreeClassifier(class_weight='balanced', criterion='entropy',\n",
      "            max_depth=10, max_features=None, max_leaf_nodes=None,\n",
      "            min_samples_leaf=1, min_samples_split=30,\n",
      "            min_weight_fraction_leaf=0.0, presort=False, random_state=0,\n",
      "            splitter='best') \n",
      "\n",
      "Predicting labels using DecisionTreeClassifier...\n",
      "Done!\n",
      "Prediction time (secs): 0.000\n",
      "F1 score for training set: 0.801120448179\n",
      "Classification report (train):\n",
      "             precision    recall  f1-score   support\n",
      "\n",
      "         no       0.62      0.83      0.71       104\n",
      "        yes       0.89      0.73      0.80       196\n",
      "\n",
      "avg / total       0.79      0.76      0.77       300\n",
      "\n",
      "Predicting labels using DecisionTreeClassifier...\n",
      "Done!\n",
      "Prediction time (secs): 0.000\n",
      "F1 score for test set: 0.72131147541\n",
      "Classification report (test):\n",
      "             precision    recall  f1-score   support\n",
      "\n",
      "         no       0.40      0.65      0.50        26\n",
      "        yes       0.83      0.64      0.72        69\n",
      "\n",
      "avg / total       0.71      0.64      0.66        95\n",
      "\n"
     ]
    }
   ],
   "source": [
    "# tune model using different scorer pos_label\n",
    "f1_scorer_no = metrics.make_scorer(f1_score, greater_is_better=True, pos_label='no')\n",
    "est = tune_clf_model(clf, parameters, f1_scorer_no, crossval=7, rand=100)"
   ]
  },
  {
   "cell_type": "markdown",
   "metadata": {},
   "source": [
    "### Tune Model #2: Random Forest (n_estimators, max_depth, min_samples_split, criterion...)\n",
    "http://scikit-learn.org/stable/modules/generated/sklearn.ensemble.RandomForestClassifier.html"
   ]
  },
  {
   "cell_type": "code",
   "execution_count": 279,
   "metadata": {
    "collapsed": false
   },
   "outputs": [
    {
     "name": "stdout",
     "output_type": "stream",
     "text": [
      "RandomForestClassifier(bootstrap=True, class_weight='balanced',\n",
      "            criterion='gini', max_depth=5, max_features='auto',\n",
      "            max_leaf_nodes=None, min_samples_leaf=1, min_samples_split=30,\n",
      "            min_weight_fraction_leaf=0.0, n_estimators=30, n_jobs=1,\n",
      "            oob_score=False, random_state=0, verbose=0, warm_start=False) \n",
      "\n",
      "Predicting labels using RandomForestClassifier...\n",
      "Done!\n",
      "Prediction time (secs): 0.002\n",
      "F1 score for training set: 0.854961832061\n",
      "\n",
      "Predicting labels using RandomForestClassifier...\n",
      "Done!\n",
      "Prediction time (secs): 0.002\n",
      "F1 score for test set: 0.768\n"
     ]
    }
   ],
   "source": [
    "# Setup a Classifier\n",
    "rf = RandomForestClassifier(random_state=0)\n",
    "\n",
    "# tune parameter with at least 3 settings\n",
    "parameters = {'n_estimators': (10, 20, 30),\n",
    "              'class_weight': (None, \"balanced\"), \n",
    "              'criterion': ('entropy', 'gini'), \n",
    "              'max_depth':(5,10),\n",
    "              'min_samples_split': (2, 10, 30)\n",
    "             }\n",
    "\n",
    "fbeta_scorer = metrics.make_scorer(metrics.fbeta_score, greater_is_better=True, pos_label='no', beta=10)\n",
    "est = tune_clf_model(rf, parameters, fbeta_scorer)"
   ]
  },
  {
   "cell_type": "code",
   "execution_count": 230,
   "metadata": {
    "collapsed": false
   },
   "outputs": [
    {
     "name": "stdout",
     "output_type": "stream",
     "text": [
      "Precision for test ('no'): 0.636363636364\n",
      "Precision for test ('yes'): 0.698630136986\n",
      "\n",
      "Recall for test ('no'): 0.388888888889\n",
      "Recall for test ('yes'): 0.864406779661\n",
      "\n"
     ]
    }
   ],
   "source": [
    "# Look at other metrics: accuracy, precision, recall\n",
    "\n",
    "y_pred = est.predict(X_test)\n",
    "#print \"Accuracy for test: {}\\n\".format(metrics.accuracy_score(y_test, y_pred))\n",
    "print \"Precision for test ('no'): {}\".format(metrics.precision_score(y_test, y_pred, pos_label=\"no\"))\n",
    "print \"Precision for test ('yes'): {}\\n\".format(metrics.precision_score(y_test, y_pred, pos_label=\"yes\"))\n",
    "print \"Recall for test ('no'): {}\".format(metrics.recall_score(y_test, y_pred, pos_label=\"no\"))\n",
    "print \"Recall for test ('yes'): {}\\n\".format(metrics.recall_score(y_test, y_pred, pos_label=\"yes\"))"
   ]
  },
  {
   "cell_type": "code",
   "execution_count": 232,
   "metadata": {
    "collapsed": false
   },
   "outputs": [
    {
     "name": "stdout",
     "output_type": "stream",
     "text": [
      "pos_label=yes: 0.772727272727\n",
      "pos_label=no: 0.48275862069\n"
     ]
    }
   ],
   "source": [
    "for i in ['yes', 'no']:\n",
    "    print \"pos_label={}: {}\".format(str(i), f1_score(y_test, y_pred, pos_label=str(i)))"
   ]
  },
  {
   "cell_type": "markdown",
   "metadata": {},
   "source": [
    "#### [Confusion matrix](http://scikit-learn.org/stable/modules/generated/sklearn.metrics.confusion_matrix.html)"
   ]
  },
  {
   "cell_type": "code",
   "execution_count": 254,
   "metadata": {
    "collapsed": false
   },
   "outputs": [
    {
     "name": "stdout",
     "output_type": "stream",
     "text": [
      "[[14 22]\n",
      " [ 8 51]]\n",
      "predicted no: 22\n",
      "predicted yes: 73\n"
     ]
    }
   ],
   "source": [
    "# rows = actual, cols = predicted\n",
    "print metrics.confusion_matrix(y_test, y_pred)\n",
    "print 'predicted no:', len(y_pred[y_pred=='no'])\n",
    "print 'predicted yes:', len(y_pred[y_pred=='yes'])"
   ]
  },
  {
   "cell_type": "markdown",
   "metadata": {},
   "source": [
    "#### [Classification report](http://scikit-learn.org/stable/modules/model_evaluation.html#classification-report)"
   ]
  },
  {
   "cell_type": "code",
   "execution_count": 280,
   "metadata": {
    "collapsed": false
   },
   "outputs": [
    {
     "name": "stdout",
     "output_type": "stream",
     "text": [
      "             precision    recall  f1-score   support\n",
      "\n",
      "         no       0.64      0.39      0.48        36\n",
      "        yes       0.70      0.86      0.77        59\n",
      "\n",
      "avg / total       0.68      0.68      0.66        95\n",
      "\n"
     ]
    }
   ],
   "source": [
    "print metrics.classification_report(y_test, y_pred)"
   ]
  },
  {
   "cell_type": "markdown",
   "metadata": {},
   "source": [
    "### Tune Model #3: SVM (C, kernel, gamma)"
   ]
  },
  {
   "cell_type": "code",
   "execution_count": 210,
   "metadata": {
    "collapsed": false
   },
   "outputs": [
    {
     "name": "stdout",
     "output_type": "stream",
     "text": [
      "SVC(C=1.0, cache_size=200, class_weight=None, coef0=0.0,\n",
      "  decision_function_shape=None, degree=3, gamma='auto', kernel='rbf',\n",
      "  max_iter=-1, probability=False, random_state=0, shrinking=True,\n",
      "  tol=0.001, verbose=False) \n",
      "\n",
      "Predicting labels using SVC...\n",
      "Done!\n",
      "Prediction time (secs): 0.005\n",
      "F1 score for training set: 0.869198312236\n",
      "\n",
      "Predicting labels using SVC...\n",
      "Done!\n",
      "Prediction time (secs): 0.002\n",
      "F1 score for test set: 0.758620689655\n"
     ]
    }
   ],
   "source": [
    "# Setup a Classifier\n",
    "clf_svm = svm.SVC(random_state=0)\n",
    "\n",
    "# tune parameter with at least 3 settings\n",
    "\n",
    "parameters = {'C': (1.0, 10.0, 0.5), \n",
    "              'gamma': ('auto', 1000),\n",
    "              'degree': (3, 5),\n",
    "              'kernel': ('linear', 'rbf', 'poly')}\n",
    "\n",
    "est = tune_clf_model(clf_svm, parameters, f1_scorer)"
   ]
  },
  {
   "cell_type": "code",
   "execution_count": 211,
   "metadata": {
    "collapsed": false
   },
   "outputs": [
    {
     "name": "stdout",
     "output_type": "stream",
     "text": [
      "Precision for test ('no'): 0.555555555556\n",
      "Precision for test ('yes'): 0.639534883721\n",
      "\n",
      "Recall for test ('no'): 0.138888888889\n",
      "Recall for test ('yes'): 0.932203389831\n",
      "\n"
     ]
    }
   ],
   "source": [
    "# Look at other metrics: accuracy, precision, recall\n",
    "\n",
    "y_pred = est.predict(X_test)\n",
    "#print \"Accuracy for test: {}\\n\".format(metrics.accuracy_score(y_test, y_pred))\n",
    "print \"Precision for test ('no'): {}\".format(metrics.precision_score(y_test, y_pred, pos_label=\"no\"))\n",
    "print \"Precision for test ('yes'): {}\\n\".format(metrics.precision_score(y_test, y_pred, pos_label=\"yes\"))\n",
    "print \"Recall for test ('no'): {}\".format(metrics.recall_score(y_test, y_pred, pos_label=\"no\"))\n",
    "print \"Recall for test ('yes'): {}\\n\".format(metrics.recall_score(y_test, y_pred, pos_label=\"yes\"))"
   ]
  },
  {
   "cell_type": "markdown",
   "metadata": {},
   "source": [
    "\n",
    "### Tune Model#4: Nearest Neighbors (n_neighbors, weights, metric...)\n",
    "http://scikit-learn.org/stable/modules/generated/sklearn.neighbors.KNeighborsClassifier.html"
   ]
  },
  {
   "cell_type": "code",
   "execution_count": 208,
   "metadata": {
    "collapsed": false
   },
   "outputs": [
    {
     "name": "stdout",
     "output_type": "stream",
     "text": [
      "KNeighborsClassifier(algorithm='auto', leaf_size=30, metric='manhattan',\n",
      "           metric_params=None, n_jobs=1, n_neighbors=20, p=2,\n",
      "           weights='distance') \n",
      "\n",
      "Predicting labels using KNeighborsClassifier...\n",
      "Done!\n",
      "Prediction time (secs): 0.007\n",
      "F1 score for training set: 1.0\n",
      "\n",
      "Predicting labels using KNeighborsClassifier...\n",
      "Done!\n",
      "Prediction time (secs): 0.003\n",
      "F1 score for test set: 0.773333333333\n"
     ]
    }
   ],
   "source": [
    "# Setup a Classifier\n",
    "clf = KNeighborsClassifier()\n",
    "\n",
    "# tune parameter with at least 3 settings\n",
    "\n",
    "parameters = {'n_neighbors': (3, 5, 10, 20), \n",
    "              'metric': ('minkowski', 'manhattan', 'chebyshev', 'euclidean'),\n",
    "              'weights': ('uniform', 'distance')}\n",
    "\n",
    "est = tune_clf_model(clf, parameters, f1_scorer)"
   ]
  },
  {
   "cell_type": "code",
   "execution_count": 209,
   "metadata": {
    "collapsed": false
   },
   "outputs": [
    {
     "name": "stdout",
     "output_type": "stream",
     "text": [
      "Precision for test ('no'): 0.75\n",
      "Precision for test ('yes'): 0.637362637363\n",
      "\n",
      "Recall for test ('no'): 0.0833333333333\n",
      "Recall for test ('yes'): 0.983050847458\n",
      "\n"
     ]
    }
   ],
   "source": [
    "# Look at other metrics: accuracy, precision, recall\n",
    "\n",
    "y_pred = est.predict(X_test)\n",
    "#print \"Accuracy for test: {}\\n\".format(metrics.accuracy_score(y_test, y_pred))\n",
    "print \"Precision for test ('no'): {}\".format(metrics.precision_score(y_test, y_pred, pos_label=\"no\"))\n",
    "print \"Precision for test ('yes'): {}\\n\".format(metrics.precision_score(y_test, y_pred, pos_label=\"yes\"))\n",
    "print \"Recall for test ('no'): {}\".format(metrics.recall_score(y_test, y_pred, pos_label=\"no\"))\n",
    "print \"Recall for test ('yes'): {}\\n\".format(metrics.recall_score(y_test, y_pred, pos_label=\"yes\"))"
   ]
  },
  {
   "cell_type": "markdown",
   "metadata": {},
   "source": [
    "### Tune Model#5: Naive Bayes (alpha, fit_prior, class_prior)"
   ]
  },
  {
   "cell_type": "code",
   "execution_count": 197,
   "metadata": {
    "collapsed": false
   },
   "outputs": [
    {
     "name": "stdout",
     "output_type": "stream",
     "text": [
      "MultinomialNB(alpha=1.0, class_prior=None, fit_prior=True) \n",
      "\n",
      "Predicting labels using MultinomialNB...\n",
      "Done!\n",
      "Prediction time (secs): 0.001\n",
      "F1 score for training set: 0.785046728972\n",
      "\n",
      "Predicting labels using MultinomialNB...\n",
      "Done!\n",
      "Prediction time (secs): 0.001\n",
      "F1 score for test set: 0.776978417266\n"
     ]
    }
   ],
   "source": [
    "# Setup a Classifier\n",
    "passed_prior = np.array([.33, .67])\n",
    "clf = MultinomialNB()\n",
    "\n",
    "# tune parameter with at least 3 settings\n",
    "parameters = {'alpha': (1.0, 0.5, 0.1),\n",
    "              'class_prior': (None, passed_prior),\n",
    "              'fit_prior': (True,False),\n",
    "             }\n",
    "\n",
    "#est = tune_clf_model(clf, parameters, f1_scorer)\n",
    "\n",
    "# play with beta value of fbeta_score\n",
    "fbeta_scorer = metrics.make_scorer(metrics.fbeta_score, greater_is_better=True, pos_label='yes', beta=10.0)\n",
    "est = tune_clf_model(clf, parameters, recall_scorer)"
   ]
  },
  {
   "cell_type": "code",
   "execution_count": 199,
   "metadata": {
    "collapsed": false
   },
   "outputs": [
    {
     "name": "stdout",
     "output_type": "stream",
     "text": [
      "Precision for test ('no'): 0.666666666667\n",
      "Precision for test ('yes'): 0.675\n",
      "\n",
      "Recall for test ('no'): 0.277777777778\n",
      "Recall for test ('yes'): 0.915254237288\n",
      "\n"
     ]
    }
   ],
   "source": [
    "# Look at other metrics: accuracy, precision, recall\n",
    "\n",
    "y_pred = est.predict(X_test)\n",
    "#print \"Accuracy for test: {}\\n\".format(metrics.accuracy_score(y_test, y_pred))\n",
    "print \"Precision for test ('no'): {}\".format(metrics.precision_score(y_test, y_pred, pos_label=\"no\"))\n",
    "print \"Precision for test ('yes'): {}\\n\".format(metrics.precision_score(y_test, y_pred, pos_label=\"yes\"))\n",
    "print \"Recall for test ('no'): {}\".format(metrics.recall_score(y_test, y_pred, pos_label=\"no\"))\n",
    "print \"Recall for test ('yes'): {}\\n\".format(metrics.recall_score(y_test, y_pred, pos_label=\"yes\"))"
   ]
  },
  {
   "cell_type": "markdown",
   "metadata": {},
   "source": [
    "### Tune Model#6: Logistic Regression (C, max_iter, ...)\n",
    "http://scikit-learn.org/stable/modules/generated/sklearn.linear_model.LogisticRegression.html"
   ]
  },
  {
   "cell_type": "code",
   "execution_count": 398,
   "metadata": {
    "collapsed": false
   },
   "outputs": [
    {
     "name": "stdout",
     "output_type": "stream",
     "text": [
      "LogisticRegression(C=0.25, class_weight='balanced', dual=False,\n",
      "          fit_intercept=True, intercept_scaling=1, max_iter=100,\n",
      "          multi_class='ovr', n_jobs=1, penalty='l2', random_state=0,\n",
      "          solver='liblinear', tol=0.0001, verbose=0, warm_start=False) \n",
      "\n",
      "Predicting labels using LogisticRegression...\n",
      "Done!\n",
      "Prediction time (secs): 0.000\n",
      "F1 score for training set: 0.787564766839\n",
      "Classification report (train):\n",
      "             precision    recall  f1-score   support\n",
      "\n",
      "         no       0.55      0.70      0.62        94\n",
      "        yes       0.84      0.74      0.79       206\n",
      "\n",
      "avg / total       0.75      0.73      0.73       300\n",
      "\n",
      "Predicting labels using LogisticRegression...\n",
      "Done!\n",
      "Prediction time (secs): 0.000\n",
      "F1 score for test set: 0.764227642276\n",
      "Classification report (test):\n",
      "             precision    recall  f1-score   support\n",
      "\n",
      "         no       0.61      0.53      0.57        36\n",
      "        yes       0.73      0.80      0.76        59\n",
      "\n",
      "avg / total       0.69      0.69      0.69        95\n",
      "\n"
     ]
    }
   ],
   "source": [
    "# Setup a Classifier\n",
    "clf = linear_model.LogisticRegression(random_state=0)\n",
    "\n",
    "# tune parameter with at least 3 settings\n",
    "parameters = {'C': (1.0, 0.5, 0.25),\n",
    "              'class_weight': (None, 'balanced'),\n",
    "              'max_iter': (100, 200, 50)}\n",
    "\n",
    "f1_no_scorer = metrics.make_scorer(f1_score, greater_is_better=True, pos_label='no')\n",
    "#fbeta_scorer = metrics.make_scorer(metrics.fbeta_score, greater_is_better=True, pos_label='yes', beta=100)\n",
    "#recall_scorer = metrics.make_scorer(metrics.recall_score, greater_is_better=True, pos_label='yes')\n",
    "#est = tune_clf_model(clf, parameters, recall_scorer)\n",
    "\n",
    "est = tune_clf_model(clf, parameters, f1_no_scorer, crossval=7, rand=0)"
   ]
  },
  {
   "cell_type": "markdown",
   "metadata": {},
   "source": [
    "### Randomized search cv\n",
    "http://scikit-learn.org/stable/modules/generated/sklearn.grid_search.RandomizedSearchCV.html"
   ]
  },
  {
   "cell_type": "code",
   "execution_count": 417,
   "metadata": {
    "collapsed": true
   },
   "outputs": [],
   "source": [
    "# function to run grid search with randomized search\n",
    "def tune_clf_model_random(clf, param_dist, scorer, crossval=None, num_settings=10, rand=0):\n",
    "    # Use gridearch to fine tune the classifier and find the best model\n",
    "    reg = grid_search.RandomizedSearchCV(clf, param_distributions=param_dist, \\\n",
    "                                         n_iter=num_settings , scoring=scorer, cv=crossval)\n",
    "    \n",
    "    # Shuffle the data using different random_state values\n",
    "    X_train, X_test, y_train, y_test = cross_validation.train_test_split(X_all, y_all, \\\n",
    "                                                                     test_size=int(num_test), random_state=rand)\n",
    "    \n",
    "    # find best estimator\n",
    "    reg.fit(X_train, y_train)\n",
    "    est = reg.best_estimator_\n",
    "    print est, \"\\n\"\n",
    "    \n",
    "    # Predict best_estimator_ on training and test data\n",
    "    print \"F1 score for training set: {}\".format(predict_labels(est, X_train, y_train))\n",
    "    print \"Classification report (train):\\n\", metrics.classification_report(y_train, est.predict(X_train))\n",
    "    print \"F1 score for test set: {}\".format(predict_labels(est, X_test, y_test))\n",
    "    print \"Classification report (test):\\n\", metrics.classification_report(y_test, est.predict(X_test))\n",
    "    return est\n",
    "\n",
    "# tune parameter with at least 3 settings\n",
    "param_distributions = {'C': (1.0, 0.5, 0.25),\n",
    "              'class_weight': (None, 'balanced'),\n",
    "              'max_iter': (100, 200, 50)}"
   ]
  },
  {
   "cell_type": "markdown",
   "metadata": {},
   "source": [
    "#### Randomized grid search with Logistic Regression"
   ]
  },
  {
   "cell_type": "code",
   "execution_count": 444,
   "metadata": {
    "collapsed": false
   },
   "outputs": [
    {
     "name": "stdout",
     "output_type": "stream",
     "text": [
      "LogisticRegression(C=0.459871475141, class_weight='balanced', dual=False,\n",
      "          fit_intercept=True, intercept_scaling=1, max_iter=24.9813295197,\n",
      "          multi_class='ovr', n_jobs=1, penalty='l2', random_state=None,\n",
      "          solver='liblinear', tol=0.0001, verbose=0, warm_start=False) \n",
      "\n",
      "Predicting labels using LogisticRegression...\n",
      "Done!\n",
      "Prediction time (secs): 0.000\n",
      "F1 score for training set: 0.787564766839\n",
      "Classification report (train):\n",
      "             precision    recall  f1-score   support\n",
      "\n",
      "         no       0.55      0.70      0.62        94\n",
      "        yes       0.84      0.74      0.79       206\n",
      "\n",
      "avg / total       0.75      0.73      0.73       300\n",
      "\n",
      "Predicting labels using LogisticRegression...\n",
      "Done!\n",
      "Prediction time (secs): 0.000\n",
      "F1 score for test set: 0.780487804878\n",
      "Classification report (test):\n",
      "             precision    recall  f1-score   support\n",
      "\n",
      "         no       0.65      0.56      0.60        36\n",
      "        yes       0.75      0.81      0.78        59\n",
      "\n",
      "avg / total       0.71      0.72      0.71        95\n",
      "\n"
     ]
    }
   ],
   "source": [
    "import scipy\n",
    "\n",
    "# Setup a Classifier\n",
    "clf = linear_model.LogisticRegression(random_state=None)\n",
    "\n",
    "# tune parameter with at least 3 settings\n",
    "param_dist = {'C': scipy.stats.expon(scale=1),\n",
    "              'class_weight': (None, 'balanced'),\n",
    "              'max_iter': scipy.stats.expon(scale=100)}\n",
    "\n",
    "est = tune_clf_model_random(clf, param_dist, f1_no_scorer, crossval=7, num_settings=10, rand=0)`"
   ]
  },
  {
   "cell_type": "code",
   "execution_count": 419,
   "metadata": {
    "collapsed": false
   },
   "outputs": [
    {
     "name": "stdout",
     "output_type": "stream",
     "text": [
      "Precision for test ('no'): 0.612903225806\n",
      "Precision for test ('yes'): 0.734375\n",
      "\n",
      "Recall for test ('no'): 0.527777777778\n",
      "Recall for test ('yes'): 0.796610169492\n",
      "\n"
     ]
    }
   ],
   "source": [
    "# Look at other metrics: accuracy, precision, recall\n",
    "y_pred = est.predict(X_test)\n",
    "\n",
    "#print \"Accuracy for test: {}\\n\".format(metrics.accuracy_score(y_test, y_pred))\n",
    "print \"Precision for test ('no'): {}\".format(metrics.precision_score(y_test, y_pred, pos_label=\"no\"))\n",
    "print \"Precision for test ('yes'): {}\\n\".format(metrics.precision_score(y_test, y_pred, pos_label=\"yes\"))\n",
    "print \"Recall for test ('no'): {}\".format(metrics.recall_score(y_test, y_pred, pos_label=\"no\"))\n",
    "print \"Recall for test ('yes'): {}\\n\".format(metrics.recall_score(y_test, y_pred, pos_label=\"yes\"))"
   ]
  },
  {
   "cell_type": "markdown",
   "metadata": {},
   "source": [
    "---\n",
    "### Ensemble Methods: Boosting, Bagging (bootstrap aggregation)\n",
    "http://scikit-learn.org/stable/modules/classes.html#module-sklearn.ensemble"
   ]
  },
  {
   "cell_type": "markdown",
   "metadata": {},
   "source": [
    "#### Ada Boost"
   ]
  },
  {
   "cell_type": "code",
   "execution_count": 446,
   "metadata": {
    "collapsed": false
   },
   "outputs": [
    {
     "name": "stdout",
     "output_type": "stream",
     "text": [
      "AdaBoostClassifier(algorithm='SAMME.R', base_estimator=None,\n",
      "          learning_rate=0.25, n_estimators=50, random_state=0) \n",
      "\n",
      "Predicting labels using AdaBoostClassifier...\n",
      "Done!\n",
      "Prediction time (secs): 0.006\n",
      "F1 score for training set: 0.850971922246\n",
      "Classification report (train):\n",
      "             precision    recall  f1-score   support\n",
      "\n",
      "         no       0.79      0.36      0.50        94\n",
      "        yes       0.77      0.96      0.85       206\n",
      "\n",
      "avg / total       0.77      0.77      0.74       300\n",
      "\n",
      "Predicting labels using AdaBoostClassifier...\n",
      "Done!\n",
      "Prediction time (secs): 0.007\n",
      "F1 score for test set: 0.769230769231\n",
      "Classification report (test):\n",
      "             precision    recall  f1-score   support\n",
      "\n",
      "         no       0.64      0.19      0.30        36\n",
      "        yes       0.65      0.93      0.77        59\n",
      "\n",
      "avg / total       0.65      0.65      0.59        95\n",
      "\n"
     ]
    }
   ],
   "source": [
    "from sklearn.ensemble import AdaBoostClassifier\n",
    "\n",
    "# Setup a Classifier\n",
    "clf = AdaBoostClassifier(random_state=0)\n",
    "dt = DecisionTreeClassifier(criterion='entropy', min_samples_split=30, max_depth=6, random_state=0)\n",
    "# lr = linear_model.LogisticRegression(random_state=0)\n",
    "\n",
    "# tune parameter with at least 3 settings\n",
    "parameters = {'base_estimator': (None, dt),\n",
    "              'n_estimators': (50, 25),\n",
    "              'learning_rate': (1.0, 0.25, 0.5)}\n",
    "\n",
    "est = tune_clf_model(clf, parameters, f1_scorer, crossval=7, rand=0)"
   ]
  },
  {
   "cell_type": "markdown",
   "metadata": {},
   "source": [
    "#### Gradient Boost"
   ]
  },
  {
   "cell_type": "code",
   "execution_count": 447,
   "metadata": {
    "collapsed": false
   },
   "outputs": [
    {
     "name": "stdout",
     "output_type": "stream",
     "text": [
      "GradientBoostingClassifier(init=None, learning_rate=0.25, loss='deviance',\n",
      "              max_depth=5, max_features=None, max_leaf_nodes=None,\n",
      "              min_samples_leaf=1, min_samples_split=30,\n",
      "              min_weight_fraction_leaf=0.0, n_estimators=25,\n",
      "              presort='auto', random_state=0, subsample=1.0, verbose=0,\n",
      "              warm_start=False) \n",
      "\n",
      "Predicting labels using GradientBoostingClassifier...\n",
      "Done!\n",
      "Prediction time (secs): 0.001\n",
      "F1 score for training set: 0.983293556086\n",
      "Classification report (train):\n",
      "             precision    recall  f1-score   support\n",
      "\n",
      "         no       1.00      0.93      0.96        94\n",
      "        yes       0.97      1.00      0.98       206\n",
      "\n",
      "avg / total       0.98      0.98      0.98       300\n",
      "\n",
      "Predicting labels using GradientBoostingClassifier...\n",
      "Done!\n",
      "Prediction time (secs): 0.000\n",
      "F1 score for test set: 0.779411764706\n",
      "Classification report (test):\n",
      "             precision    recall  f1-score   support\n",
      "\n",
      "         no       0.67      0.33      0.44        36\n",
      "        yes       0.69      0.90      0.78        59\n",
      "\n",
      "avg / total       0.68      0.68      0.65        95\n",
      "\n"
     ]
    }
   ],
   "source": [
    "from sklearn.ensemble import GradientBoostingClassifier\n",
    "\n",
    "# Setup a Classifier\n",
    "clf = GradientBoostingClassifier(random_state=0)\n",
    "\n",
    "# tune parameter with at least 3 settings\n",
    "parameters = {'learning_rate': (1.0, 0.25, 0.5),\n",
    "              'n_estimators': (50, 25),\n",
    "              'max_depth': (3, 5, 10),\n",
    "              'min_samples_split': (2, 30)\n",
    "             }\n",
    "\n",
    "est = tune_clf_model(clf, parameters, f1_no_scorer, crossval=7, rand=0)"
   ]
  },
  {
   "cell_type": "markdown",
   "metadata": {},
   "source": [
    "#### Gradient Boost with randomized grid search"
   ]
  },
  {
   "cell_type": "code",
   "execution_count": 456,
   "metadata": {
    "collapsed": false
   },
   "outputs": [
    {
     "name": "stdout",
     "output_type": "stream",
     "text": [
      "GradientBoostingClassifier(init=None, learning_rate=0.047173622021,\n",
      "              loss='deviance', max_depth=8, max_features=None,\n",
      "              max_leaf_nodes=None, min_samples_leaf=1,\n",
      "              min_samples_split=16, min_weight_fraction_leaf=0.0,\n",
      "              n_estimators=43, presort='auto', random_state=0,\n",
      "              subsample=1.0, verbose=0, warm_start=False) \n",
      "\n",
      "Predicting labels using GradientBoostingClassifier...\n",
      "Done!\n",
      "Prediction time (secs): 0.001\n",
      "F1 score for training set: 0.983293556086\n",
      "Classification report (train):\n",
      "             precision    recall  f1-score   support\n",
      "\n",
      "         no       1.00      0.93      0.96        94\n",
      "        yes       0.97      1.00      0.98       206\n",
      "\n",
      "avg / total       0.98      0.98      0.98       300\n",
      "\n",
      "Predicting labels using GradientBoostingClassifier...\n",
      "Done!\n",
      "Prediction time (secs): 0.000\n",
      "F1 score for test set: 0.779411764706\n",
      "Classification report (test):\n",
      "             precision    recall  f1-score   support\n",
      "\n",
      "         no       0.67      0.33      0.44        36\n",
      "        yes       0.69      0.90      0.78        59\n",
      "\n",
      "avg / total       0.68      0.68      0.65        95\n",
      "\n"
     ]
    }
   ],
   "source": [
    "# random grid search\n",
    "\n",
    "# Setup a Classifier\n",
    "clf = GradientBoostingClassifier(random_state=0)\n",
    "\n",
    "# tune parameter(s)\n",
    "param_dist = {'learning_rate': scipy.stats.expon(scale=1),\n",
    "              'n_estimators': scipy.stats.randint(25,50),\n",
    "              'max_depth': scipy.stats.randint(5,10),\n",
    "              'min_samples_split': scipy.stats.randint(2,30)\n",
    "             }\n",
    "\n",
    "est = tune_clf_model_random(clf, param_dist, f1_no_scorer, crossval=7, num_settings=10, rand=0)"
   ]
  },
  {
   "cell_type": "markdown",
   "metadata": {},
   "source": [
    "#### Bagging Classifier"
   ]
  },
  {
   "cell_type": "code",
   "execution_count": 449,
   "metadata": {
    "collapsed": false
   },
   "outputs": [
    {
     "name": "stdout",
     "output_type": "stream",
     "text": [
      "BaggingClassifier(base_estimator=None, bootstrap=True,\n",
      "         bootstrap_features=False, max_features=1.0, max_samples=1.0,\n",
      "         n_estimators=10, n_jobs=1, oob_score=False, random_state=0,\n",
      "         verbose=0, warm_start=False) \n",
      "\n",
      "Predicting labels using BaggingClassifier...\n",
      "Done!\n",
      "Prediction time (secs): 0.001\n",
      "F1 score for training set: 0.997578692494\n",
      "Classification report (train):\n",
      "             precision    recall  f1-score   support\n",
      "\n",
      "         no       1.00      0.99      0.99        94\n",
      "        yes       1.00      1.00      1.00       206\n",
      "\n",
      "avg / total       1.00      1.00      1.00       300\n",
      "\n",
      "Predicting labels using BaggingClassifier...\n",
      "Done!\n",
      "Prediction time (secs): 0.001\n",
      "F1 score for test set: 0.75\n",
      "Classification report (test):\n",
      "             precision    recall  f1-score   support\n",
      "\n",
      "         no       0.58      0.42      0.48        36\n",
      "        yes       0.70      0.81      0.75        59\n",
      "\n",
      "avg / total       0.65      0.66      0.65        95\n",
      "\n"
     ]
    }
   ],
   "source": [
    "from sklearn.ensemble import BaggingClassifier\n",
    "\n",
    "# Setup a Classifier\n",
    "clf = BaggingClassifier(random_state=0)\n",
    "dt = DecisionTreeClassifier(criterion='entropy', min_samples_split=100, random_state=0)\n",
    "lr = linear_model.LogisticRegression(C=0.5, random_state=0)\n",
    "\n",
    "# tune parameter with at least 3 settings\n",
    "parameters = {'base_estimator': (None, dt, lr),\n",
    "              'n_estimators': (10, 25),\n",
    "              'bootstrap': (True, False),\n",
    "              'bootstrap_features': (True, False),\n",
    "             }\n",
    "\n",
    "est = tune_clf_model(clf, parameters, f1_no_scorer)"
   ]
  }
 ],
 "metadata": {
  "kernelspec": {
   "display_name": "Python 2",
   "language": "python",
   "name": "python2"
  },
  "language_info": {
   "codemirror_mode": {
    "name": "ipython",
    "version": 2
   },
   "file_extension": ".py",
   "mimetype": "text/x-python",
   "name": "python",
   "nbconvert_exporter": "python",
   "pygments_lexer": "ipython2",
   "version": "2.7.11"
  }
 },
 "nbformat": 4,
 "nbformat_minor": 0
}
